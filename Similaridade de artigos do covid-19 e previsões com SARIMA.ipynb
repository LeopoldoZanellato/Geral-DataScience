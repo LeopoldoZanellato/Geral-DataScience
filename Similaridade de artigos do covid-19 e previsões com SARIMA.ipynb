{
 "cells": [
  {
   "cell_type": "markdown",
   "metadata": {},
   "source": [
    "Notebook em complemento aos meus outros trabalhos, todos então disponíveis em meu github. Esse é um dos desafios disponíveis no Kaggle sobre o covid-19, e tentarei durante o trabalho realizar algumas das taferas.\n",
    "\n",
    "https://www.kaggle.com/allen-institute-for-ai/CORD-19-research-challenge/tasks\n",
    "\n",
    "\n",
    "O dataset disponível hoje, tem um total de mais de 13GB e 120 mil artigos, no que eu trabalharei possui cerca de 3GB e 20 mil artigos.\n",
    "Um dos motivos pelo qual não utilizarei o de 13GB é de que utilizaria muita memória e tomaria muito tempo, e esse não é o propósito. O propósito é de apresentar pequenas soluções e demonstrar como o uso do machine learning poderá ajudar os profissionais de saúdes no combate ao covid-19\n",
    "\n",
    "Esse trabalho será divido em 2 partes:\n",
    "\n",
    "Primeira parte a de exploração de dados dos artigos científicos, onde buscarei algumas respostas pelos desafios e como de uma maneira facil poderemos responder todos eles\n",
    "\n",
    "Segunda parte é a simulação de predições com a base de dados disponível pelo ministério da saúde. \n",
    "\n",
    "\n",
    "Começaremos pelo tratamento dos dados:"
   ]
  },
  {
   "cell_type": "code",
   "execution_count": 1,
   "metadata": {
    "collapsed": true
   },
   "outputs": [],
   "source": [
    "#import glob, json, zipfile\n",
    "\"\"\"from bokeh.models import ColumnDataSource, HoverTool, LinearColorMapper, CustomJS\n",
    "from bokeh.palettes import Category20\n",
    "from bokeh.transform import linear_cmap\n",
    "from bokeh.io import output_file, show\n",
    "from bokeh.transform import transform\n",
    "from bokeh.io import output_notebook\n",
    "from bokeh.plotting import figure\n",
    "from bokeh.layouts import column\n",
    "from bokeh.models import RadioButtonGroup\n",
    "from bokeh.models import TextInput\n",
    "from bokeh.layouts import gridplot\n",
    "from bokeh.models import Div\n",
    "from bokeh.models import Paragraph\n",
    "from bokeh.layouts import column, widgetbox\"\"\"\n",
    "\n",
    "\n",
    "import numpy as np\n",
    "import pandas as pd\n",
    "import seaborn as sns\n",
    "import spacy, scispacy, operator\n",
    "import matplotlib.pyplot as plt\n",
    "import en_core_sci_md\n",
    "\n",
    "from sklearn.feature_extraction.text import TfidfVectorizer\n",
    "from IPython.core.display import HTML\n",
    "from sklearn.model_selection import train_test_split\n",
    "from sklearn.decomposition import PCA\n",
    "from sklearn.cluster import MiniBatchKMeans\n",
    "from sklearn.feature_extraction.text import TfidfVectorizer\n",
    "from sklearn.metrics.pairwise import cosine_similarity\n",
    "from statsmodels.tools.eval_measures import rmse, mse\n",
    "from statsmodels.tsa.statespace.sarimax import SARIMAX\n",
    "from statsmodels.tsa.seasonal import seasonal_decompose\n",
    "from statsmodels.graphics.tsaplots import plot_acf,plot_pacf\n",
    "from statsmodels.tsa.statespace.tools import diff\n",
    "from pmdarima import auto_arima\n",
    "from statsmodels.tsa.stattools import adfuller\n",
    "\n",
    "import warnings\n",
    "warnings.filterwarnings(\"ignore\")\n",
    "%matplotlib inline"
   ]
  },
  {
   "cell_type": "code",
   "execution_count": null,
   "metadata": {
    "collapsed": true
   },
   "outputs": [],
   "source": [
    "\"\"\"from google.colab import drive\n",
    "drive.mount(\"/content/gdrive\")\"\"\"\n",
    "\n",
    "\"\"\"import zipfile\n",
    "path = '/content/gdrive/My Drive/CORD-19-research-challenge.zip'\n",
    "zip_object = zipfile.ZipFile(file = path, mode = 'r')\n",
    "zip_object.extractall('./')\n",
    "zip_object.close()\"\"\";"
   ]
  },
  {
   "cell_type": "code",
   "execution_count": null,
   "metadata": {
    "collapsed": true
   },
   "outputs": [],
   "source": [
    "corona_features = {'paper_id': [], 'title': [],\n",
    "                   'abstract': [], 'text': []}\n",
    "\n",
    "corona_df = pd.DataFrame.from_dict(corona_features)\n",
    "\n",
    "json_filenames = glob.glob(f'{\"./\"}//**/*.json', recursive = True)"
   ]
  },
  {
   "cell_type": "code",
   "execution_count": null,
   "metadata": {
    "collapsed": true
   },
   "outputs": [],
   "source": [
    "def return_corona_df(json_filenames, df):\n",
    "    for file_name in json_filenames:\n",
    "        row = {'paper_id': None, 'title': None,\n",
    "           'abstract': None,'text': None}\n",
    "    \n",
    "        with open(file_name) as json_data:\n",
    "            try:\n",
    "                if file_name == \"./sample_data/anscombe.json\":\n",
    "                    continue\n",
    "      \n",
    "                data = json.load(json_data)\n",
    "\n",
    "                row['paper_id'] = data['paper_id'].strip()\n",
    "                row['title'] = data['metadata']['title'].strip()\n",
    "\n",
    "                abstract_list = [abstract['text'] for abstract in data['abstract']]\n",
    "                abstract = '\\n '.join (abstract_list)\n",
    "                row['abstract'] = abstract.strip()\n",
    "\n",
    "                text_list = [text['text'] for text in data['body_text']]\n",
    "                text = '\\n '.join(text_list)\n",
    "                row['text'] = text.strip()\n",
    "\n",
    "                df = df.append(row, ignore_index = True)\n",
    "            except:\n",
    "                pass \n",
    "    return df"
   ]
  },
  {
   "cell_type": "code",
   "execution_count": null,
   "metadata": {
    "collapsed": true
   },
   "outputs": [],
   "source": [
    "corona_df = return_corona_df(json_filenames, corona_df)\n",
    "corona_df.head()\n",
    "corona_df = corona_df[corona_df['title']!= \"\"]\n",
    "corona_df = corona_df[corona_df['abstract']!= \"\"]\n",
    "corona_df.drop_duplicates(['abstract','text','title'], inplace=True)\n",
    "corona_df.shape\n",
    "corona_df.to_csv(\"pre_processado.csv\")"
   ]
  },
  {
   "cell_type": "code",
   "execution_count": null,
   "metadata": {
    "collapsed": true
   },
   "outputs": [],
   "source": [
    "nlp = en_core_sci_md.load(disable = ['tagger', 'parser', 'ner'])\n",
    "nlp.max_length = 2000000"
   ]
  },
  {
   "cell_type": "code",
   "execution_count": null,
   "metadata": {
    "collapsed": true
   },
   "outputs": [],
   "source": [
    "new_stop_words = ['et', 'al','doi','cppyright','http', \n",
    "                  'https', 'fig','table','result','show']\n",
    "for word in new_stop_words:\n",
    "    nlp.vocab[word].is_stop = True"
   ]
  },
  {
   "cell_type": "markdown",
   "metadata": {},
   "source": [
    "Durante o tratamento dos dados realizaremos a lemmatização, e a função abaixo servirá para isso.\n",
    "\n",
    "\n",
    "A lematização é uma técnica, geralmente utilizada por buscador de palavras em sites, para abranger a quantidade de opções de palavras relacionadas a palavra buscada, ignorando o tempo verbal caso seja um verbo, o gênero da palavra, o plural e etc.\n",
    "\n",
    "Por exemplo, as palavras pensamento, pensando, e derivadas delas serão trocadas todas por \"pensar\", facilitando assim a \"padronização\" do texto.\n",
    "\n",
    "Serão retirados também todos os números (que estão sozinhos), stop words (palavras de ligação que são irrelevantes ao conjunto dos resultados), pontuações e espaços indevidos "
   ]
  },
  {
   "cell_type": "code",
   "execution_count": 2,
   "metadata": {
    "collapsed": true
   },
   "outputs": [],
   "source": [
    "def spacy_tokenizer(sentence):\n",
    "    sentence = sentence.lower()\n",
    "    lista = []\n",
    "    lista = [word.lemma_ for word in nlp(sentence) if not (word.is_stop or\n",
    "                                                         word.like_num or\n",
    "                                                         word.is_punct or \n",
    "                                                         word.is_space or\n",
    "                                                         len(word)==1)]\n",
    "    lista = ' '.join([str(element) for element in lista])\n",
    "    return lista"
   ]
  },
  {
   "cell_type": "code",
   "execution_count": null,
   "metadata": {
    "collapsed": true
   },
   "outputs": [],
   "source": [
    "corona_df['text'] = corona_df['text'].apply(spacy_tokenizer)"
   ]
  },
  {
   "cell_type": "code",
   "execution_count": null,
   "metadata": {
    "collapsed": true
   },
   "outputs": [],
   "source": [
    "corona_df.to_csv(\"pos_processamento.csv\", encoding = \"UTF-8\")"
   ]
  },
  {
   "cell_type": "code",
   "execution_count": 3,
   "metadata": {
    "collapsed": true
   },
   "outputs": [],
   "source": [
    "corona_df_completo = pd.read_csv(\"pos_processamento.csv\", index_col = 0)"
   ]
  },
  {
   "cell_type": "code",
   "execution_count": 4,
   "metadata": {},
   "outputs": [
    {
     "data": {
      "text/html": [
       "<div>\n",
       "<style scoped>\n",
       "    .dataframe tbody tr th:only-of-type {\n",
       "        vertical-align: middle;\n",
       "    }\n",
       "\n",
       "    .dataframe tbody tr th {\n",
       "        vertical-align: top;\n",
       "    }\n",
       "\n",
       "    .dataframe thead th {\n",
       "        text-align: right;\n",
       "    }\n",
       "</style>\n",
       "<table border=\"1\" class=\"dataframe\">\n",
       "  <thead>\n",
       "    <tr style=\"text-align: right;\">\n",
       "      <th></th>\n",
       "      <th>paper_id</th>\n",
       "      <th>title</th>\n",
       "      <th>abstract</th>\n",
       "      <th>text</th>\n",
       "    </tr>\n",
       "  </thead>\n",
       "  <tbody>\n",
       "    <tr>\n",
       "      <th>0</th>\n",
       "      <td>313dd0869f169624e78d770963eacb0d1641cafa</td>\n",
       "      <td>Structure of M pro from COVID-19 virus and dis...</td>\n",
       "      <td>A new coronavirus (CoV) identified as COVID-19...</td>\n",
       "      <td>kinetic analysis extend datum fig. 1e catalyti...</td>\n",
       "    </tr>\n",
       "    <tr>\n",
       "      <th>1</th>\n",
       "      <td>5ba386b58c8d194e8cbe581eed95f7c64d05cd53</td>\n",
       "      <td>A Toolkit for Rapid Modular Construction of Bi...</td>\n",
       "      <td>The ability to rapidly assemble and prototype ...</td>\n",
       "      <td>molecular clone cornerstone modern biological ...</td>\n",
       "    </tr>\n",
       "    <tr>\n",
       "      <th>2</th>\n",
       "      <td>bfed3ce6a6df2d442d96d0cab07d4bc1f2347255</td>\n",
       "      <td>Seattle Flu Study -Swab and Send: Study Protoc...</td>\n",
       "      <td>While seasonal influenza and other respiratory...</td>\n",
       "      <td>acute respiratory illness aris pose significan...</td>\n",
       "    </tr>\n",
       "    <tr>\n",
       "      <th>3</th>\n",
       "      <td>ee3aa97a0ad91231296bd0643136c83bb97af88a</td>\n",
       "      <td>Multi-city modeling of epidemics using spatial...</td>\n",
       "      <td>The ongoing pandemic of 2019-nCov (COVID-19) c...</td>\n",
       "      <td>follow onset wuhan china pandemic 2019-ncov co...</td>\n",
       "    </tr>\n",
       "    <tr>\n",
       "      <th>4</th>\n",
       "      <td>a34d2c1876ffedc4f95f3af13ac06039cd38a5b0</td>\n",
       "      <td>Estimating the infection and case fatality rat...</td>\n",
       "      <td>Adjusting for delay from confirmation-to-death...</td>\n",
       "      <td>real-time estimate case fatality ratio cfr inf...</td>\n",
       "    </tr>\n",
       "  </tbody>\n",
       "</table>\n",
       "</div>"
      ],
      "text/plain": [
       "                                   paper_id  \\\n",
       "0  313dd0869f169624e78d770963eacb0d1641cafa   \n",
       "1  5ba386b58c8d194e8cbe581eed95f7c64d05cd53   \n",
       "2  bfed3ce6a6df2d442d96d0cab07d4bc1f2347255   \n",
       "3  ee3aa97a0ad91231296bd0643136c83bb97af88a   \n",
       "4  a34d2c1876ffedc4f95f3af13ac06039cd38a5b0   \n",
       "\n",
       "                                               title  \\\n",
       "0  Structure of M pro from COVID-19 virus and dis...   \n",
       "1  A Toolkit for Rapid Modular Construction of Bi...   \n",
       "2  Seattle Flu Study -Swab and Send: Study Protoc...   \n",
       "3  Multi-city modeling of epidemics using spatial...   \n",
       "4  Estimating the infection and case fatality rat...   \n",
       "\n",
       "                                            abstract  \\\n",
       "0  A new coronavirus (CoV) identified as COVID-19...   \n",
       "1  The ability to rapidly assemble and prototype ...   \n",
       "2  While seasonal influenza and other respiratory...   \n",
       "3  The ongoing pandemic of 2019-nCov (COVID-19) c...   \n",
       "4  Adjusting for delay from confirmation-to-death...   \n",
       "\n",
       "                                                text  \n",
       "0  kinetic analysis extend datum fig. 1e catalyti...  \n",
       "1  molecular clone cornerstone modern biological ...  \n",
       "2  acute respiratory illness aris pose significan...  \n",
       "3  follow onset wuhan china pandemic 2019-ncov co...  \n",
       "4  real-time estimate case fatality ratio cfr inf...  "
      ]
     },
     "execution_count": 4,
     "metadata": {},
     "output_type": "execute_result"
    }
   ],
   "source": [
    "corona_df_completo.head()"
   ]
  },
  {
   "cell_type": "markdown",
   "metadata": {},
   "source": [
    "Após o tratamento de dados podemos ver como ficou um dos textos"
   ]
  },
  {
   "cell_type": "code",
   "execution_count": 5,
   "metadata": {},
   "outputs": [
    {
     "data": {
      "text/plain": [
       "'kinetic analysis extend datum fig. 1e catalytic efficiency kcat/km covid-19 virus pro measure −1 −1 slightly high sars- cov pro kcat/km=26,500 −1 −1 30-fold high human rhinovirus 3c protease kcat/km=920 −1 −1 previous study design michael acceptor inhibitor n3 computer-aided drug design cadd extend datum fig. 1c specifically inhibit multiple cov utilize evaluate inhibition approximation pseudo second-order rate 11,300±880 suggest michael acceptor potent inhibition crystal structure covid-19 virus pro complex n3 order elucidate inhibitory mechanism compound determine crystal structure covid-19 virus pro complex n3 2.1-å resolution asymmetric unit contain polypeptide extend datum associate form dimer crystallographic 2-fold symmetry axis molecule designate protomer fig. 1b residue residue visible electron density map protomer compose domain fig. 1a domain residue residue antiparallel β-barrel structure domain residue contain α-helices arrange largely antiparallel globular cluster connect domain mean long loop region residue strand155 residue loop link domain detail specific interaction n3 pro fig. 1c electron density show sγ atom c145-a form covalent bond 1.8-å cβ vinyl group confirm michael addition occur s1 subsite absolute requirement gln p1 position chain f140-a n142-a e166-a h163 h172-a s1-b protomer main chain f140-a l141-a involve s1 subsite formation include order water molecule name w1 w2 lactam p1 insert s1 subsite form hydrogen bond h163 a. chain leu p2 site insert deeply hydrophobic s2 subsite consist chain h41-a m49-a y54-a m165-a alkyl portion chain d187-a chain val p3 solvent-exposed indicate s1′ site form van der waals interaction t24-a t25-a addition n3 form multiple hydrogen bond main chain residue substrate-binding pocket help lock inhibitor inside substrate-binding pocket conformation attribute order water w1 sars-cov pro -n1 structure make long distance hydrogen bond carboxylate oxygen ester form hydrogen bond backbone nh g143 chain n142 previous study propose cov pro share highly conserve substrate-recognition pocket serve drug target design broad-spectrum inhibitor recent discovery new covs accumulation structural datum cov pro species provide opportunity examine hypothesis superposition crystal structure pro show variable region helical domain surface loop substrate-binding pocket locate cleave domain highly conserve cov pro suggest antiviral inhibitor target site wide-spectrum anti-cov activity fig. 2b μm detergent-based assay tdzd-8 find aggregate-based author/funder right reserve reuse allow permission copyright holder preprint peer-reviewed https://doi.org/10.1101/2020.02.26.964882 biorxiv preprint inhibitor non-specifically inhibit pro extend datum fig. consider investigation structural datum base n3 investigate molecular dock predict inhibitor bind protein case reasonable dock pose find demonstrate fit inside substrate-binding pocket extend datum fig. set identify potential covalent inhibitor compound tandem ms/ms analysis ms/ms datum show ebselen px-12 carmofur able covalently bind fig. ebselen strong inhibition possibility ebselen inhibit pro non-covalent bind compound investigate treatment multiple disease bipolar author/funder right reserve reuse allow permission copyright holder preprint peer-reviewed https://doi.org/10.1101/2020.02.26.964882 biorxiv preprint disorder hear loss ebselen extremely low cytotoxicity ld50 rat mg/kg os safety human evaluate numb clinical trial datum strongly suggest clinical potential ebselen cov treatment interest cinanserin display moderate inhibition covid- virus ec50 value μm qrt-pcr analysis extend datum fig. superior enzymatic inhibition assay suggest cinanserin phenotypic screen prove valuable complexity approach readily compatible high-throughput pipeline identify molecular target mechanism action study convergence structure-based ab initio author/funder right reserve reuse allow permission copyright holder preprint peer-reviewed https://doi.org/10.1101/2020.02.26.964882 biorxiv preprint drug design virtual screen high-throughput screen prove efficient strategy find antiviral lead covid-19 virus method present greatly assist rapid discovery drug lead clinical potential response new emerge infectious disease currently lack specific drug vaccine copyright holder preprint peer-reviewed https://doi.org/10.1101/2020.02.26.964882 biorxiv preprint copyright holder preprint peer-reviewed https://doi.org/10.1101/2020.02.26.964882 biorxiv preprint copyright holder preprint peer-reviewed https://doi.org/10.1101/2020.02.26.964882 biorxiv preprint ebselen n3 plaque-reduction assay respectively datum show mean s.e.m technical replicate author/funder right reserve reuse allow permission copyright holder preprint peer-reviewed https://doi.org/10.1101/2020.02.26.964882 biorxiv preprint full-length gene encode covid-19 virus pro optimize synthesize copyright holder preprint peer-reviewed https://doi.org/10.1101/2020.02.26.964882 biorxiv preprint initial complex finally complex optimize re-scored mm-gbsa module schrödinger residue ligand refine discussion thank staff beamline bl17u1 bl18u1 bl19u1 author/funder right reserve reuse allow permission copyright holder preprint peer-reviewed https://doi.org/10.1101/2020.02.26.964882 biorxiv preprint shanghai synchrotron radiation facility china work support grant copyright holder preprint peer-reviewed https://doi.org/10.1101/2020.02.26.964882 biorxiv preprint'"
      ]
     },
     "execution_count": 5,
     "metadata": {},
     "output_type": "execute_result"
    }
   ],
   "source": [
    "corona_df_completo.iloc[0][\"text\"]"
   ]
  },
  {
   "cell_type": "code",
   "execution_count": 6,
   "metadata": {},
   "outputs": [
    {
     "name": "stdout",
     "output_type": "stream",
     "text": [
      "(20209, 4)\n"
     ]
    }
   ],
   "source": [
    "corona_df_completo.dropna(inplace=True)\n",
    "print(corona_df_completo.shape)"
   ]
  },
  {
   "cell_type": "code",
   "execution_count": 7,
   "metadata": {
    "collapsed": true
   },
   "outputs": [],
   "source": [
    "dataset_texts = corona_df_completo['text'].tolist()"
   ]
  },
  {
   "cell_type": "code",
   "execution_count": 8,
   "metadata": {
    "collapsed": true
   },
   "outputs": [
    {
     "data": {
      "text/plain": [
       "20209"
      ]
     },
     "execution_count": 8,
     "metadata": {},
     "output_type": "execute_result"
    }
   ],
   "source": [
    "len(dataset_texts)"
   ]
  },
  {
   "cell_type": "code",
   "execution_count": 9,
   "metadata": {
    "collapsed": true
   },
   "outputs": [
    {
     "data": {
      "text/plain": [
       "<20209x4096 sparse matrix of type '<class 'numpy.float64'>'\n",
       "\twith 11337072 stored elements in Compressed Sparse Row format>"
      ]
     },
     "execution_count": 9,
     "metadata": {},
     "output_type": "execute_result"
    }
   ],
   "source": [
    "tfidf = TfidfVectorizer(max_features=2**12) #utilização desse vetor para limitação do tamanho da matriz esparsa\n",
    "vectorized = tfidf.fit_transform(dataset_texts)\n",
    "vectorized"
   ]
  },
  {
   "cell_type": "code",
   "execution_count": 10,
   "metadata": {
    "collapsed": true
   },
   "outputs": [],
   "source": [
    "pca = PCA(n_components = 2)\n",
    "X_pca = pca.fit_transform(vectorized.toarray())\n",
    "components = pca.explained_variance_ratio_"
   ]
  },
  {
   "cell_type": "code",
   "execution_count": 11,
   "metadata": {},
   "outputs": [
    {
     "data": {
      "text/plain": [
       "Text(0, 0.5, 'WCSS')"
      ]
     },
     "execution_count": 11,
     "metadata": {},
     "output_type": "execute_result"
    },
    {
     "data": {
      "image/png": "[encoded data removed]",
      "text/plain": [
       "<Figure size 432x288 with 1 Axes>"
      ]
     },
     "metadata": {
      "needs_background": "light"
     },
     "output_type": "display_data"
    }
   ],
   "source": [
    "wcss = []\n",
    "for i in range(1,21):\n",
    "    kmeans = MiniBatchKMeans(n_clusters = i, random_state = 0)\n",
    "    kmeans.fit(vectorized)\n",
    "    wcss.append(kmeans.inertia_)\n",
    "plt.plot(range(1,21), wcss)\n",
    "plt.xlabel('Number of Clusters')\n",
    "plt.ylabel(\"WCSS\")"
   ]
  },
  {
   "cell_type": "markdown",
   "metadata": {},
   "source": [
    "A seguir será feita a definição dos clusters, apesar do gráfico demonstar que seriam interessantes 15 clusters, apenas para fins de demonstração, farei apenas com 5 grupos para uma melhor visualização, o interessante que conforme passamos o mouse pelos pontos, podemos ler cada um dos títulos e o contexto do artigo"
   ]
  },
  {
   "cell_type": "code",
   "execution_count": 12,
   "metadata": {
    "collapsed": true
   },
   "outputs": [],
   "source": [
    "k = 5\n",
    "kmeans = MiniBatchKMeans(n_clusters=k, random_state=16)\n",
    "y_pred = kmeans.fit_predict(vectorized)"
   ]
  },
  {
   "cell_type": "code",
   "execution_count": 28,
   "metadata": {},
   "outputs": [
    {
     "data": {
      "text/plain": [
       "Text(0.5, 1.0, 'Covid-19 Papers')"
      ]
     },
     "execution_count": 28,
     "metadata": {},
     "output_type": "execute_result"
    },
    {
     "data": {
      "image/png": "[encoded data removed]",
      "text/plain": [
       "<Figure size 504x360 with 1 Axes>"
      ]
     },
     "metadata": {
      "needs_background": "light"
     },
     "output_type": "display_data"
    }
   ],
   "source": [
    "plt.figure(figsize=(7,5))\n",
    "sns.scatterplot(X_pca[:,0], X_pca[:,1], hue=y_pred,palette=\"bright\")\n",
    "plt.title(\"Covid-19 Papers\")"
   ]
  },
  {
   "cell_type": "markdown",
   "metadata": {},
   "source": [
    "Até agora foi utilizado o dataset completo, a partir desse ponto, utilizarei apenas uma amostra de 500 artigos para que não demore muito tempo. O propósito é demonstrar as ferramentas e como podem ser utilizadas"
   ]
  },
  {
   "cell_type": "code",
   "execution_count": 14,
   "metadata": {},
   "outputs": [
    {
     "data": {
      "text/html": [
       "<div>\n",
       "<style scoped>\n",
       "    .dataframe tbody tr th:only-of-type {\n",
       "        vertical-align: middle;\n",
       "    }\n",
       "\n",
       "    .dataframe tbody tr th {\n",
       "        vertical-align: top;\n",
       "    }\n",
       "\n",
       "    .dataframe thead th {\n",
       "        text-align: right;\n",
       "    }\n",
       "</style>\n",
       "<table border=\"1\" class=\"dataframe\">\n",
       "  <thead>\n",
       "    <tr style=\"text-align: right;\">\n",
       "      <th></th>\n",
       "      <th>paper_id</th>\n",
       "      <th>title</th>\n",
       "      <th>abstract</th>\n",
       "      <th>text</th>\n",
       "    </tr>\n",
       "  </thead>\n",
       "  <tbody>\n",
       "    <tr>\n",
       "      <th>14598</th>\n",
       "      <td>98e85066186167e53509cadef5d5389f2087da2e</td>\n",
       "      <td>Mesodynamics in the SARS nucleocapsid measured...</td>\n",
       "      <td>Protein motions on all timescales faster than ...</td>\n",
       "      <td>dynamic nature protein key element function pr...</td>\n",
       "    </tr>\n",
       "    <tr>\n",
       "      <th>25534</th>\n",
       "      <td>76241f85fbee07bdf466214c02c4bccd79706436</td>\n",
       "      <td>Novel circular single-stranded DNA viruses ide...</td>\n",
       "      <td>Rosario K, Schenck RO, Harbeitner RC, Lawler S...</td>\n",
       "      <td>viral metagenomics shotgun sequence total nucl...</td>\n",
       "    </tr>\n",
       "    <tr>\n",
       "      <th>21047</th>\n",
       "      <td>874e540a730ee1060365af8d2caa03f537508e33</td>\n",
       "      <td>A Human DPP4-Knockin Mouse's Susceptibility to...</td>\n",
       "      <td>Infection by the Middle East respiratory syndr...</td>\n",
       "      <td>accord world health organization late report m...</td>\n",
       "    </tr>\n",
       "    <tr>\n",
       "      <th>11440</th>\n",
       "      <td>d5fe64c1a40f8bd7aa905ec2ae30e911eacadb53</td>\n",
       "      <td>Enhancement of target-DNA hybridization effici...</td>\n",
       "      <td>The enhancement of hybridization efficiency of...</td>\n",
       "      <td>benefit inherit manufacture process semiconduc...</td>\n",
       "    </tr>\n",
       "    <tr>\n",
       "      <th>9771</th>\n",
       "      <td>d783f56cc0176b2a634a6c4e8a2679fda162acd5</td>\n",
       "      <td>Synthetic peptides coupled to the surface of l...</td>\n",
       "      <td>We investigated whether the surface-linked lip...</td>\n",
       "      <td>severe acute respiratory syndrome sars novel i...</td>\n",
       "    </tr>\n",
       "  </tbody>\n",
       "</table>\n",
       "</div>"
      ],
      "text/plain": [
       "                                       paper_id  \\\n",
       "14598  98e85066186167e53509cadef5d5389f2087da2e   \n",
       "25534  76241f85fbee07bdf466214c02c4bccd79706436   \n",
       "21047  874e540a730ee1060365af8d2caa03f537508e33   \n",
       "11440  d5fe64c1a40f8bd7aa905ec2ae30e911eacadb53   \n",
       "9771   d783f56cc0176b2a634a6c4e8a2679fda162acd5   \n",
       "\n",
       "                                                   title  \\\n",
       "14598  Mesodynamics in the SARS nucleocapsid measured...   \n",
       "25534  Novel circular single-stranded DNA viruses ide...   \n",
       "21047  A Human DPP4-Knockin Mouse's Susceptibility to...   \n",
       "11440  Enhancement of target-DNA hybridization effici...   \n",
       "9771   Synthetic peptides coupled to the surface of l...   \n",
       "\n",
       "                                                abstract  \\\n",
       "14598  Protein motions on all timescales faster than ...   \n",
       "25534  Rosario K, Schenck RO, Harbeitner RC, Lawler S...   \n",
       "21047  Infection by the Middle East respiratory syndr...   \n",
       "11440  The enhancement of hybridization efficiency of...   \n",
       "9771   We investigated whether the surface-linked lip...   \n",
       "\n",
       "                                                    text  \n",
       "14598  dynamic nature protein key element function pr...  \n",
       "25534  viral metagenomics shotgun sequence total nucl...  \n",
       "21047  accord world health organization late report m...  \n",
       "11440  benefit inherit manufacture process semiconduc...  \n",
       "9771   severe acute respiratory syndrome sars novel i...  "
      ]
     },
     "execution_count": 14,
     "metadata": {},
     "output_type": "execute_result"
    }
   ],
   "source": [
    "corona_df = corona_df_completo.copy()\n",
    "corona_df = corona_df.sample(n = 500, random_state = 0)\n",
    "corona_df.head()"
   ]
  },
  {
   "cell_type": "code",
   "execution_count": 24,
   "metadata": {},
   "outputs": [],
   "source": [
    "text = str(corona_df['text'][25534][:500])\n",
    "nlp_ent = spacy.load(\"en_core_web_sm\") \n",
    "nlp_ent.max_length = 2000000"
   ]
  },
  {
   "cell_type": "code",
   "execution_count": 26,
   "metadata": {},
   "outputs": [],
   "source": [
    "doc = nlp_ent(text)"
   ]
  },
  {
   "cell_type": "markdown",
   "metadata": {},
   "source": [
    "Utilizarei a biblioteca Spacy para fazer a leitura de linguagem natural. Trouxe uma definição de linguagem natural segundo o site do wikipedia:\n",
    "\n",
    "Língua natural (língua humana, língua idiomática, ou somente língua ou idioma) é qualquer linguagem desenvolvida naturalmente pelo ser humano, de forma não premeditada, como resultado da facilidade inata para a linguagem possuída pelo intelecto humano. Vários exemplos podem ser dados como as línguas faladas e as línguas de sinais. A linguagem natural é normalmente utilizada para a comunicação. As línguas naturais são diferentes das línguas construídas e das línguas formais, tais como a linguística computacional, a língua escrita, a linguagem animal e as linguagens usadas no estudo formal da lógica, especialmente da lógica matemática.\n",
    "\n",
    "Um exemplo disso é que o próprio algoritmo ja define o que é localização, pessoas, nacionalidade, nomes próprio etc... Assim, podemos verificar os países que são mais citados nos textos"
   ]
  },
  {
   "cell_type": "markdown",
   "metadata": {},
   "source": [
    "Abaixo podemos ver como o modelo se comporta quando separa as entidades, pessoas, datas, localizações etc.."
   ]
  },
  {
   "cell_type": "code",
   "execution_count": 27,
   "metadata": {},
   "outputs": [
    {
     "data": {
      "text/html": [
       "<span class=\"tex2jax_ignore\"><div class=\"entities\" style=\"line-height: 2.5; direction: ltr\">viral metagenomics shotgun sequence total nucleic acid purify virus particle enable examination viral community prior knowledge virus present result unprecedented view viral diversity \n",
       "<mark class=\"entity\" style=\"background: #aa9cfc; padding: 0.45em 0.6em; margin: 0 0.25em; line-height: 1; border-radius: 0.35em;\">\n",
       "    breitbart al.\n",
       "    <span style=\"font-size: 0.8em; font-weight: bold; line-height: 1; border-radius: 0.35em; text-transform: uppercase; vertical-align: middle; margin-left: 0.5rem\">PERSON</span>\n",
       "</mark>\n",
       " edwards rohwer angly al. technique uncover novel viral type extend environmental distribution know \n",
       "<mark class=\"entity\" style=\"background: #7aecec; padding: 0.45em 0.6em; margin: 0 0.25em; line-height: 1; border-radius: 0.35em;\">\n",
       "    viral group delwart\n",
       "    <span style=\"font-size: 0.8em; font-weight: bold; line-height: 1; border-radius: 0.35em; text-transform: uppercase; vertical-align: middle; margin-left: 0.5rem\">ORG</span>\n",
       "</mark>\n",
       " rosario breitbart particular incorporation roll circle amplification rca viral metagenomic study unearth high diversity wide distribution eukaryotic virus circular single-stranded dna</div></span>"
      ],
      "text/plain": [
       "<IPython.core.display.HTML object>"
      ]
     },
     "metadata": {},
     "output_type": "display_data"
    }
   ],
   "source": [
    "from spacy import displacy\n",
    "displacy.render(doc,style = 'ent', jupyter = True)"
   ]
  },
  {
   "cell_type": "code",
   "execution_count": 18,
   "metadata": {},
   "outputs": [],
   "source": [
    "gpe = []\n",
    "for index, row in corona_df.iterrows():\n",
    "    text = row['text']\n",
    "    doc = nlp_ent(text)\n",
    "    for entity in doc.ents:\n",
    "        if entity.label_ =='GPE':\n",
    "            gpe.append(str(entity.text))"
   ]
  },
  {
   "cell_type": "code",
   "execution_count": 19,
   "metadata": {},
   "outputs": [],
   "source": [
    "values_gpe,counts_gpe = np.unique(np.array(gpe), return_counts = True)"
   ]
  },
  {
   "cell_type": "code",
   "execution_count": 20,
   "metadata": {},
   "outputs": [],
   "source": [
    "gpe_df = pd.DataFrame({'value': values_gpe, 'counts': counts_gpe})"
   ]
  },
  {
   "cell_type": "code",
   "execution_count": 21,
   "metadata": {},
   "outputs": [],
   "source": [
    "gpe_df = gpe_df.sort_values(by='counts', ascending=False).head(8)"
   ]
  },
  {
   "cell_type": "code",
   "execution_count": 22,
   "metadata": {},
   "outputs": [],
   "source": [
    "def autolabel(rects):\n",
    "    \"\"\"Attach a text label above each bar in *rects*, displaying its height.\"\"\"\n",
    "    for rect in rects:\n",
    "        height = round(float(rect.get_height()),2)\n",
    "        ax.annotate('{}'.format(height),\n",
    "                    xy=(rect.get_x() + rect.get_width() / 2, height),\n",
    "                    xytext=(0, 3),  # 3 points vertical offset\n",
    "                    textcoords=\"offset points\",\n",
    "                    ha='center', va='bottom')"
   ]
  },
  {
   "cell_type": "code",
   "execution_count": 31,
   "metadata": {},
   "outputs": [
    {
     "data": {
      "image/png": "[encoded data removed]",
      "text/plain": [
       "<Figure size 864x504 with 1 Axes>"
      ]
     },
     "metadata": {
      "needs_background": "light"
     },
     "output_type": "display_data"
    }
   ],
   "source": [
    "fig, ax = plt.subplots(figsize=(12,7))\n",
    "rect1 = ax.bar(x=gpe_df[\"value\"], height=gpe_df[\"counts\"])\n",
    "plt.title(\"Citações dos países nos 500 textos\")\n",
    "plt.ylabel('Citações de cada País / localização')\n",
    "plt.xlabel('País/Localização')\n",
    "autolabel(rect1)"
   ]
  },
  {
   "cell_type": "markdown",
   "metadata": {},
   "source": [
    "Agora começarei a parte de como explorar os textos!! Primeiramente a busca por apenas uma palavra, temos o retorno do artigo, quantidade de vezes que a palavra foi achada e o abstract"
   ]
  },
  {
   "cell_type": "code",
   "execution_count": 32,
   "metadata": {},
   "outputs": [],
   "source": [
    "def find_all_texts(input_str, search_str, number_of_words):\n",
    "    text_list = []\n",
    "    index = 0\n",
    "    number_of_words = number_of_words\n",
    "    while index < len(input_str):\n",
    "        i = input_str.find(search_str, index)\n",
    "        if i == -1:\n",
    "            return text_list\n",
    "    \n",
    "        if input_str[i-number_of_words:i] == '':\n",
    "            start = 0\n",
    "        else:\n",
    "            start = i - number_of_words\n",
    "    \n",
    "        text_list.append(input_str[start:i] + input_str[i:i + number_of_words])\n",
    "        index = i + i\n",
    "    return text_list"
   ]
  },
  {
   "cell_type": "code",
   "execution_count": 33,
   "metadata": {},
   "outputs": [
    {
     "data": {
      "text/html": [
       "<h1>PULMONARY DISEASE</h1>"
      ],
      "text/plain": [
       "<IPython.core.display.HTML object>"
      ]
     },
     "metadata": {},
     "output_type": "display_data"
    },
    {
     "data": {
      "text/html": [
       "<p><strong>Title:</strong> Measles infection causing Bacillus Calmette-Guérin reactivation: a case report</br>\n",
       "                      <strong>ID:</strong> 162d42b98a0abdf3d7ee609fe464918e457f55fd</br>\n",
       "                      <strong> Number of macthes:  </strong> 1\n",
       "                      </p>"
      ],
      "text/plain": [
       "<IPython.core.display.HTML object>"
      ]
     },
     "metadata": {},
     "output_type": "display_data"
    },
    {
     "data": {
      "text/html": [
       "<blockquote>... bacillus calmette-guérin bcg vaccine prevent tuberculous meningitis miliary tuberculosis possibly form tuberculosis include <mark>pulmonary disease</mark> child include expand programme immunization country worldwide include malaysia malaysia country bcg vaccination recommend universally infant birth shortly birth follow intradermal inoculation attenuate mycobacterium bovis bcg strain deltoid region leave arm small papule usually appear week gradually enlarge typically ulcerate month slowly heal month form bcg scar reactivation bcg ...</blockquote> "
      ],
      "text/plain": [
       "<IPython.core.display.HTML object>"
      ]
     },
     "metadata": {},
     "output_type": "display_data"
    },
    {
     "data": {
      "text/html": [
       "<h1>PULMONARY DISEASE</h1>"
      ],
      "text/plain": [
       "<IPython.core.display.HTML object>"
      ]
     },
     "metadata": {},
     "output_type": "display_data"
    },
    {
     "data": {
      "text/html": [
       "<p><strong>Title:</strong> cells How to Avoid a No-Deal ER Exit</br>\n",
       "                      <strong>ID:</strong> f46dfc953ba5eba42f02a55f53fdafab33736135</br>\n",
       "                      <strong> Number of macthes:  </strong> 1\n",
       "                      </p>"
      ],
      "text/plain": [
       "<IPython.core.display.HTML object>"
      ]
     },
     "metadata": {},
     "output_type": "display_data"
    },
    {
     "data": {
      "text/html": [
       "<blockquote>... nthesis er α1at subject quality control checkpoint initially facilitate conformational maturation newly synthesize α1at naturally occur genetic variant α1at identify associate diminish systemic concentration inhibitor cause α1at disease α1atd inherit disorder lung live severely reduce concentration α1at ensue elastolytic degradation lung connective tissue increase risk develop chronic obstructive <mark>pulmonary disease</mark> loss-of-function phenotype notably main site α1at biosynthesis live accumulation mutate α1at er hepatocyte risk factor development childhood live disease gain-of-toxic function phenotype frequent disease-associated mutation include point mutation α1at gene name atz variant result single amino acid substitution q342k lead slowdown step fold consequent increase intracellular polyme ...</blockquote> "
      ],
      "text/plain": [
       "<IPython.core.display.HTML object>"
      ]
     },
     "metadata": {},
     "output_type": "display_data"
    },
    {
     "data": {
      "text/html": [
       "<h1>PULMONARY DISEASE</h1>"
      ],
      "text/plain": [
       "<IPython.core.display.HTML object>"
      ]
     },
     "metadata": {},
     "output_type": "display_data"
    },
    {
     "data": {
      "text/html": [
       "<p><strong>Title:</strong> The discovery and identification of a candidate proteomic biomarker of active tuberculosis</br>\n",
       "                      <strong>ID:</strong> 11227aa67f131d1b8220d5c45b4bf592f0a48ef4</br>\n",
       "                      <strong> Number of macthes:  </strong> 1\n",
       "                      </p>"
      ],
      "text/plain": [
       "<IPython.core.display.HTML object>"
      ]
     },
     "metadata": {},
     "output_type": "display_data"
    },
    {
     "data": {
      "text/html": [
       "<blockquote>... tly detect crude body fluid sample label technology simple fast highthroughput high sensitivity protein biomarker certain disease indicate seldi-tof ms analyze serum proteome goal study screen potential protein biomarker serum early diagnosis tb proteomics technology collect serum sample patient active pulmonary tb control healthy volunteer case lung cancer case pneumonia case chronic obstructive <mark>pulmonary disease</mark> copd separate site 6 hospital shaoxing shaoxing china hangzhou red cross hospital hangzhou china tb patient diagnose accord combine clinical criterium include clinical radiological bacteriological investigation confirm histopathological analysis blood specimen collect preserve visit treatment patient hepatic renal metabolic autoimmune disorder endocrine blood nervous system disea ...</blockquote> "
      ],
      "text/plain": [
       "<IPython.core.display.HTML object>"
      ]
     },
     "metadata": {},
     "output_type": "display_data"
    },
    {
     "data": {
      "text/html": [
       "<h1>PULMONARY DISEASE</h1>"
      ],
      "text/plain": [
       "<IPython.core.display.HTML object>"
      ]
     },
     "metadata": {},
     "output_type": "display_data"
    },
    {
     "data": {
      "text/html": [
       "<p><strong>Title:</strong> ACE2 expression by colonic epithelial cells is associated with viral infection, immunity and energy metabolism</br>\n",
       "                      <strong>ID:</strong> f5d9ab798adf8face1655d476644ebb75fbfef18</br>\n",
       "                      <strong> Number of macthes:  </strong> 1\n",
       "                      </p>"
      ],
      "text/plain": [
       "<IPython.core.display.HTML object>"
      ]
     },
     "metadata": {},
     "output_type": "display_data"
    },
    {
     "data": {
      "text/html": [
       "<blockquote>...  circulate ras regulate blood pressure fluid homeostasis local tissue-based ras exacerbate pulmonary hypertension acute lung injury experimental lung fibrosis block angiotensin ii receptor type at1r associate reduce sars-cov spike protein mediate lung injury reduce pulmonary hypertension experimental model at1r blocker valsartan recently report improve clinical outcome patient chronic obstructive <mark>pulmonary disease</mark> copd complicate pulmonary hypertension doi:10.1183/13993003.congress-2019.pa2469 paradigm-hf trial valsartan right reserve reuse allow permission author/funder grant medrxiv license display preprint perpetuity copyright holder preprint peer-reviewed https://doi.org/10.1101/2020.02.05.20020545 medrxiv preprint neprilysin inhibitor prodrug sacubitril valsartan/sacubitril brand entr ...</blockquote> "
      ],
      "text/plain": [
       "<IPython.core.display.HTML object>"
      ]
     },
     "metadata": {},
     "output_type": "display_data"
    },
    {
     "data": {
      "text/html": [
       "<h1>PULMONARY DISEASE</h1>"
      ],
      "text/plain": [
       "<IPython.core.display.HTML object>"
      ]
     },
     "metadata": {},
     "output_type": "display_data"
    },
    {
     "data": {
      "text/html": [
       "<p><strong>Title:</strong> Micafungin (FK463), alone or in combination with other systemic antifungal agents, for the treatment of acute invasive aspergillosis *</br>\n",
       "                      <strong>ID:</strong> 6ccbb562bbdca61165bb27cec24934d51dc91de4</br>\n",
       "                      <strong> Number of macthes:  </strong> 1\n",
       "                      </p>"
      ],
      "text/plain": [
       "<IPython.core.display.HTML object>"
      ]
     },
     "metadata": {},
     "output_type": "display_data"
    },
    {
     "data": {
      "text/html": [
       "<blockquote>... kemia acute lymphocytic leukemia autologous hematopoietic stem cell transplantation hsct allogeneic stem cell transplantation non-myeloablative condition allogeneic hsct myeloablative condition lung transplantation hearte lung small bowel transplantation live transplantation acquire immunodeficiency syndrome aid increasingly recognize risk group include medical intensive care unit patient chronic <mark>pulmonary disease</mark> treat corticosteroid receive anti-tumor necrosis factor monoclonal antibody therapy infliximab severe acute respiratory syndrome sars mortality ia high 17e19 review case report crude mortality rate pulmonary sinus cerebral aspergillosis respectively occasional report improvement see despite introduction new agent year micafungin fk463 new lipopeptide compound echinocandin synthes ...</blockquote> "
      ],
      "text/plain": [
       "<IPython.core.display.HTML object>"
      ]
     },
     "metadata": {},
     "output_type": "display_data"
    },
    {
     "data": {
      "text/html": [
       "<h1>PULMONARY DISEASE</h1>"
      ],
      "text/plain": [
       "<IPython.core.display.HTML object>"
      ]
     },
     "metadata": {},
     "output_type": "display_data"
    },
    {
     "data": {
      "text/html": [
       "<p><strong>Title:</strong> No Direct Association Between Asthma and the Microbiome Based on Currently Available Techniques</br>\n",
       "                      <strong>ID:</strong> 982210556d79705b5b48d86ca09aadf517bd0edb</br>\n",
       "                      <strong> Number of macthes:  </strong> 1\n",
       "                      </p>"
      ],
      "text/plain": [
       "<IPython.core.display.HTML object>"
      ]
     },
     "metadata": {},
     "output_type": "display_data"
    },
    {
     "data": {
      "text/html": [
       "<blockquote>... rge blood count collection edta monovette ml flow cytometry examine long-term oxygen therapy oxygen mm hg carbon dioxide mm hg predispose factor bacterial colonization asthma allergic condition study factor favor colonization pathogen bronchial asthma include allergic rhinitis allergic conjunctivitis atopic dermatitis food allergy drug allergy analyze case select comorbidities-chronic obstructive <mark>pulmonary disease</mark> copd gastroesophageal reflux disease obesity depression-not predispose factor development asthma bacterial colonization patient length hospital stay compare patient different form asthma detection infection saarland institutional review board approve study retrospective nature study protocol medical association saarland institutional review board waive need inform consent write i ...</blockquote> "
      ],
      "text/plain": [
       "<IPython.core.display.HTML object>"
      ]
     },
     "metadata": {},
     "output_type": "display_data"
    },
    {
     "data": {
      "text/html": [
       "<h1>PULMONARY DISEASE</h1>"
      ],
      "text/plain": [
       "<IPython.core.display.HTML object>"
      ]
     },
     "metadata": {},
     "output_type": "display_data"
    },
    {
     "data": {
      "text/html": [
       "<p><strong>Title:</strong> Identification of New Respiratory Viruses in the New Millennium</br>\n",
       "                      <strong>ID:</strong> b86c0b353d21e4ada6c8cd36da8c433123b23f8e</br>\n",
       "                      <strong> Number of macthes:  </strong> 2\n",
       "                      </p>"
      ],
      "text/plain": [
       "<IPython.core.display.HTML object>"
      ]
     },
     "metadata": {},
     "output_type": "display_data"
    },
    {
     "data": {
      "text/html": [
       "<blockquote>... l origin respiratory infection antibiotic prescribe treatment disease exacerbate antibiotic abuse morbidity fiscal implication associate respiratory infection significant approximately case report unite state year subsequent direct indirect cost economy estimate annually burden respiratory tract infection increase patient chronic comorbidity clinical risk factor include asthma chronic obstructive <mark>pulmonary disease</mark> copd young elderly immunocompromise virus primarily associate upper respiratory tract infection commonly include rhinovirus enterovirus adenovirus parainfluenza virus piv influenza virus respiratory syncytial virus rsv coronavirus recent year new human respiratory virus report include human metapneumovirus hmpv bocavirus new human coronavirus include severe acute respiratory synd ...</blockquote> "
      ],
      "text/plain": [
       "<IPython.core.display.HTML object>"
      ]
     },
     "metadata": {},
     "output_type": "display_data"
    },
    {
     "data": {
      "text/html": [
       "<blockquote>... human health clinical presentation non-severe human coronavirus largely identical indistinguishable symptomatically commonly present rhinorrhoea sore throat cough fever majority infection associate self-limit upper respiratory tract disease common cold present high morbidity outcome low respiratory tract include bronchiolitis pneumonia asthmatic exacerbation acute exacerbation chronic obstructive <mark>pulmonary disease</mark> copd croup hcov-nl63 infect patient report esper al. find correlation hcov-nl63 infection kawasaki disease study replicate association febrile seizure report human coronavirus significance hcov-hku1 alarm study indicate patient infect hcov-hku1 experience febrile seizure human coronavirus affect age group elicit disease young elderly immunecompromized frequently result hospitaliz ...</blockquote> "
      ],
      "text/plain": [
       "<IPython.core.display.HTML object>"
      ]
     },
     "metadata": {},
     "output_type": "display_data"
    },
    {
     "data": {
      "text/html": [
       "<h1>PULMONARY DISEASE</h1>"
      ],
      "text/plain": [
       "<IPython.core.display.HTML object>"
      ]
     },
     "metadata": {},
     "output_type": "display_data"
    },
    {
     "data": {
      "text/html": [
       "<p><strong>Title:</strong> Protease inhibitors and their peptidomimetic derivatives as potential drugs</br>\n",
       "                      <strong>ID:</strong> 33a14ebfb8cef2dda37340b8fcd8524879633908</br>\n",
       "                      <strong> Number of macthes:  </strong> 1\n",
       "                      </p>"
      ],
      "text/plain": [
       "<IPython.core.display.HTML object>"
      ]
     },
     "metadata": {},
     "output_type": "display_data"
    },
    {
     "data": {
      "text/html": [
       "<blockquote>... e inhibitor show mechanism anti-inflammatory action slpi example show decrease pro-inflammatory effect bacterial lipopolysaccharide reduce activation transcription factor nuclear factor kappa nf-κb hiemstra block effect slpi nf-κb limit accumulation neutrophil leak albumin vasculature lung mulligan al. transcription factor tnf-α interest clinical target role chronic bronchitis chronic obstructive <mark>pulmonary disease</mark> tnf-α convert enzyme know tace function synergistically mmp inflammatory disease state specifically elevate level mmp-9 mmp-12 correlate lung damage dual inhibition enzyme interest target active compound publish review supuran al. deficiency α1-pi rare genetic disorder cause early-onset emphysema proteolytic damage lung tissue augmentation therapy human α1-pi effectively slow los ...</blockquote> "
      ],
      "text/plain": [
       "<IPython.core.display.HTML object>"
      ]
     },
     "metadata": {},
     "output_type": "display_data"
    },
    {
     "data": {
      "text/html": [
       "<h1>PULMONARY DISEASE</h1>"
      ],
      "text/plain": [
       "<IPython.core.display.HTML object>"
      ]
     },
     "metadata": {},
     "output_type": "display_data"
    },
    {
     "data": {
      "text/html": [
       "<p><strong>Title:</strong> Early Prediction of Disease Progression in 2019 Novel Coronavirus Pneumonia Patients Outside Wuhan with CT and Clinical Characteristics</br>\n",
       "                      <strong>ID:</strong> 4e2bc97a6164191ba3d53abfa49ccd973aa80326</br>\n",
       "                      <strong> Number of macthes:  </strong> 1\n",
       "                      </p>"
      ],
      "text/plain": [
       "<IPython.core.display.HTML object>"
      ]
     },
     "metadata": {},
     "output_type": "display_data"
    },
    {
     "data": {
      "text/html": [
       "<blockquote>... od symptom onset admission day patient discharge enrollment hospitalization case progress severe ncp progressive group remain patient stable group compare stable group patient progressive group significantly old male gender import proportion show statistical difference patient progress severe ncp likely underlie hypertension significant difference co-morbidity include diabetes chronic obstructive <mark>pulmonary disease</mark> copd cardiovascular disease cerebrovascular disease chronic hepatitis infection main symptom group statistically different slightly patient manifest digestive symptom progressive group anorexia diarrhea respectively patient progressive group low baseline lymphocyte count high neutrophil-to-lymphocyte ratio nlr c-reactive protein patient lobe involve median segment involve lesion  ...</blockquote> "
      ],
      "text/plain": [
       "<IPython.core.display.HTML object>"
      ]
     },
     "metadata": {},
     "output_type": "display_data"
    },
    {
     "data": {
      "text/html": [
       "<h1>PULMONARY DISEASE</h1>"
      ],
      "text/plain": [
       "<IPython.core.display.HTML object>"
      ]
     },
     "metadata": {},
     "output_type": "display_data"
    },
    {
     "data": {
      "text/html": [
       "<p><strong>Title:</strong> Acute bronchitis in the community: clinical features, infective factors, changes in pulmonary function and bronchial reactivity to histamine</br>\n",
       "                      <strong>ID:</strong> b4a2d128c82e9f02e002c7b9935726d96febdae4</br>\n",
       "                      <strong> Number of macthes:  </strong> 2\n",
       "                      </p>"
      ],
      "text/plain": [
       "<IPython.core.display.HTML object>"
      ]
     },
     "metadata": {},
     "output_type": "display_data"
    },
    {
     "data": {
      "text/html": [
       "<blockquote>... acute bronchitis condition diagnose commonly general practice particularly winter month reach rate approximately case population week presume episode acute bronchitis viral origin previous work exception study child patient underlie <mark>pulmonary disease</mark> 8) show modest rate virus identification low rate bacterial isolation diagnostic problem ofidentifying individual patient simple acute bronchitis patient particularly child diagnosis asthma miss believe acute effect illness pulmonary function minimal contribute development chronic airflow obstruction upper respiratory tract infection produce change pulmonary function indicate red ...</blockquote> "
      ],
      "text/plain": [
       "<IPython.core.display.HTML object>"
      ]
     },
     "metadata": {},
     "output_type": "display_data"
    },
    {
     "data": {
      "text/html": [
       "<blockquote>...  receive november accept effect viral infection bronchial hyperreactivity uncertain epidemiological study community conflict result respect respiratory tract infection bronchial hyperreactivity view continue apparent difficulty separate acute bronchitis asthma descriptive study undertake examine clinical microbiological pulmonary function aspect illness diagnose acute bronchitis patient pre-exist <mark>pulmonary disease</mark> patient diagnose have acute bronchitis general practitioner gp study criterium diagnosis acute bronchitis give gps patient previously diagnose <mark>pulmonary disease</mark> exclude study study undertake local general practice partner practice population sequential patient recruit study september march study presentation week presentation demographic datum collect symptom record question mrc/ ...</blockquote> "
      ],
      "text/plain": [
       "<IPython.core.display.HTML object>"
      ]
     },
     "metadata": {},
     "output_type": "display_data"
    },
    {
     "data": {
      "text/html": [
       "<h1>PULMONARY DISEASE</h1>"
      ],
      "text/plain": [
       "<IPython.core.display.HTML object>"
      ]
     },
     "metadata": {},
     "output_type": "display_data"
    },
    {
     "data": {
      "text/html": [
       "<p><strong>Title:</strong> Losartan attenuates chronic cigarette smoke exposure-induced pulmonary arterial hypertension in rats: Possible involvement of angiotensin-converting enzyme-2</br>\n",
       "                      <strong>ID:</strong> 52ef40cbfbd93f506eb4d57a15a7fac62a43e778</br>\n",
       "                      <strong> Number of macthes:  </strong> 1\n",
       "                      </p>"
      ],
      "text/plain": [
       "<IPython.core.display.HTML object>"
      ]
     },
     "metadata": {},
     "output_type": "display_data"
    },
    {
     "data": {
      "text/html": [
       "<blockquote>... e finally cause right ventricular failure premature death chaouat al. generally accept acknowledge alteration pulmonary vasculature commonly mark vascular proliferation/fibrosis remodel vessel occlusion lead form pulmonary arterial hypertension humbert al. key factor blame alteration pulmonary vasculature cigarette smoke report muscularization pulmonary vessel presence absence chronic obstructive <mark>pulmonary disease</mark> wright al. wright al. churg al. santos al. increase expression vasoactive mediator e.g. endothelin-1 vascular endothelial growth factor detect guinea pig lung chronic smoke exposure mediator report associate vascular remodel elevate pulmonary arterial pressure precise mechanism chronic cigarette smoke exposure produce pah poorly understand renin-angiotensin system ras implicate p ...</blockquote> "
      ],
      "text/plain": [
       "<IPython.core.display.HTML object>"
      ]
     },
     "metadata": {},
     "output_type": "display_data"
    },
    {
     "data": {
      "text/html": [
       "<h1>PULMONARY DISEASE</h1>"
      ],
      "text/plain": [
       "<IPython.core.display.HTML object>"
      ]
     },
     "metadata": {},
     "output_type": "display_data"
    },
    {
     "data": {
      "text/html": [
       "<p><strong>Title:</strong> 3D QSAR Pharmacophore Modeling, in Silico Screening, and Density Functional Theory (DFT) Approaches for Identification of Human Chymase Inhibitors</br>\n",
       "                      <strong>ID:</strong> 4e45a8379e00a6551b99dcb0c8ba91b7b358f853</br>\n",
       "                      <strong> Number of macthes:  </strong> 1\n",
       "                      </p>"
      ],
      "text/plain": [
       "<IPython.core.display.HTML object>"
      ]
     },
     "metadata": {},
     "output_type": "display_data"
    },
    {
     "data": {
      "text/html": [
       "<blockquote>... onstrate involvement chymase escalation dermatitis chronic inflammation pursue cardiac pulmonary fibrosis inhibition chymase likely divulge therapeutic way treatment cardiovascular disease allergic inflammation fibrotic disorder chymase inhibition useful prevent progression type diabetes prevention diabetic retinopathy role chymase inflammation prompt restorative value disease chronic obstructive <mark>pulmonary disease</mark> copd asthma chymase inhibitor imperative elucidation physiological function chymase potentially useful therapeutic agent chymase inhibitor sulfonyl fluoride derivative boc-val-pro-phe-co z-ile-glu-pro-phe-co (f)-phe-coglu-asp-argome n-(2-naphthyl carboxamido derivative n- 2,2-dimethyl-3-(n-(4-cyanobenzoyl amino nonanoyl)-l-phenylalanine ethyl ester 3-benzylazetidine-2-one derivat ...</blockquote> "
      ],
      "text/plain": [
       "<IPython.core.display.HTML object>"
      ]
     },
     "metadata": {},
     "output_type": "display_data"
    },
    {
     "data": {
      "text/html": [
       "<h1>PULMONARY DISEASE</h1>"
      ],
      "text/plain": [
       "<IPython.core.display.HTML object>"
      ]
     },
     "metadata": {},
     "output_type": "display_data"
    },
    {
     "data": {
      "text/html": [
       "<p><strong>Title:</strong> Impact of multiplex respiratory virus testing on antimicrobial consumption in adults in acute care: a randomized clinical trial</br>\n",
       "                      <strong>ID:</strong> 734d7a1f2522c6b1c406c835adf16bee2bedbd55</br>\n",
       "                      <strong> Number of macthes:  </strong> 2\n",
       "                      </p>"
      ],
      "text/plain": [
       "<IPython.core.display.HTML object>"
      ]
     },
     "metadata": {},
     "output_type": "display_data"
    },
    {
     "data": {
      "text/html": [
       "<blockquote>... mise individual differentiation viral bacterial respiratory tract infection merely ground clinical symptom sign challenge lead excessive use antibiotic risk increase antimicrobial resistance cost nosocomial infection include clostridium difficile respiratory virus play role pathogenesis pneumonia independently bacterium 3e5 likewise viral infection exacerbate asthmatic symptom chronic obstructive <mark>pulmonary disease</mark> 6e10 nucleic acid amplificationbased method show provide rapid accurate specific diagnosis respiratory viral infection rapid viral diagnostics increase cost method clear clinical impact justify use identification influenza virus reduce numb hospital admission length hospitalization duration antimicrobial medication evidence impact test respiratory virus limit set test randomize c ...</blockquote> "
      ],
      "text/plain": [
       "<IPython.core.display.HTML object>"
      ]
     },
     "metadata": {},
     "output_type": "display_data"
    },
    {
     "data": {
      "text/html": [
       "<blockquote>... e group mean total cost hospital treatment patient high v3539 sd v7303 intervention group control group v3339 sd v6664 difference ci e669 mean cost radiological examination v262 sd v404 versus v223 sd v385 difference ci e14 laboratory expense high intervention group remember cost multiplex pcr test include laboratory cost case intervention group control group abbreviation copd chronic obstructive <mark>pulmonary disease</mark> intervention group control group rsv respiratory syncytial virus bocavirus test find datum patient radiologically confirm pneumonia patient acute exacerbation asthma chronic obstructive <mark>pulmonary disease</mark> patient virus sample altogether patient intervention group control group require treatment intensive care unit participant die 30-day follow receive antibiotic intervention group ...</blockquote> "
      ],
      "text/plain": [
       "<IPython.core.display.HTML object>"
      ]
     },
     "metadata": {},
     "output_type": "display_data"
    },
    {
     "data": {
      "text/html": [
       "<h1>PULMONARY DISEASE</h1>"
      ],
      "text/plain": [
       "<IPython.core.display.HTML object>"
      ]
     },
     "metadata": {},
     "output_type": "display_data"
    },
    {
     "data": {
      "text/html": [
       "<p><strong>Title:</strong> Crazy-paving sign in high-resolution computed tomography in parainfluenza virus pneumonia</br>\n",
       "                      <strong>ID:</strong> f936a6a047fbfa7e02dafbf24945f7facd0cfa48</br>\n",
       "                      <strong> Number of macthes:  </strong> 1\n",
       "                      </p>"
      ],
      "text/plain": [
       "<IPython.core.display.HTML object>"
      ]
     },
     "metadata": {},
     "output_type": "display_data"
    },
    {
     "data": {
      "text/html": [
       "<blockquote>...  pneumonia viral pneumonia adult classify clinical group so-called atypical pneumonia healthy host viral pneumonia immunocompromise host piv infection lead cause morbidity mortality hematopoietic stem cell transplantation hsct piv pneumonia rare healthy adult early accurate diagnosis pulmonary complication follow hsct important high mortality morbidity high-resolution ct important early diagnosis <mark>pulmonary disease</mark> follow hsct ct finding piv pneumonia describe patient follow hsct patricia al. report ct finding hsct patient piv pneumonia multiple small nodule cavitation peribronchial distribution previous report ct finding piv pneumonia non-immunocompromised host report ct finding parainfluenza pneumonia non-immunocompromised host crazy-paving sign commonly observe nonspecific find observe c ...</blockquote> "
      ],
      "text/plain": [
       "<IPython.core.display.HTML object>"
      ]
     },
     "metadata": {},
     "output_type": "display_data"
    },
    {
     "data": {
      "text/html": [
       "<h1>PULMONARY DISEASE</h1>"
      ],
      "text/plain": [
       "<IPython.core.display.HTML object>"
      ]
     },
     "metadata": {},
     "output_type": "display_data"
    },
    {
     "data": {
      "text/html": [
       "<p><strong>Title:</strong> Bacterial respiratory carriage in French Hajj pilgrims and the effect of pneumococcal vaccine and other individual preventive measures: A prospective cohort survey</br>\n",
       "                      <strong>ID:</strong> 7417f8648801d0febf4227d4bb0c4c45483d3fbd</br>\n",
       "                      <strong> Number of macthes:  </strong> 1\n",
       "                      </p>"
      ],
      "text/plain": [
       "<IPython.core.display.HTML object>"
      ]
     },
     "metadata": {},
     "output_type": "display_data"
    },
    {
     "data": {
      "text/html": [
       "<blockquote>...  rhinosinusitis demonstrate vaccination ipd conjugate vaccine significant protective effect pneumococcal carriage follow participation hajj additionally pilgrim cohort suffer pneumonia impact vaccination ipd reduction acquisition s. pneumonia respiratory carriage prevention pneumococcal disease adult well-described literature especially at-risk patient include bronchial asthma chronic obstructive <mark>pulmonary disease</mark> diabetes mellitus chronic heart failure splenectomy immunodeficiency consistent local national official recommendation use pneumococcal vaccine hajj pilgrim lack recent recommendation saudi thoracic society pneumococcal vaccination hajj season vaccinate person age year combine pneumococcal conjugate vaccine pneumococcal polysaccharide vaccine participant study chronic disease mak ...</blockquote> "
      ],
      "text/plain": [
       "<IPython.core.display.HTML object>"
      ]
     },
     "metadata": {},
     "output_type": "display_data"
    },
    {
     "data": {
      "text/html": [
       "<h1>PULMONARY DISEASE</h1>"
      ],
      "text/plain": [
       "<IPython.core.display.HTML object>"
      ]
     },
     "metadata": {},
     "output_type": "display_data"
    },
    {
     "data": {
      "text/html": [
       "<p><strong>Title:</strong> PCR based bronchoscopic detection of common respiratory pathogens in chronic cough: a case control study</br>\n",
       "                      <strong>ID:</strong> f2b40d30efe21fe521d22798d4c0e185e4ad6799</br>\n",
       "                      <strong> Number of macthes:  </strong> 1\n",
       "                      </p>"
      ],
      "text/plain": [
       "<IPython.core.display.HTML object>"
      ]
     },
     "metadata": {},
     "output_type": "display_data"
    },
    {
     "data": {
      "text/html": [
       "<blockquote>... r lavage bal lymphocyte indicative infection conduct pcr base screen know pathogen biopsy tissue healthy volunteer treatment resistant chronic cough patient select bal lymphocytosis great patient recruit refer specialist cough clinic university hospital south manchester uk complain chronic cough week duration current smoker ex-smoker month patient significant co-morbidity e.g. chronic obstructive <mark>pulmonary disease</mark> diabetes heart disease receive angiotensin convert enzyme inhibitor opiate exclude final diagnosis base investigation finding pulmonary function test cough assessment treatment trial give accordance british thoracic society guideline healthy volunteer recruit response local advertise study knowledge address potential role infection chronic cough impossible conduct power calculati ...</blockquote> "
      ],
      "text/plain": [
       "<IPython.core.display.HTML object>"
      ]
     },
     "metadata": {},
     "output_type": "display_data"
    },
    {
     "data": {
      "text/html": [
       "<h1>PULMONARY DISEASE</h1>"
      ],
      "text/plain": [
       "<IPython.core.display.HTML object>"
      ]
     },
     "metadata": {},
     "output_type": "display_data"
    },
    {
     "data": {
      "text/html": [
       "<p><strong>Title:</strong> Abstracts</br>\n",
       "                      <strong>ID:</strong> f0d2dc18c4737a62d2de12b56d4dba143d21344a</br>\n",
       "                      <strong> Number of macthes:  </strong> 2\n",
       "                      </p>"
      ],
      "text/plain": [
       "<IPython.core.display.HTML object>"
      ]
     },
     "metadata": {},
     "output_type": "display_data"
    },
    {
     "data": {
      "text/html": [
       "<blockquote>... fine classification antibiotic treatment intensive care unit icu income death length stay result case cap find male female mean age year (ys)-ci difference gender patient pt live residence pt previous diagnosis heart failure -hf-(mean age vs pt cerebrovascular disease -cvd-(mean age vs pt chronic hepatopathy -11.5%-any form cancer 17.8%-pts chronic renal failure mean age vs pt chronic obstructive <mark>pulmonary disease</mark> copd pt admit icu death register blood culture collect case culture sputum legionella antigen urine accord fine classification patient stratify group ii iii iv case correspond fine ii levofloxacin vs fine iii iv p=0.021 length stay analyse patient fine ii use levofloxacin associate non significant reduction mean se day vs day people group iii iv use levofloxacin show reduction le ...</blockquote> "
      ],
      "text/plain": [
       "<IPython.core.display.HTML object>"
      ]
     },
     "metadata": {},
     "output_type": "display_data"
    },
    {
     "data": {
      "text/html": [
       "<blockquote>... prothrombotic response result addition therapy chronic therapy method 9-month retrospective analysis adult patient receive admit ward prescription basis clinical diagnosis judgement descriptive statistical measurement perform result patient year old median include man suffer median range concurrent chronic medical problem include coronary heart disease atrial fibrillation hypertension obstructive <mark>pulmonary disease</mark> renal insufficiency cardiomyopathy heart failure take median range different kind drug include digoxin furosemide antihypertensive inhale bronchodilator type infection patient treat include acute bronchitis case pneumonia case objective cip substrate mrp efflux pump j774 mouse macrophage michot aac 48:2673 reduce cellular accumulation recently show cip-ôresistantõ macrophage sele ...</blockquote> "
      ],
      "text/plain": [
       "<IPython.core.display.HTML object>"
      ]
     },
     "metadata": {},
     "output_type": "display_data"
    },
    {
     "data": {
      "text/html": [
       "<h1>PULMONARY DISEASE</h1>"
      ],
      "text/plain": [
       "<IPython.core.display.HTML object>"
      ]
     },
     "metadata": {},
     "output_type": "display_data"
    },
    {
     "data": {
      "text/html": [
       "<p><strong>Title:</strong> The impact of persistent bacterial bronchitis on the pulmonary microbiome of children</br>\n",
       "                      <strong>ID:</strong> ba2d0f6467116c99ad6bc4df52b616cc683aecb5</br>\n",
       "                      <strong> Number of macthes:  </strong> 1\n",
       "                      </p>"
      ],
      "text/plain": [
       "<IPython.core.display.HTML object>"
      ]
     },
     "metadata": {},
     "output_type": "display_data"
    },
    {
     "data": {
      "text/html": [
       "<blockquote>...  single exception bacterial community present throat swab mother blind brush child family find common high abundance streptococcus veillonella neisseria s6 study provide insight composition bacterial community present lung healthy infant child persistent bacterial bronchitis investigation bacterial community lung child highlight impact pbb lung microbiota provide insight disease progression range <mark>pulmonary disease</mark> include copd non-cf bronchiectasis cystic fibrosis reduction diversity appearance dominant otus potentially pathogenic genus observe unsurprising present study significant reduction bacterial diversity associate pbb observe present study haemophilus neisseria streptococcus moraxella represent dominant otus pbb sample deseq2 indicator species analysis show haemophilus neisseria ot ...</blockquote> "
      ],
      "text/plain": [
       "<IPython.core.display.HTML object>"
      ]
     },
     "metadata": {},
     "output_type": "display_data"
    },
    {
     "data": {
      "text/html": [
       "<h1>PULMONARY DISEASE</h1>"
      ],
      "text/plain": [
       "<IPython.core.display.HTML object>"
      ]
     },
     "metadata": {},
     "output_type": "display_data"
    },
    {
     "data": {
      "text/html": [
       "<p><strong>Title:</strong> viruses Rhinoviruses and Respiratory Enteroviruses: Not as Simple as ABC</br>\n",
       "                      <strong>ID:</strong> df605c7743673dade86350172a3c6513bc437c90</br>\n",
       "                      <strong> Number of macthes:  </strong> 2\n",
       "                      </p>"
      ],
      "text/plain": [
       "<IPython.core.display.HTML object>"
      ]
     },
     "metadata": {},
     "output_type": "display_data"
    },
    {
     "data": {
      "text/html": [
       "<blockquote>... rhinovirus rvs responsible one-half upper respiratory tract infection urti consider frequent infectious agent human worldwide case rv infection benign self-limit cold-like illness virus identify causal agent severe pneumonia elderly immunocompromise patient exacerbation chronic obstructive <mark>pulmonary disease</mark> asthma present efficient antiviral treatment vaccine preventive measure exist particularly frequent pathogen apart poliovirus addition significant associate clinical morbidity economic impact rv-related infection great concern viral urti highly expensive society directly healthcare resource use indirectly productivity loss emphasize importance find appropriate preventive treatmen ...</blockquote> "
      ],
      "text/plain": [
       "<IPython.core.display.HTML object>"
      ]
     },
     "metadata": {},
     "output_type": "display_data"
    },
    {
     "data": {
      "text/html": [
       "<blockquote>... study need improve understand pathogenesis highly prevalent virus particularly essential light significance public health considerable associate clinical morbidity direct indirect cost result rv non-rv ev infection place heavy financial burden healthcare system worldwide total cost associate rv infection usa estimate approximately us$40 year great condition hypertension asthma chronic obstructive <mark>pulmonary disease</mark> numerous ev inhibitor show promise currently study commercialize strategy development vaccine non-rv ev poliovirus rv fail far primarily lack cross-protection different subtype improve knowledge rv evolution diversity crucial reasonable hope success find new antiviral target supplementary material follow available online http://www.mdpi.com/1999-4915/8/1/16/s1 s1 genbank id selec ...</blockquote> "
      ],
      "text/plain": [
       "<IPython.core.display.HTML object>"
      ]
     },
     "metadata": {},
     "output_type": "display_data"
    },
    {
     "data": {
      "text/html": [
       "<h1>PULMONARY DISEASE</h1>"
      ],
      "text/plain": [
       "<IPython.core.display.HTML object>"
      ]
     },
     "metadata": {},
     "output_type": "display_data"
    },
    {
     "data": {
      "text/html": [
       "<p><strong>Title:</strong> Viruses and asthma ☆</br>\n",
       "                      <strong>ID:</strong> 21a4369f83891bf6975dd916c0aa495d5df8709e</br>\n",
       "                      <strong> Number of macthes:  </strong> 1\n",
       "                      </p>"
      ],
      "text/plain": [
       "<IPython.core.display.HTML object>"
      ]
     },
     "metadata": {},
     "output_type": "display_data"
    },
    {
     "data": {
      "text/html": [
       "<blockquote>... caid database child age year child age year asthma significantly increase acute cardiopulmonary hospitalization rate define hospitalization pneumonia influenza acute respiratory tract infection heart failure myocarditis outpatient visit antibiotic course influenza season compare predefine peri-influenza season child age year asthma demonstrate significant increase hospitalization rate acute cardio<mark>pulmonary disease</mark> influenza season rate outpatient visit antibiotic course markedly increase age group similar study child medical condition place high risk complication influenzain asthma account average high-risk medical condition yearhad increase incidence hospitalization outpatient visit compare healthy patient influenza season study limit retrospective assessment reliance diagnostic code viru ...</blockquote> "
      ],
      "text/plain": [
       "<IPython.core.display.HTML object>"
      ]
     },
     "metadata": {},
     "output_type": "display_data"
    },
    {
     "data": {
      "text/html": [
       "<h1>PULMONARY DISEASE</h1>"
      ],
      "text/plain": [
       "<IPython.core.display.HTML object>"
      ]
     },
     "metadata": {},
     "output_type": "display_data"
    },
    {
     "data": {
      "text/html": [
       "<p><strong>Title:</strong> Observational Research in Childhood Infectious Diseases (ORChID): a dynamic birth cohort study</br>\n",
       "                      <strong>ID:</strong> fcf83e742399308d0bd2e6c735ec2d46ecb03b9d</br>\n",
       "                      <strong> Number of macthes:  </strong> 1\n",
       "                      </p>"
      ],
      "text/plain": [
       "<IPython.core.display.HTML object>"
      ]
     },
     "metadata": {},
     "output_type": "display_data"
    },
    {
     "data": {
      "text/html": [
       "<blockquote>... ear life average infant experience aris year complication rate acute otitis medium sinusitis high age group infant hospitalise viral low respiratory tract infection include bronchiolitis pneumonia croup secondary bacterial pneumonia emerge evidence infectious insult grow develope lung early childhood contribute pathogenesis chronic pulmonary disorder old child adulthood asthma chronic obstructive <mark>pulmonary disease</mark> bronchiectasis young child household introducer actively transmit respiratory infection family member take aris child enormous current future cost healthcare system family society likewise acute gastroenteritis age major cause childhood morbidity high-income country average diarrhoeal episode child year report globally reach episode child year setting virus remain important cause ...</blockquote> "
      ],
      "text/plain": [
       "<IPython.core.display.HTML object>"
      ]
     },
     "metadata": {},
     "output_type": "display_data"
    },
    {
     "data": {
      "text/html": [
       "<h1>PULMONARY DISEASE</h1>"
      ],
      "text/plain": [
       "<IPython.core.display.HTML object>"
      ]
     },
     "metadata": {},
     "output_type": "display_data"
    },
    {
     "data": {
      "text/html": [
       "<p><strong>Title:</strong> Activation of Transgene-specific T Cells Following Lentivirus-mediated Gene Delivery to Mouse Lung Lentivirus Vector Elicits T Cells in Mouse Lung</br>\n",
       "                      <strong>ID:</strong> 644bd897bcc12b1b63f04e615d170f88248fa281</br>\n",
       "                      <strong> Number of macthes:  </strong> 1\n",
       "                      </p>"
      ],
      "text/plain": [
       "<IPython.core.display.HTML object>"
      ]
     },
     "metadata": {},
     "output_type": "display_data"
    },
    {
     "data": {
      "text/html": [
       "<blockquote>... tr cystic fibrosis transmembrane conductance regulator)specific t-cell activation follow expression therapeutic cftr gene cystic fibrosis subject common mutation deletion phenylalanine residue δf508 ref propose expression therapeutic cftr cystic fibrosis subject δf508 cftr mutation subject antigen crosspresentation activation quiescent cftr-specific cell development lentiviral vector gene therapy <mark>pulmonary disease</mark> propose evaluation impact transgene-specific cell lentiviral-based preclinical animal study vsv-g encode respectively ntdl6 lcmv mokola vsv-g viral envelope generate pseudotyped lentivirus vector previously describe pseudotyped lentivirus vector produce triple transfection cell capo precipitation method vector resuspend complete dulbecco modify eagle medium store −80 c. tu/ml det ...</blockquote> "
      ],
      "text/plain": [
       "<IPython.core.display.HTML object>"
      ]
     },
     "metadata": {},
     "output_type": "display_data"
    }
   ],
   "source": [
    "search_string = \"pulmonary disease\"\n",
    "for index, row in corona_df.iterrows():\n",
    "    texts = find_all_texts(row['text'], search_string,400)\n",
    "    if texts == []:\n",
    "        continue\n",
    "  \n",
    "    paper_id = row['paper_id']\n",
    "    title = row['title']\n",
    "    display(HTML(f'<h1>{search_string.upper()}</h1>'))\n",
    "    display(HTML(f\"\"\"<p><strong>Title:</strong> {title}</br>\n",
    "                      <strong>ID:</strong> {paper_id}</br>\n",
    "                      <strong> Number of macthes:  </strong> {len(texts)}\n",
    "                      </p>\"\"\"))\n",
    "    for i in texts:\n",
    "        marked_text = str(i.replace(search_string, f\"<mark>{search_string}</mark>\"))\n",
    "        display(HTML(f\"\"\"<blockquote>... {marked_text} ...</blockquote> \"\"\"))"
   ]
  },
  {
   "cell_type": "code",
   "execution_count": 34,
   "metadata": {},
   "outputs": [],
   "source": [
    "documents = []\n",
    "for index, row in corona_df.iterrows():\n",
    "    documents.append(find_all_texts(row['text'], search_string,40))"
   ]
  },
  {
   "cell_type": "code",
   "execution_count": 35,
   "metadata": {},
   "outputs": [],
   "source": [
    "nlp = en_core_sci_md.load(disable = ['tagger', 'parser', 'ner'])\n",
    "nlp.max_length = 2000000"
   ]
  },
  {
   "cell_type": "code",
   "execution_count": 36,
   "metadata": {},
   "outputs": [],
   "source": [
    "def spacy_tokenizer(sentence):\n",
    "    sentence = sentence.lower()\n",
    "    lista = []\n",
    "    lista = [word.lemma_ for word in nlp(sentence) if not (word.is_stop or\n",
    "                                                         word.like_num or\n",
    "                                                         word.is_punct or \n",
    "                                                         word.is_space or\n",
    "                                                         len(word)==1)]\n",
    "    lista = ' '.join([str(element) for element in lista])\n",
    "    return lista"
   ]
  },
  {
   "cell_type": "markdown",
   "metadata": {},
   "source": [
    "Até agora foi utilizado a opção de de busca de apenas 1 palavra, onde aparece o Título, ID e quantas vezes a palavra desejada apareceu no artigo, facilitando assim a busca por conteúdo.\n",
    "\n",
    "A seguir, será feita a busca por mais de uma palavra, conforme o desejo do especialista de saúde"
   ]
  },
  {
   "cell_type": "code",
   "execution_count": 37,
   "metadata": {},
   "outputs": [
    {
     "data": {
      "text/plain": [
       "[city, traveller]"
      ]
     },
     "execution_count": 37,
     "metadata": {},
     "output_type": "execute_result"
    }
   ],
   "source": [
    "search_strings = ['city', 'traveller']\n",
    "tokens_list = [nlp(spacy_tokenizer(item)) for item in search_strings]\n",
    "tokens_list"
   ]
  },
  {
   "cell_type": "code",
   "execution_count": 38,
   "metadata": {},
   "outputs": [],
   "source": [
    "from spacy.matcher import PhraseMatcher\n",
    "matcher = PhraseMatcher(nlp.vocab)\n",
    "matcher.add(\"SEARCH\", None, *tokens_list)\n",
    "number_of_words = 50"
   ]
  },
  {
   "cell_type": "code",
   "execution_count": 39,
   "metadata": {},
   "outputs": [
    {
     "data": {
      "text/html": [
       "<h1>pulmonary disease</h1>"
      ],
      "text/plain": [
       "<IPython.core.display.HTML object>"
      ]
     },
     "metadata": {},
     "output_type": "display_data"
    },
    {
     "data": {
      "text/html": [
       "<p><strong>Title:</strong> Exploring motivations behind pollution- mask use in a sample of young adults in urban China</br>\n",
       "                      <strong>ID:</strong> d0cd9dce26de5d011fa364f5131d8e40630ead35</br>\n",
       "                      <strong> Number of macthes:  </strong> 2\n",
       "                      </p>"
      ],
      "text/plain": [
       "<IPython.core.display.HTML object>"
      ]
     },
     "metadata": {},
     "output_type": "display_data"
    },
    {
     "data": {
      "text/html": [
       "<blockquote>... smoke home effective alternative reduce personal exposure particulate matt specifically outdoor wear pollution mask promotion pollution mask wear core government-initiated program guide individual response pollution exposure spite public promotion practical straightforward form self-prevention cheap find large numb individual wear pollution mask pollute day resistance strong young well educate people big <mark>city</mark> country interestingly one easily target initiative government official aim wide dissemination information warning well practice protect pollution puzzle extent suggest extreme cost effectiveness accessibility mask impediment adopt healthy habit likely find behaviour inform condition individual attitude social pressure efficacy facemask prevent inhalation pm successfully test previous research show immediate positive<br/><br> ...</blockquote"
      ],
      "text/plain": [
       "<IPython.core.display.HTML object>"
      ]
     },
     "metadata": {},
     "output_type": "display_data"
    },
    {
     "data": {
      "text/html": [
       "<h1>pulmonary disease</h1>"
      ],
      "text/plain": [
       "<IPython.core.display.HTML object>"
      ]
     },
     "metadata": {},
     "output_type": "display_data"
    },
    {
     "data": {
      "text/html": [
       "<p><strong>Title:</strong> *World Health Organization</br>\n",
       "                      <strong>ID:</strong> e159298c6d214ba5e950ef1cda327cf5a88326b8</br>\n",
       "                      <strong> Number of macthes:  </strong> 4\n",
       "                      </p>"
      ],
      "text/plain": [
       "<IPython.core.display.HTML object>"
      ]
     },
     "metadata": {},
     "output_type": "display_data"
    },
    {
     "data": {
      "text/html": [
       "<blockquote>... public recommend mask-wearing open air initially require sydney late think unnecessary unite state person wear mask protective measure report tucson arizona note early measure include isolation ill people closure school church theatre etc epidemic worsen week pass criticism measure express vocally business lose money religious educational institution allow business reopen <mark>city</mark> official order mask wear place people meet transaction necessary business late person appear public place day virtually universal compliance mask wear epidemic subside sars epidemic hong kong resident report wear mask public note influenza virus isolation rate decrease multiple measure implement contribution mask use uncertain case-control study conduct beijing hong<br/><br> ...</blockquote"
      ],
      "text/plain": [
       "<IPython.core.display.HTML object>"
      ]
     },
     "metadata": {},
     "output_type": "display_data"
    },
    {
     "data": {
      "text/html": [
       "<h1>pulmonary disease</h1>"
      ],
      "text/plain": [
       "<IPython.core.display.HTML object>"
      ]
     },
     "metadata": {},
     "output_type": "display_data"
    },
    {
     "data": {
      "text/html": [
       "<p><strong>Title:</strong> Title: Severe outcomes associated with respiratory viruses in newborns and infants: a prospective viral surveillance study in Jordan Correspondence to</br>\n",
       "                      <strong>ID:</strong> e2173589087169565c3aab50650c965bd545124d</br>\n",
       "                      <strong> Number of macthes:  </strong> 3\n",
       "                      </p>"
      ],
      "text/plain": [
       "<IPython.core.display.HTML object>"
      ]
     },
     "metadata": {},
     "output_type": "display_data"
    },
    {
     "data": {
      "text/html": [
       "<blockquote>... identify association low infant vitamin level increase risk ari study find low level vitamin child admit icu bronchiolitis pneumonia compare admit ward observational evidence support interventional study determine vitamin supplementation reduce respiratory illness severity population principal strength study basis year surveillance datum public hospital serve poor lower-middle class child large <mark>city</mark> middle east north africa mena region prior study large prospective study respiratory viral disease child complete set ongoing surveillance enable test sample time mers-cov outbreak confirm child study admit mers-cov state-of-the-art molecular diagnostics well assessment date respiratory viral etiology hospitalize child mena nation limitation include have day surveillance week weight<br/><br> ...</blockquote"
      ],
      "text/plain": [
       "<IPython.core.display.HTML object>"
      ]
     },
     "metadata": {},
     "output_type": "display_data"
    },
    {
     "data": {
      "text/html": [
       "<h1>pulmonary disease</h1>"
      ],
      "text/plain": [
       "<IPython.core.display.HTML object>"
      ]
     },
     "metadata": {},
     "output_type": "display_data"
    },
    {
     "data": {
      "text/html": [
       "<p><strong>Title:</strong> A Single-Center Study of Viral Respiratory Tract Infections in Hospitalized Children From the Kurdistan Region of Iraq</br>\n",
       "                      <strong>ID:</strong> 83e5553035f500f4bcc4aeeaa41aa74ebf578567</br>\n",
       "                      <strong> Number of macthes:  </strong> 4\n",
       "                      </p>"
      ],
      "text/plain": [
       "<IPython.core.display.HTML object>"
      ]
     },
     "metadata": {},
     "output_type": "display_data"
    },
    {
     "data": {
      "text/html": [
       "<blockquote>... pediatric outpatient department require explore possibility development new molecular diagnostic method particularly multiplex pcr assay significantly large number viral coinfections detect recent year study viral coinfections confirm patient similar study publish akinloye bicer study group dual infection involve hev/hrv common occur combination rsv hmpv seasonality virus-associated infection study area erbil <mark>city</mark> study clearly show summer ie dry season kurdistan numb respiratory infection greatly reduce consistent previous study show lowlevel circulation respiratory virus dry season seasonality respiratory virus infection know vary temperature humidity variation study area distinct season low temperature usually occur january average february average temperature vary increase rainfall april weather<br/><br> ...</blockquote"
      ],
      "text/plain": [
       "<IPython.core.display.HTML object>"
      ]
     },
     "metadata": {},
     "output_type": "display_data"
    },
    {
     "data": {
      "text/html": [
       "<h1>pulmonary disease</h1>"
      ],
      "text/plain": [
       "<IPython.core.display.HTML object>"
      ]
     },
     "metadata": {},
     "output_type": "display_data"
    },
    {
     "data": {
      "text/html": [
       "<p><strong>Title:</strong> Evaluating the impact of international airline suspensions on the early global spread of COVID-19</br>\n",
       "                      <strong>ID:</strong> ba3efcd6b74e55327fd7db470d824fc18943f30e</br>\n",
       "                      <strong> Number of macthes:  </strong> 1\n",
       "                      </p>"
      ],
      "text/plain": [
       "<IPython.core.display.HTML object>"
      ]
     },
     "metadata": {},
     "output_type": "display_data"
    },
    {
     "data": {
      "text/html": [
       "<blockquote>... effective distance china figure country have high increase finally present analysis compare difference estimate versus report time arrival respect different component score idvi figure investigate potential factor explain report delay multiple ongoing attempt use airline traffic datum quantify global risk pose covid-19 author employ air travel volume obtain iata major <mark>city</mark> china rank country idvi convey vulnerability consider task forecast international domestic spread covid-19 employ official airline group oag datum determine air traffic country fit generalize linear model observe numb case country function air traffic volume obtain oag datum author refer determine country potential risk under-detection provide africa-specific case-study vulnerability preparedness<br/><br> ...</blockquote"
      ],
      "text/plain": [
       "<IPython.core.display.HTML object>"
      ]
     },
     "metadata": {},
     "output_type": "display_data"
    },
    {
     "data": {
      "text/html": [
       "<h1>pulmonary disease</h1>"
      ],
      "text/plain": [
       "<IPython.core.display.HTML object>"
      ]
     },
     "metadata": {},
     "output_type": "display_data"
    },
    {
     "data": {
      "text/html": [
       "<p><strong>Title:</strong> Malaria and the mobile and migrant population in Cambodia: a population movement framework to inform strategies for malaria control and elimination Open Access</br>\n",
       "                      <strong>ID:</strong> 5f88f46f2e2fe48b05a5cfefcfbe74f4bc90f574</br>\n",
       "                      <strong> Number of macthes:  </strong> 3\n",
       "                      </p>"
      ],
      "text/plain": [
       "<IPython.core.display.HTML object>"
      ]
     },
     "metadata": {},
     "output_type": "display_data"
    },
    {
     "data": {
      "text/html": [
       "<blockquote>... high mobility mmp know main limitation malaria control elimination gm mobility work location identify important determinant access outreach factor contribute high incidence malaria mmps cambodia compare static mobile population similar socio-economic demographic profile typically capture standard household survey result national malaria survey conduct cambodia show prevalence malaria mobile population include <mark>traveller</mark> visitor forest goer generally high resident population odd have positive blood slide increase three-fold forest goer compare non-forest goer address challenge support goal national malaria elimination strategy cambodian nmcp propose development mmp strategy aim adapt well target intervention hard-to reach population order contribute process step plan research population movement framework<br/><br> ...</blockquote"
      ],
      "text/plain": [
       "<IPython.core.display.HTML object>"
      ]
     },
     "metadata": {},
     "output_type": "display_data"
    },
    {
     "data": {
      "text/html": [
       "<h1>pulmonary disease</h1>"
      ],
      "text/plain": [
       "<IPython.core.display.HTML object>"
      ]
     },
     "metadata": {},
     "output_type": "display_data"
    },
    {
     "data": {
      "text/html": [
       "<p><strong>Title:</strong> Sorting within the Regulated Secretory Pathway Occurs in the trans-Golgi Network</br>\n",
       "                      <strong>ID:</strong> 26b944ce8d2f033704c7aeef38b0c128c0dd18be</br>\n",
       "                      <strong> Number of macthes:  </strong> 1\n",
       "                      </p>"
      ],
      "text/plain": [
       "<IPython.core.display.HTML object>"
      ]
     },
     "metadata": {},
     "output_type": "display_data"
    },
    {
     "data": {
      "text/html": [
       "<blockquote>... cell account translate protein berry arch scheller al. asymmetric distribution amino acid prohormone fig. allow selective label sort carboxy amino terminal-derived peptide study use property selectively follow flow neuropeptide derive elh precursor secretory pathway result suggest possible mechanism underlie sort regulate secretory pathway 750-g aplysia obtain sea life supply sand <mark>city</mark> bag ceil cluster isolate equilibrate artificial sea water asw mm naci mm kci mm mgci2 mm mgso4 mm caci2 mm tris ph rain cluster incubate isoleucine 3h ile l-[2 3h]phenylalanine ([3h]-phe)(amersham corp arlington height il mci/ml 30-rain pulse mci/mi 5-rain pulse min chase asw plus mm phe asw plus mm<br/><br> ...</blockquote"
      ],
      "text/plain": [
       "<IPython.core.display.HTML object>"
      ]
     },
     "metadata": {},
     "output_type": "display_data"
    },
    {
     "data": {
      "text/html": [
       "<h1>pulmonary disease</h1>"
      ],
      "text/plain": [
       "<IPython.core.display.HTML object>"
      ]
     },
     "metadata": {},
     "output_type": "display_data"
    },
    {
     "data": {
      "text/html": [
       "<p><strong>Title:</strong> The Ethanol Extract from Lonicera japonica Thunb. Regresses Nonalcoholic Steatohepatitis in a Methionine-and Choline-Deficient Diet-Fed Animal Model</br>\n",
       "                      <strong>ID:</strong> 0706374e8a8a5eaf3bff4d2555c0f0db11294755</br>\n",
       "                      <strong> Number of macthes:  </strong> 1\n",
       "                      </p>"
      ],
      "text/plain": [
       "<IPython.core.display.HTML object>"
      ]
     },
     "metadata": {},
     "output_type": "display_data"
    },
    {
     "data": {
      "text/html": [
       "<blockquote>... carry cytochrome p450 cyp 2e1 tumor necrosis factor (tnf)α transform growth factor (tgf)-β α-smooth muscle actin sma type collagen collagen matrix metalloproteinase (mmp)2 mmp9 peroxisome acyl-coa diacylglycerol acyltransferase dgat2 proliferator-activated receptor ppar β-actin lightcycler system bio-rad sample run analyze duplicate primer design primer express software version system apply biosystems foster <mark>city</mark> usa pcr reaction perform follow cycle protocol 95˝c min cycle 95˝c 58˝c 72˝c s. dissociation curve run amplification identify specific pcr product mrna level normalize β-actin mrna value result express fold change threshold cycle ct value relative control delta-delta ct method ensure amplification specifi<mark>city</mark> rt-pcr amplify product subject agarose gel<br/><br> ...</blockquote"
      ],
      "text/plain": [
       "<IPython.core.display.HTML object>"
      ]
     },
     "metadata": {},
     "output_type": "display_data"
    },
    {
     "data": {
      "text/html": [
       "<h1>pulmonary disease</h1>"
      ],
      "text/plain": [
       "<IPython.core.display.HTML object>"
      ]
     },
     "metadata": {},
     "output_type": "display_data"
    },
    {
     "data": {
      "text/html": [
       "<p><strong>Title:</strong> Evaluation of a single-tube fluorogenic RT-PCR assay for detection of bovine respiratory syncytial virus in clinical samples</br>\n",
       "                      <strong>ID:</strong> 0a9145664ca5e8dd902b5f01f70a53e638ab52a9</br>\n",
       "                      <strong> Number of macthes:  </strong> 2\n",
       "                      </p>"
      ],
      "text/plain": [
       "<IPython.core.display.HTML object>"
      ]
     },
     "metadata": {},
     "output_type": "display_data"
    },
    {
     "data": {
      "text/html": [
       "<blockquote>... ab huddinge sweden taqman probe term brsv-f-taqman-546 follow sequence agagcctgcat-trtcacaataccaccca bp complementary probe label 6-carboxyfluorescein fam end nonfluorescent black hole quencher dye end bhq biosearch technology novato usa reverse primer probe design tolerate mismatch predict product size brsv amplicon bp frt-pcr carry abi prism sequence detection system apply biosystems foster <mark>city</mark> usa optimise titration series primer probe mn assay carry total volume 96-well optical reaction plate microamp optical tube apply biosystems reaction mixture contain extract rna dmpc water brsv primer probe mm 4x dntps mm mn(aoc u/l rtth dna polymerase apply biosystems ez buff mg/ml bsa final volume adjust dmpc water<br/><br> ...</blockquote"
      ],
      "text/plain": [
       "<IPython.core.display.HTML object>"
      ]
     },
     "metadata": {},
     "output_type": "display_data"
    },
    {
     "data": {
      "text/html": [
       "<h1>pulmonary disease</h1>"
      ],
      "text/plain": [
       "<IPython.core.display.HTML object>"
      ]
     },
     "metadata": {},
     "output_type": "display_data"
    },
    {
     "data": {
      "text/html": [
       "<p><strong>Title:</strong> Oral efficacy of Vero cell attenuated porcine epidemic diarrhea virus DR13 strain</br>\n",
       "                      <strong>ID:</strong> f0e555aecc900434e6998bc89a6873049a4e3965</br>\n",
       "                      <strong> Number of macthes:  </strong> 1\n",
       "                      </p>"
      ],
      "text/plain": [
       "<IPython.core.display.HTML object>"
      ]
     },
     "metadata": {},
     "output_type": "display_data"
    },
    {
     "data": {
      "text/html": [
       "<blockquote>... rt-pcr experiment kim al. song al. follow primer employ amplification pedv -ttctgagtca-cgaacagcca-3 forward -catatgcag-cctgctctgaa-3 reverse size amplify product bp positive control utilize cell-attenuated pedv kped-9 strain provide virology lab national veterinary research quarantine service korea reverse primer synthesis complementary dna three-step procedure perform thermal cycler perkin-elmer apply biosystems inc foster <mark>city</mark> sample amplify program consist incubation min follow cycle denaturation anneal extension cycle denaturation anneal extension add cycle completion cycle sample keep min cool specifi<mark>city</mark> pcr evaluate causative agent diarrhea tgev porcine rotavirus bovine viral diarrhea virus passage dr13 passage level colostrumdeprived 3-day-old pig dr13 piglet passaged report previously modification welter<br/><br> ...</blockquote"
      ],
      "text/plain": [
       "<IPython.core.display.HTML object>"
      ]
     },
     "metadata": {},
     "output_type": "display_data"
    },
    {
     "data": {
      "text/html": [
       "<h1>pulmonary disease</h1>"
      ],
      "text/plain": [
       "<IPython.core.display.HTML object>"
      ]
     },
     "metadata": {},
     "output_type": "display_data"
    },
    {
     "data": {
      "text/html": [
       "<p><strong>Title:</strong> Severe neurologic syndrome associated with Middle East respiratory syndrome corona virus (MERS-CoV)</br>\n",
       "                      <strong>ID:</strong> 549932f86b8f9e52e990b8e0b85db63bdd48ac0e</br>\n",
       "                      <strong> Number of macthes:  </strong> 1\n",
       "                      </p>"
      ],
      "text/plain": [
       "<IPython.core.display.HTML object>"
      ]
     },
     "metadata": {},
     "output_type": "display_data"
    },
    {
     "data": {
      "text/html": [
       "<blockquote>... arabia june numb laboratory-confirmed case exceed case globally die disease present severe respiratory infection shock acute kidney injury coagulopathy recently report clinical manifestation outcome patient mers-cov infection admit intensive care unit icu report case present severe neurologic syndrome knowledge identify case neurologic injury associate mers-cov infection patient king abdulaziz medical <mark>city</mark> riyadh present community february march admit different ward manage separately prior admission icu hospital transmission mers-cov healthcare worker hospitalization approval collect datum patient report obtain institutional review board ministry national guard-health affair consent waive observational nature study institutional policy clinical course laboratory radiological finding patient community-acquired mers-cov progressive neurological finding<br/><br> ...</blockquote"
      ],
      "text/plain": [
       "<IPython.core.display.HTML object>"
      ]
     },
     "metadata": {},
     "output_type": "display_data"
    },
    {
     "data": {
      "text/html": [
       "<h1>pulmonary disease</h1>"
      ],
      "text/plain": [
       "<IPython.core.display.HTML object>"
      ]
     },
     "metadata": {},
     "output_type": "display_data"
    },
    {
     "data": {
      "text/html": [
       "<p><strong>Title:</strong> Containment measures for emerging and re-emerging vector-borne and other infectious diseases of poverty in urban settings: a scoping review</br>\n",
       "                      <strong>ID:</strong> a336fd69f73d0debd55b454b97ff45cf9f39d82a</br>\n",
       "                      <strong> Number of macthes:  </strong> 1\n",
       "                      </p>"
      ],
      "text/plain": [
       "<IPython.core.display.HTML object>"
      ]
     },
     "metadata": {},
     "output_type": "display_data"
    },
    {
     "data": {
      "text/html": [
       "<blockquote>... zika virus share similar feature dengue fever chikungunya clinical public health community catch guard give consequence fetal infection rapid spread disease zika pandemic certainly emerge infectious disease challenge global health system necessary understand common knowledge gap outbreak response previous epidemic improve containment future outbreak particularly important consider emergence new challenge <mark>city</mark> include demographic environmental change approximately half world population live urban setting rapid population growth occur low-income country urban low-resource setting particularly prone epidemic new megacities act perfect incubator introduction disease accelerate uncontrolled urbanization result amplify circulation pathogen high population density mobility weak infrastructure waste management service poor house important absence<br/><br> ...</blockquote"
      ],
      "text/plain": [
       "<IPython.core.display.HTML object>"
      ]
     },
     "metadata": {},
     "output_type": "display_data"
    },
    {
     "data": {
      "text/html": [
       "<h1>pulmonary disease</h1>"
      ],
      "text/plain": [
       "<IPython.core.display.HTML object>"
      ]
     },
     "metadata": {},
     "output_type": "display_data"
    },
    {
     "data": {
      "text/html": [
       "<p><strong>Title:</strong> China's rural electricity market-a quantitative analysis</br>\n",
       "                      <strong>ID:</strong> b1758122645fe23b60639235c9400e99485739e9</br>\n",
       "                      <strong> Number of macthes:  </strong> 1\n",
       "                      </p>"
      ],
      "text/plain": [
       "<IPython.core.display.HTML object>"
      ]
     },
     "metadata": {},
     "output_type": "display_data"
    },
    {
     "data": {
      "text/html": [
       "<blockquote>... invest rural electri<mark>city</mark> market general financially viable economically sound socially friendly private sector little incentive participate rural electri<mark>city</mark> market development instead government initiate and/or invest rural electri<mark>city</mark> development program ii main objective government rural electri<mark>city</mark> market development include poverty reduction rural economic development sustainable development rural area mitigate migration countryside <mark>city</mark> yang yu review examine evolution china power sector period paper cover area institutional development reform china power industry power shortage 1980s power supply different resource capital investment structure tariff policy demand management energy efficiency policy practice law power industry environmental impact power generation additional hot topic add china power literature<br/><br> ...</blockquote"
      ],
      "text/plain": [
       "<IPython.core.display.HTML object>"
      ]
     },
     "metadata": {},
     "output_type": "display_data"
    },
    {
     "data": {
      "text/html": [
       "<h1>pulmonary disease</h1>"
      ],
      "text/plain": [
       "<IPython.core.display.HTML object>"
      ]
     },
     "metadata": {},
     "output_type": "display_data"
    },
    {
     "data": {
      "text/html": [
       "<p><strong>Title:</strong> Original StudieS Epidemiology and Virology of Acute Respiratory Infections During the First Year of Life A Birth Cohort Study in Vietnam</br>\n",
       "                      <strong>ID:</strong> 623c7837507886a9e4cc4e4e58a95aa81cb5406a</br>\n",
       "                      <strong> Number of macthes:  </strong> 1\n",
       "                      </p>"
      ],
      "text/plain": [
       "<IPython.core.display.HTML object>"
      ]
     },
     "metadata": {},
     "output_type": "display_data"
    },
    {
     "data": {
      "text/html": [
       "<blockquote>... identification risk factor infection disease previous study limit hospital-based cross-sectional small size include year-round case detection focus detection specific pathogen study aim describe epidemiology viral etiology ari year life ongoing prospective infant cohort southern vietnam catchment area southern vietnam birth cohort study include highly urban district central ho chi minh <mark>city</mark> hcmc district population census population density approx 20,000/km mix urban/rural district dong thap province km south-west hcmc cao lanh district population population density 1500/km hospital hcmc hospital tropical disease hang vuong obstetric hospital district hospital child hospital dong thap provincial hospital participate study protocol approve institutional review board hospital oxford<br/><br> ...</blockquote"
      ],
      "text/plain": [
       "<IPython.core.display.HTML object>"
      ]
     },
     "metadata": {},
     "output_type": "display_data"
    },
    {
     "data": {
      "text/html": [
       "<h1>pulmonary disease</h1>"
      ],
      "text/plain": [
       "<IPython.core.display.HTML object>"
      ]
     },
     "metadata": {},
     "output_type": "display_data"
    },
    {
     "data": {
      "text/html": [
       "<p><strong>Title:</strong> Emerging and re-emerging infectious diseases in Iran</br>\n",
       "                      <strong>ID:</strong> 33c50b9e506abf3c1db6bf58bd77b97155f9e903</br>\n",
       "                      <strong> Number of macthes:  </strong> 3\n",
       "                      </p>"
      ],
      "text/plain": [
       "<IPython.core.display.HTML object>"
      ]
     },
     "metadata": {},
     "output_type": "display_data"
    },
    {
     "data": {
      "text/html": [
       "<blockquote>... continuous report htlv-1 infection blood donor patient mashhad molecular study show virus cluster cosmopolitan subtype blood donor-based study show low rate infection part country htlv-1 show slight increase mashhadi blood donor rate infection decrease year respectively study reveal htlv-1 positive case general population mashhad suggest reemerge status infection <mark>city</mark> neighbor <mark>city</mark> neyshabour frequent blood recipient hemodialysis patient remain major high-risk group htlv-1 infection country addition blood transfusion breast-feed sexual transmission history surgical procedure hospitalization traditional cup introduce main risk factor htlv-1 transmission iran iran 2 rank htlv-1 prevalence japan proper screen measure include blood transfusion center country educational program addition highly<br/><br> ...</blockquote"
      ],
      "text/plain": [
       "<IPython.core.display.HTML object>"
      ]
     },
     "metadata": {},
     "output_type": "display_data"
    },
    {
     "data": {
      "text/html": [
       "<h1>pulmonary disease</h1>"
      ],
      "text/plain": [
       "<IPython.core.display.HTML object>"
      ]
     },
     "metadata": {},
     "output_type": "display_data"
    },
    {
     "data": {
      "text/html": [
       "<p><strong>Title:</strong> Human adenovirus among hospitalized children with respiratory tract infections in</br>\n",
       "                      <strong>ID:</strong> e0e0a545d003e79b46773517d09ac3e7af93ba3f</br>\n",
       "                      <strong> Number of macthes:  </strong> 3\n",
       "                      </p>"
      ],
      "text/plain": [
       "<IPython.core.display.HTML object>"
      ]
     },
     "metadata": {},
     "output_type": "display_data"
    },
    {
     "data": {
      "text/html": [
       "<blockquote>... numb patient test period sample collect study duration previous study show hadv detection rate positively correlate monthly mean temperature sunshine duration negative correlate wind speed fact high air temperature high detection rate study reveal hadv infection occur year high prevalence summer jun aug peak august similar find tianjin northern chinese <mark>city</mark> hadv infection concentrate summer find discordant study report seasonal peak hadv infection spring northern china mexico find hadv infection occur predominantly child year age demonstrate hadv important pediatric pathogen previous study draw identical conclusion child infect hadv early age hadvs easily transmit fomites contaminate infectious body fluid study hadv detection<br/><br> ...</blockquote"
      ],
      "text/plain": [
       "<IPython.core.display.HTML object>"
      ]
     },
     "metadata": {},
     "output_type": "display_data"
    },
    {
     "data": {
      "text/html": [
       "<h1>pulmonary disease</h1>"
      ],
      "text/plain": [
       "<IPython.core.display.HTML object>"
      ]
     },
     "metadata": {},
     "output_type": "display_data"
    },
    {
     "data": {
      "text/html": [
       "<p><strong>Title:</strong> Middle East respiratory syndrome coronavirus in dromedary camels: an outbreak investigation</br>\n",
       "                      <strong>ID:</strong> abe97b9d4046417edffcac7a7488ae012da5265a</br>\n",
       "                      <strong> Number of macthes:  </strong> 1\n",
       "                      </p>"
      ],
      "text/plain": [
       "<IPython.core.display.HTML object>"
      ]
     },
     "metadata": {},
     "output_type": "display_data"
    },
    {
     "data": {
      "text/html": [
       "<blockquote>... diffi cult positive negative predictive value remain determine outbreak report show evidence presence virus camel accord internationally recommend criterium independent rt-pcr target furthermore sequence confi rmation additional test increase level certainty-during emerge disease outbreak option validation assay clinical test limit discrepancy assay explain diff erences detection limit diff erences specifi <mark>city</mark> primer set study gene rt-pcr yield additional weak positive result confi rmed method individual orf1a rt-pcr identifi cation animal case result mispriming represent presence level virus detection limit expect end infection cycle result suggest widespread recent outbreak herd coincide infection people datum take evidence infection people camel comparison sequence datum<br/><br> ...</blockquote"
      ],
      "text/plain": [
       "<IPython.core.display.HTML object>"
      ]
     },
     "metadata": {},
     "output_type": "display_data"
    },
    {
     "data": {
      "text/html": [
       "<h1>pulmonary disease</h1>"
      ],
      "text/plain": [
       "<IPython.core.display.HTML object>"
      ]
     },
     "metadata": {},
     "output_type": "display_data"
    },
    {
     "data": {
      "text/html": [
       "<p><strong>Title:</strong> The effect of China's open-door tourism policy on Taiwan: Promoting or suppressing tourism from other countries to Taiwan?</br>\n",
       "                      <strong>ID:</strong> 2bb9c05cf758a884f87d7e1f9ab481eed9b2032f</br>\n",
       "                      <strong> Number of macthes:  </strong> 4\n",
       "                      </p>"
      ],
      "text/plain": [
       "<IPython.core.display.HTML object>"
      ]
     },
     "metadata": {},
     "output_type": "display_data"
    },
    {
     "data": {
      "text/html": [
       "<blockquote>... composition inbound tourist taiwan wave open-door policy implement wave begin people province tour group taiwan 2 wave extend province policy extend province people beijing shanghai xiamen allow travel taiwan individually total quota tourist <mark>city</mark> day quota extend tourist day <mark>city</mark> people tianjin chongqing nanjing guangzhou hangchow chengdu include list quota <mark>city</mark> extend tourist day tourist day wef identify category factor tourism competitiveness nation category international openness price competitiveness relation sustainability travel tourism development availability quality type transportation numb natural spot area cultural know heritage site unwto category tourism environment include business security health human resource-related factor add wef overall rank taiwan<br/><br> ...</blockquote"
      ],
      "text/plain": [
       "<IPython.core.display.HTML object>"
      ]
     },
     "metadata": {},
     "output_type": "display_data"
    },
    {
     "data": {
      "text/html": [
       "<h1>pulmonary disease</h1>"
      ],
      "text/plain": [
       "<IPython.core.display.HTML object>"
      ]
     },
     "metadata": {},
     "output_type": "display_data"
    },
    {
     "data": {
      "text/html": [
       "<p><strong>Title:</strong> International Emergency Medicine PREHOSPITAL EMERGENCY CARE IN SHANGHAI: PRESENT AND FUTURE</br>\n",
       "                      <strong>ID:</strong> b003a769e3c7bd4735fa2dd6cd75b2f87737902e</br>\n",
       "                      <strong> Number of macthes:  </strong> 21\n",
       "                      </p>"
      ],
      "text/plain": [
       "<IPython.core.display.HTML object>"
      ]
     },
     "metadata": {},
     "output_type": "display_data"
    },
    {
     "data": {
      "text/html": [
       "<blockquote>... emergency care include metropolitan rural setting provide optimal level emergency care need increase numb qualify emergency personnel especially emergency physician implement medical control oversight emss furthermore effort need improve efficiency quality ems system public education improve patient outcome increase patient satisfaction development disaster preparedness uniform integrate dispatch system develope entire <mark>city</mark> shanghai facilitate dispatch ambulance shorten average ambulance response time formal emergency medical dispatcher train course implement dispatcher physician-staffed ambulance continue play role ems potential solution problem ambulance staff shortage staff ambulance emergency medical technician emts paramedic choice organize different type rescue team similar country germany france emt/paramedic-based model prehospital care<br/><br> ...</blockquote"
      ],
      "text/plain": [
       "<IPython.core.display.HTML object>"
      ]
     },
     "metadata": {},
     "output_type": "display_data"
    },
    {
     "data": {
      "text/html": [
       "<h1>pulmonary disease</h1>"
      ],
      "text/plain": [
       "<IPython.core.display.HTML object>"
      ]
     },
     "metadata": {},
     "output_type": "display_data"
    },
    {
     "data": {
      "text/html": [
       "<p><strong>Title:</strong> A water-focused one-health approach for early detection and prevention of viral outbreaks</br>\n",
       "                      <strong>ID:</strong> 3edd89544597d9f178b831aa1047475fe3910871</br>\n",
       "                      <strong> Number of macthes:  </strong> 1\n",
       "                      </p>"
      ],
      "text/plain": [
       "<IPython.core.display.HTML object>"
      ]
     },
     "metadata": {},
     "output_type": "display_data"
    },
    {
     "data": {
      "text/html": [
       "<blockquote>... concentration excrete virus clinical case report employ europe quantify illicit drug use population wastewaterbased epidemiology apply quantify approximate concentration virus population service wastewater treatment plant urban wastewater treatment plant serve metropolitan area interceptor wastewater collect sample interceptor map interceptor specific neighborhood serve facilitate virus occurrence datum collection representative service area <mark>city</mark> viral concentration observe high interceptor rest correspond service area great concern potential viral outbreak sample rural area complex necessitate determination environment sample base watershed model microbial source track factor importance attain reliable datum wastewater-based epidemiology normalization population vital ensure significant increase viral concentration wastewater sample correspond increase population service area<br/><br> ...</blockquote"
      ],
      "text/plain": [
       "<IPython.core.display.HTML object>"
      ]
     },
     "metadata": {},
     "output_type": "display_data"
    },
    {
     "data": {
      "text/html": [
       "<h1>pulmonary disease</h1>"
      ],
      "text/plain": [
       "<IPython.core.display.HTML object>"
      ]
     },
     "metadata": {},
     "output_type": "display_data"
    },
    {
     "data": {
      "text/html": [
       "<p><strong>Title:</strong> Exacerbations* Etiology and Pathophysiologic Mechanisms</br>\n",
       "                      <strong>ID:</strong> 96c39eb3cb96d0a6ecb0a0ba02e45ab21b425c3a</br>\n",
       "                      <strong> Number of macthes:  </strong> 1\n",
       "                      </p>"
      ],
      "text/plain": [
       "<IPython.core.display.HTML object>"
      ]
     },
     "metadata": {},
     "output_type": "display_data"
    },
    {
     "data": {
      "text/html": [
       "<blockquote>... require considerable interest effect air pollution copd exacerbation especially respect effect common pollutant hospital admission copd patient find increase number hospital admission suggest increase number exacerbation increase environmental pollution occur december pollution episode unite kingdom copd mortality rate increase increase hospital admission elderly copd patient datum study air pollution european <mark>city</mark> air pollution health european approach project show relative risk copd hospital admission increase g/m daily mean level pollutant lag day total suspendable particle ozone analysis datum birmingham show inhalation particle carry relative risk hospital admission copd generally convince relationship hospital admission copd level particulate pollution study show relationship exposure study<br/><br> ...</blockquote"
      ],
      "text/plain": [
       "<IPython.core.display.HTML object>"
      ]
     },
     "metadata": {},
     "output_type": "display_data"
    },
    {
     "data": {
      "text/html": [
       "<h1>pulmonary disease</h1>"
      ],
      "text/plain": [
       "<IPython.core.display.HTML object>"
      ]
     },
     "metadata": {},
     "output_type": "display_data"
    },
    {
     "data": {
      "text/html": [
       "<p><strong>Title:</strong> Reverse transcription recombinase polymerase amplification with lateral flow dipsticks for detection of influenza A virus and subtyping of H1 and H3</br>\n",
       "                      <strong>ID:</strong> 5c2b4f81e34c3895ccc3eb63df654cc00dd93615</br>\n",
       "                      <strong> Number of macthes:  </strong> 1\n",
       "                      </p>"
      ],
      "text/plain": [
       "<IPython.core.display.HTML object>"
      ]
     },
     "metadata": {},
     "output_type": "display_data"
    },
    {
     "data": {
      "text/html": [
       "<blockquote>... μl cdna μl premix ex taq μl forward reverse primer μm μl taqman probe μm μl rox reference dye ii μl nuclease-free water add vortex mix reaction run follow min cycle s. ct value define quantification cycle represent cross point fluorescent value threshold calculate automatically software v2.0.5 apply biosystems foster <mark>city</mark> usa positive sample define ct value sample ct value confirm forward primer t7 promoter terminus amplify target gene matrix h1 ha h3 ha pcr gel purification linear product bear t7 promoter blunt t4 dna polymerase transcribe vitro transcription t7 kit takara dalian china digest dnase min finally single-stranded rnas purify<br/><br> ...</blockquote"
      ],
      "text/plain": [
       "<IPython.core.display.HTML object>"
      ]
     },
     "metadata": {},
     "output_type": "display_data"
    },
    {
     "data": {
      "text/html": [
       "<h1>pulmonary disease</h1>"
      ],
      "text/plain": [
       "<IPython.core.display.HTML object>"
      ]
     },
     "metadata": {},
     "output_type": "display_data"
    },
    {
     "data": {
      "text/html": [
       "<p><strong>Title:</strong> Extensive diversity of coronaviruses in bats from China</br>\n",
       "                      <strong>ID:</strong> 0f6fac5e86a7b2905e078004092fefce1acb4bfb</br>\n",
       "                      <strong> Number of macthes:  </strong> 2\n",
       "                      </p>"
      ],
      "text/plain": [
       "<IPython.core.display.HTML object>"
      ]
     },
     "metadata": {},
     "output_type": "display_data"
    },
    {
     "data": {
      "text/html": [
       "<blockquote>... virus belong species sarsr-cov accord criterium species demarcation subfamily coronavirinae define international committeeon taxomony virus ictv de groot al. virus rhinolophus bat design sars-related rhinolophus bat coronavirus sarsr-rh-batcov sarsr-rh-batcovs identify r. monoceros r. pearsonii r. sinicus r. thomasi sample <mark>city</mark> longquan zhejiang province similarly sars-related covs identify r. ferrumequinum sample <mark>city</mark> jiyuan henan province remain virus identify r. sinicus r. rex sample county anlong guizhou province rdrp phylogeny fig. know sarsr-rh-batcovs china divide cluster newlyidentified virus fall cluster reflect geographic origin specifically virus identify rhinolophus bat sample zhejiang province denote rhinolophus bat longquan- closely relate cluster rhinolophus bat cov hku3 sample<br/><br> ...</blockquote"
      ],
      "text/plain": [
       "<IPython.core.display.HTML object>"
      ]
     },
     "metadata": {},
     "output_type": "display_data"
    },
    {
     "data": {
      "text/html": [
       "<h1>pulmonary disease</h1>"
      ],
      "text/plain": [
       "<IPython.core.display.HTML object>"
      ]
     },
     "metadata": {},
     "output_type": "display_data"
    },
    {
     "data": {
      "text/html": [
       "<p><strong>Title:</strong> A comprehensive review of the Kumbh Mela: identifying risks for spread of infectious diseases</br>\n",
       "                      <strong>ID:</strong> 90c40e2a395e0d5c0dfdf05a8e87a6955c2b5b6e</br>\n",
       "                      <strong> Number of macthes:  </strong> 5\n",
       "                      </p>"
      ],
      "text/plain": [
       "<IPython.core.display.HTML object>"
      ]
     },
     "metadata": {},
     "output_type": "display_data"
    },
    {
     "data": {
      "text/html": [
       "<blockquote>... diarrhoea case rapidly decline avert potential epidemic situation pilgrim consider unimmunized india child age year unimmunized partially immunize mela attend largely people low socio-economic group tuberculosis endemic india rise concern spread multidrug-resistant disease elderly population over-crowding exhaustion co-morbid condition predispose pilgrim acquire tuberculosis numb serogroup meningococcal outbreak india affect mainly <mark>city</mark> northern india over-crowding mela provide conducive environment transmission meningococcus air-borne droplet-borne infection potential spread mela like influenza measle chicken pox pertussis mump disease vaccine preventable meticulous datum collection help decision make add exist sanitation issue persist problem open air defecation river ton rot marigold coconut offering form scum surface worshipper<br/><br> ...</blockquote"
      ],
      "text/plain": [
       "<IPython.core.display.HTML object>"
      ]
     },
     "metadata": {},
     "output_type": "display_data"
    },
    {
     "data": {
      "text/html": [
       "<h1>pulmonary disease</h1>"
      ],
      "text/plain": [
       "<IPython.core.display.HTML object>"
      ]
     },
     "metadata": {},
     "output_type": "display_data"
    },
    {
     "data": {
      "text/html": [
       "<p><strong>Title:</strong> Title: The incubation period of 2019-nCoV infections among travellers from Wuhan, China</br>\n",
       "                      <strong>ID:</strong> 12fac9aedb1a09a3922a3c084ce4723708e463d6</br>\n",
       "                      <strong> Number of macthes:  </strong> 7\n",
       "                      </p>"
      ],
      "text/plain": [
       "<IPython.core.display.HTML object>"
      ]
     },
     "metadata": {},
     "output_type": "display_data"
    },
    {
     "data": {
      "text/html": [
       "<blockquote>... period stay wuhan epidemic develope time period likely <mark>traveller</mark> infect end begin stay cc-by-nc-nd international license available author/funder grant medrxiv license display preprint perpetuity copyright holder preprint https://doi.org/10.1101/2020.01.27.20018986 medrxiv preprint produce slight bias long incubation period estimate upper limit day consider conservative <mark>traveller</mark> study represent selective sample report case find <mark>traveller</mark> male young case report number small detect systematic difference incubation time age sex information confirm case likely bias severe case area function health care system epidemic continue remain important collect information incubation period 2019-ncov case old age person underlie morbidity woman person mild symptom choice parametric form incubation period distribution<br/><br> ...</blockquote"
      ],
      "text/plain": [
       "<IPython.core.display.HTML object>"
      ]
     },
     "metadata": {},
     "output_type": "display_data"
    },
    {
     "data": {
      "text/html": [
       "<h1>pulmonary disease</h1>"
      ],
      "text/plain": [
       "<IPython.core.display.HTML object>"
      ]
     },
     "metadata": {},
     "output_type": "display_data"
    },
    {
     "data": {
      "text/html": [
       "<p><strong>Title:</strong> The severe acute respiratory syndrome epidemic in mainland China dissected</br>\n",
       "                      <strong>ID:</strong> d83a2c20f409e7be9dbe6e9c8c62ddaf2b506c48</br>\n",
       "                      <strong> Number of macthes:  </strong> 1\n",
       "                      </p>"
      ],
      "text/plain": [
       "<IPython.core.display.HTML object>"
      ]
     },
     "metadata": {},
     "output_type": "display_data"
    },
    {
     "data": {
      "text/html": [
       "<blockquote>... spread sars occur different pattern early period epidemic especially strict control measure take sars spread new area incidentally air travel certain index case human travel local transportation route influence transmission sars epidemic period middlenorth china short south china geographic spread wide sars spread locally diffuse quickly result outbreak close beijing <mark>city</mark> contrast sars epidemic south china mainly limit guangdong province transportation route accelerate spread sars mainland china especially national highway inter-provincial freeway appear play role railway important definition sars case distinction probable suspect case basis contact history numb severity symptom feng al. provide tabulate overview case criterium sars different time period<br/><br> ...</blockquote"
      ],
      "text/plain": [
       "<IPython.core.display.HTML object>"
      ]
     },
     "metadata": {},
     "output_type": "display_data"
    },
    {
     "data": {
      "text/html": [
       "<h1>pulmonary disease</h1>"
      ],
      "text/plain": [
       "<IPython.core.display.HTML object>"
      ]
     },
     "metadata": {},
     "output_type": "display_data"
    },
    {
     "data": {
      "text/html": [
       "<p><strong>Title:</strong> A Long-Term Study of a Lipid-Buprenorphine Implant in Rats</br>\n",
       "                      <strong>ID:</strong> 44c4f131824378c773a3b2e006bed411214feec7</br>\n",
       "                      <strong> Number of macthes:  </strong> 1\n",
       "                      </p>"
      ],
      "text/plain": [
       "<IPython.core.display.HTML object>"
      ]
     },
     "metadata": {},
     "output_type": "display_data"
    },
    {
     "data": {
      "text/html": [
       "<blockquote>... study use animal appear normal prior dose drug injection rat house cage day prevent redosing coprophagy day rat house cage house consist soft fiber contact bed carefresh natural bed ferndale wa ad libitum access harlan teklad certify global rodent diet 2016c harlan teklad indianapolis ad libitum access drink water baltimore <mark>city</mark> water system baltimore md disposable water bottle animal provide ad libitum access harlan teklad certify global rodent diet 2016c harlan teklad indianapolis rat provide enrichment device polycarbonate red tube bio service uden nl static microisolator cage change weekly design label dose mg/kg buprenorphine provide day clinically significant blood level drug<br/><br> ...</blockquote"
      ],
      "text/plain": [
       "<IPython.core.display.HTML object>"
      ]
     },
     "metadata": {},
     "output_type": "display_data"
    },
    {
     "data": {
      "text/html": [
       "<h1>pulmonary disease</h1>"
      ],
      "text/plain": [
       "<IPython.core.display.HTML object>"
      ]
     },
     "metadata": {},
     "output_type": "display_data"
    },
    {
     "data": {
      "text/html": [
       "<p><strong>Title:</strong> Urbanisation and health in China</br>\n",
       "                      <strong>ID:</strong> e5512ef2deb3da83b43c63bd66e74e7101a8042a</br>\n",
       "                      <strong> Number of macthes:  </strong> 20\n",
       "                      </p>"
      ],
      "text/plain": [
       "<IPython.core.display.HTML object>"
      ]
     },
     "metadata": {},
     "output_type": "display_data"
    },
    {
     "data": {
      "text/html": [
       "<blockquote>... speed spread infectious disease urban air water pollution extend rural area environmental transport rural environmental pollution reach urban areas-eg fresh produce contaminate unsafe pesticide reach urban market pathway complex defy simple solution need rigorously investigate understand respond health eff ects urbanisation china importantly air pollution water quality accident risk vary <mark>city</mark> disaggregate statistic capture diff erential exposure health outcome population diff erent urban area need assess eff orts mitigate risk target intervention population bear great disease risk generation datum require extensive monitor urban environmental health risk workplace injury factor monitor activity extend periurban suburban rural area assess reach typically urban environmental<br/><br> ...</blockquote"
      ],
      "text/plain": [
       "<IPython.core.display.HTML object>"
      ]
     },
     "metadata": {},
     "output_type": "display_data"
    },
    {
     "data": {
      "text/html": [
       "<h1>pulmonary disease</h1>"
      ],
      "text/plain": [
       "<IPython.core.display.HTML object>"
      ]
     },
     "metadata": {},
     "output_type": "display_data"
    },
    {
     "data": {
      "text/html": [
       "<p><strong>Title:</strong> Health care delivery and quality Risk factors for wheezing in a subtropical environment: Role of respiratory viruses and allergen sensitization</br>\n",
       "                      <strong>ID:</strong> 03a2f9a8c86cde90a603a64a608290d98fed9aa0</br>\n",
       "                      <strong> Number of macthes:  </strong> 1\n",
       "                      </p>"
      ],
      "text/plain": [
       "<IPython.core.display.HTML object>"
      ]
     },
     "metadata": {},
     "output_type": "display_data"
    },
    {
     "data": {
      "text/html": [
       "<blockquote>... judge attend physician addition child year age boy respiratory symptom previous history wheeze seek ed care hospital reason select control subject frequent complaint control subject acute gastroenteritis fever abdominal pain headache vomit seizure child chronic respiratory illness bronchopulmonary dysplasia report therapy corticosteroid week ed visit 8) include study child resident <mark>city</mark> ribeirão preto wheeze control child enroll month october june december approximately child see ed study period enroll study child approach enroll peak attendance ed wheeze observe year respectively wheeze control child year age enroll february wheeze control child old year enroll march june parent guardian complete questionnaire include question personal<br/><br> ...</blockquote"
      ],
      "text/plain": [
       "<IPython.core.display.HTML object>"
      ]
     },
     "metadata": {},
     "output_type": "display_data"
    },
    {
     "data": {
      "text/html": [
       "<h1>pulmonary disease</h1>"
      ],
      "text/plain": [
       "<IPython.core.display.HTML object>"
      ]
     },
     "metadata": {},
     "output_type": "display_data"
    },
    {
     "data": {
      "text/html": [
       "<p><strong>Title:</strong> The Acute Chest Syndrome in Cameroonian children living with sickle cell disease</br>\n",
       "                      <strong>ID:</strong> 3c568d47a1d134908dc09e454a5a52655d3a9434</br>\n",
       "                      <strong> Number of macthes:  </strong> 1\n",
       "                      </p>"
      ],
      "text/plain": [
       "<IPython.core.display.HTML object>"
      ]
     },
     "metadata": {},
     "output_type": "display_data"
    },
    {
     "data": {
      "text/html": [
       "<blockquote>... ssa particularly affect scd pau<mark>city</mark> datum topic region specifically target magnitude scd-related complication study undertake aim determine burden acs describe clinical therapeutic aspect scd child ssa tertiary pediatric health care facility retrospective study conduct september june scd unit mother child centre chantal biya foundation pediatric reference centre locate yaoundé capital <mark>city</mark> cameroon ssa country tertiary health care facility receive consultation hospitalization annually patient come country scd unit open december deal routine out-patient consultation daily follow-up hospitalize scd child consecutively exhaustively include patient age year hospitalize scd unit study period know scd child adolescent confirm diagnosis acs entry hospitalization diagnosis acs base<br/><br> ...</blockquote"
      ],
      "text/plain": [
       "<IPython.core.display.HTML object>"
      ]
     },
     "metadata": {},
     "output_type": "display_data"
    },
    {
     "data": {
      "text/html": [
       "<h1>pulmonary disease</h1>"
      ],
      "text/plain": [
       "<IPython.core.display.HTML object>"
      ]
     },
     "metadata": {},
     "output_type": "display_data"
    },
    {
     "data": {
      "text/html": [
       "<p><strong>Title:</strong> Early Prediction of Disease Progression in 2019 Novel Coronavirus Pneumonia Patients Outside Wuhan with CT and Clinical Characteristics</br>\n",
       "                      <strong>ID:</strong> 4e2bc97a6164191ba3d53abfa49ccd973aa80326</br>\n",
       "                      <strong> Number of macthes:  </strong> 3\n",
       "                      </p>"
      ],
      "text/plain": [
       "<IPython.core.display.HTML object>"
      ]
     },
     "metadata": {},
     "output_type": "display_data"
    },
    {
     "data": {
      "text/html": [
       "<blockquote>... day symptom onset severe lung involvement likely attribute lung involvement progression disease course extend song find consolidation ggo lesion patient interval day symptom onset ct scan early admission surveillance ct crucial individual management patient ncp limitation study study retrospectively include patient moderate ncp admission single <mark>city</mark> outside wuhan datum multiple <mark>city</mark> need validate finding 2 dynamic inflammatory index treatment hospitalization include analysis comprehensive investigation relationship ct characteristic cytokine storm induce covid-2019 need perform conclusion result show high nlr ct severity score admission independent risk factor short-term progression patient ncp ct finding patient ncp associate inflammatory level potential predict disease progression import<br/><br> ...</blockquote"
      ],
      "text/plain": [
       "<IPython.core.display.HTML object>"
      ]
     },
     "metadata": {},
     "output_type": "display_data"
    },
    {
     "data": {
      "text/html": [
       "<h1>pulmonary disease</h1>"
      ],
      "text/plain": [
       "<IPython.core.display.HTML object>"
      ]
     },
     "metadata": {},
     "output_type": "display_data"
    },
    {
     "data": {
      "text/html": [
       "<p><strong>Title:</strong> Vaccination and malaria prophylaxis among Greek international travelers to Asian destinations</br>\n",
       "                      <strong>ID:</strong> c7506d0383d12f2d54feef66e28441cdb5bc8fc5</br>\n",
       "                      <strong> Number of macthes:  </strong> 1\n",
       "                      </p>"
      ],
      "text/plain": [
       "<IPython.core.display.HTML object>"
      ]
     },
     "metadata": {},
     "output_type": "display_data"
    },
    {
     "data": {
      "text/html": [
       "<blockquote>... month study period high-risk area moderate high prevalence malaria define accord publish source definition high-risk traveler exposure malaria endemic area base travel characteristic adequate vaccine malaria prophylaxis define accord national hellenic center disease control prevention hcdcp guideline accordance guideline world health organization center disease control prevention urban accommodation define live <mark>city</mark> population people rural accommodation define live village population residence countryside hellenic statistic authority personal communication short-term travel define trip month duration long-term travel define trip month organize trip define guide package trip trip primarily popular tourist destination outdoor activity include adventure sport backpacking hike remote expedition traveler visit friend relative<br/><br> ...</blockquote"
      ],
      "text/plain": [
       "<IPython.core.display.HTML object>"
      ]
     },
     "metadata": {},
     "output_type": "display_data"
    },
    {
     "data": {
      "text/html": [
       "<h1>pulmonary disease</h1>"
      ],
      "text/plain": [
       "<IPython.core.display.HTML object>"
      ]
     },
     "metadata": {},
     "output_type": "display_data"
    },
    {
     "data": {
      "text/html": [
       "<p><strong>Title:</strong> Recombinant adenoviral vaccine encoding the spike 1 subunit of the Middle East Respiratory Syndrome Coronavirus elicits strong humoral and cellular immune responses in mice</br>\n",
       "                      <strong>ID:</strong> 3c9db7ee30074667f9fe308de9910b013aa1f163</br>\n",
       "                      <strong> Number of macthes:  </strong> 1\n",
       "                      </p>"
      ],
      "text/plain": [
       "<IPython.core.display.HTML object>"
      ]
     },
     "metadata": {},
     "output_type": "display_data"
    },
    {
     "data": {
      "text/html": [
       "<blockquote>... system promega kit relative rt-pcr assay perform determine mrna expression level mouse ifn-γ il-4 cell culture fold change calculate −δδct method normalize β-actin specific primer set show table- extract rna µl template pcr reaction mixture µl compose µm forward reverse primer µl powerup sypr green master mix apply biosystems foster <mark>city</mark> usa µl nuclease-free water rt-pcr condition programme rotor gene-q qiagen hilden germany follow min min follow cycle min melt step s. datum elisa fold change express mean standard deviation one-way anova t-test compare different value group openepi software emory university usa parameter difference consider statistically significant p<0.05 parameter difference indicate<br/><br> ...</blockquote"
      ],
      "text/plain": [
       "<IPython.core.display.HTML object>"
      ]
     },
     "metadata": {},
     "output_type": "display_data"
    },
    {
     "data": {
      "text/html": [
       "<h1>pulmonary disease</h1>"
      ],
      "text/plain": [
       "<IPython.core.display.HTML object>"
      ]
     },
     "metadata": {},
     "output_type": "display_data"
    },
    {
     "data": {
      "text/html": [
       "<p><strong>Title:</strong> Potential Impact of Antiviral Drug Use during Influenza Pandemic</br>\n",
       "                      <strong>ID:</strong> 44ca543f5528ca4d7b33b401623cc1bf0afb84c6</br>\n",
       "                      <strong> Number of macthes:  </strong> 1\n",
       "                      </p>"
      ],
      "text/plain": [
       "<IPython.core.display.HTML object>"
      ]
     },
     "metadata": {},
     "output_type": "display_data"
    },
    {
     "data": {
      "text/html": [
       "<blockquote>... transmission model wave separately cross-immunity assume different wave study suggest weak effect study suggest great susceptibility wave person influenza pandemic wave clinical attack rate calculate report weekly mortality datum clinical case-fatality rate serologic attack rate fit separately curve figure value derive respective wave estimate 2 wave low estimate ≈3 derive <mark>city</mark> probably estimate derive datum england wale incorporate spatial heterogeneity hospitalization rate available wave consider effect antiviral treatment death potential efficacy antiviral treatment prevent death wave differ assume provide protection death estimate base assumption protection outcome influenza translate equivalent protection death pandemic characteristic antiviral treatment produce estimate numb death equivalent ≈0.5<br/><br> ...</blockquote"
      ],
      "text/plain": [
       "<IPython.core.display.HTML object>"
      ]
     },
     "metadata": {},
     "output_type": "display_data"
    },
    {
     "data": {
      "text/html": [
       "<h1>pulmonary disease</h1>"
      ],
      "text/plain": [
       "<IPython.core.display.HTML object>"
      ]
     },
     "metadata": {},
     "output_type": "display_data"
    },
    {
     "data": {
      "text/html": [
       "<p><strong>Title:</strong> Urban transportation energy and carbon dioxide emission reduction strategies q h i g h l i g h t s</br>\n",
       "                      <strong>ID:</strong> 332b9c1027eb58209890d0f02a65d490427bc799</br>\n",
       "                      <strong> Number of macthes:  </strong> 45\n",
       "                      </p>"
      ],
      "text/plain": [
       "<IPython.core.display.HTML object>"
      ]
     },
     "metadata": {},
     "output_type": "display_data"
    },
    {
     "data": {
      "text/html": [
       "<blockquote>... motorcycle park management fuel tax policy need extra administration resource pay cost compare policy implement free bus policy costly policy propose policy fuel tax policy cost effective information respect cost implement different policy measure useful urban planner decision maker datum limitation precise cost-benefit analysis scenario implement future study system kaohsiung <mark>city</mark> classification notation/data source<br/><br> ...</blockquote"
      ],
      "text/plain": [
       "<IPython.core.display.HTML object>"
      ]
     },
     "metadata": {},
     "output_type": "display_data"
    },
    {
     "data": {
      "text/html": [
       "<h1>pulmonary disease</h1>"
      ],
      "text/plain": [
       "<IPython.core.display.HTML object>"
      ]
     },
     "metadata": {},
     "output_type": "display_data"
    },
    {
     "data": {
      "text/html": [
       "<p><strong>Title:</strong> FilmArray® respiratory panel performance in respiratory samples from neonatal care units</br>\n",
       "                      <strong>ID:</strong> 9b40b05eb18446460713e1a697742f5f3401e666</br>\n",
       "                      <strong> Number of macthes:  </strong> 1\n",
       "                      </p>"
      ],
      "text/plain": [
       "<IPython.core.display.HTML object>"
      ]
     },
     "metadata": {},
     "output_type": "display_data"
    },
    {
     "data": {
      "text/html": [
       "<blockquote>... nair al. community-acquired virus responsible respiratory infection newborn rise nosocomial outbreak gelber ratner faden al. gagneur al. conventional infection control method hand hygiene patient isolation and/or cohorting recommend adoption rapid sensitive specific diagnostic tool mandatory management antiviral treatment severe clinical condition filmarray respiratory panel rp idaho technology inc salt lake <mark>city</mark> ut usa consist pouch system multiplex pcr test provide detection virus bacterial respiratory pathogen hour system require minute total hands-on time process sample study filmarray rp performance evaluate independent laboratory respiratory sample collect neonatal patient retrospective study conduct respiratory sample store fondazione irccs policlicnico san matteo pavia fondazione cà granda<br/><br> ...</blockquote"
      ],
      "text/plain": [
       "<IPython.core.display.HTML object>"
      ]
     },
     "metadata": {},
     "output_type": "display_data"
    },
    {
     "data": {
      "text/html": [
       "<h1>pulmonary disease</h1>"
      ],
      "text/plain": [
       "<IPython.core.display.HTML object>"
      ]
     },
     "metadata": {},
     "output_type": "display_data"
    },
    {
     "data": {
      "text/html": [
       "<p><strong>Title:</strong> Impact of MBL and MASP-2 gene polymorphism and its interaction on susceptibility to tuberculosis</br>\n",
       "                      <strong>ID:</strong> 9e7a93b167e9c3ffc970caf4a644d63439410cc5</br>\n",
       "                      <strong> Number of macthes:  </strong> 2\n",
       "                      </p>"
      ],
      "text/plain": [
       "<IPython.core.display.HTML object>"
      ]
     },
     "metadata": {},
     "output_type": "display_data"
    },
    {
     "data": {
      "text/html": [
       "<blockquote>... cdc yueyanglou district cdc yueyang county cdc hongjiang <mark>city</mark> cdc total hunan province follow random selection new tb case register cdcs case tb patient confirm tb diagnosis criterium develope chinese ministry health stratify sample method randomly select community health service center i.e. xingang community health service center kaifu district changsha <mark>city</mark> follow random selection community xin'ansi community cover xingang community health center ratio male female tb patient 2.5:1 hunan healthy control select permanent resident xin'ansi community gender-age frequency match method healthy control confirm history contact mycobacterium tuberculosis healthy control bcg scar average diameter ppd purify protein derivative induration ≥10 mm whilst<br/><br> ...</blockquote"
      ],
      "text/plain": [
       "<IPython.core.display.HTML object>"
      ]
     },
     "metadata": {},
     "output_type": "display_data"
    },
    {
     "data": {
      "text/html": [
       "<h1>pulmonary disease</h1>"
      ],
      "text/plain": [
       "<IPython.core.display.HTML object>"
      ]
     },
     "metadata": {},
     "output_type": "display_data"
    },
    {
     "data": {
      "text/html": [
       "<p><strong>Title:</strong> Structure and Cleavage Specificity of the Chymotrypsin- Like Serine Protease (3CLSP/nsp4) of Porcine Reproductive and Respiratory Syndrome Virus (PRRSV)</br>\n",
       "                      <strong>ID:</strong> b523342a9fc5a2cac149d1c8723bba2e5aea6e17</br>\n",
       "                      <strong> Number of macthes:  </strong> 1\n",
       "                      </p>"
      ],
      "text/plain": [
       "<IPython.core.display.HTML object>"
      ]
     },
     "metadata": {},
     "output_type": "display_data"
    },
    {
     "data": {
      "text/html": [
       "<blockquote>... porcine reproductive respiratory syndrome virus prrsv discover north america simultaneously europe manifest clinically severe reproductive failure sow respiratory distress neonatal pig recent year virus endemic world lead significant economic loss pig production autumn unparalleled outbreak atypical prrs occur province autonomous <mark>city</mark> china affect pig nearly fatal case adult grow pig affect different classical prrs identical atypical prrsv find epidemic vietnam china presently inactivate attenuate vaccine available combat prrs efficacy satisfactory adaptive evolution prrsv especially case atypical prrs outbreak china vietnam urgent issue prompt exploit possibility drug discovery treatment highly pathogenic prrsv<br/><br> ...</blockquote"
      ],
      "text/plain": [
       "<IPython.core.display.HTML object>"
      ]
     },
     "metadata": {},
     "output_type": "display_data"
    },
    {
     "data": {
      "text/html": [
       "<h1>pulmonary disease</h1>"
      ],
      "text/plain": [
       "<IPython.core.display.HTML object>"
      ]
     },
     "metadata": {},
     "output_type": "display_data"
    },
    {
     "data": {
      "text/html": [
       "<p><strong>Title:</strong> Public Health and Clinical Laboratories: Partners in the Age of Emerging Infections</br>\n",
       "                      <strong>ID:</strong> f1be72a63fbb8599da04160000b1372426ff4388</br>\n",
       "                      <strong> Number of macthes:  </strong> 1\n",
       "                      </p>"
      ],
      "text/plain": [
       "<IPython.core.display.HTML object>"
      ]
     },
     "metadata": {},
     "output_type": "display_data"
    },
    {
     "data": {
      "text/html": [
       "<blockquote>... accuracy new height reduce time need confirmation hour day conventional technique typically require clinical laboratory microbiologist serve role sentinel respond rapidly refer suspicious isolate partner public health laboratory confirm identity rule possible agent bioterrorism clinical public health laboratory indispensable function successful public health laboratory scientist adopt new leadership role state <mark>city</mark> responsible provide train establish safe secure laboratory facility possess maintain select agent channel fund clinical laboratory bioterrorism preparedness communication maintain link laboratory end collaborative effort difficult ascertain collectively factor reduction size frequency outbreak sporadic case infection proof food safety practice effective validation efficacy new vaccine healthy population goal medical care<br/><br> ...</blockquote"
      ],
      "text/plain": [
       "<IPython.core.display.HTML object>"
      ]
     },
     "metadata": {},
     "output_type": "display_data"
    },
    {
     "data": {
      "text/html": [
       "<h1>pulmonary disease</h1>"
      ],
      "text/plain": [
       "<IPython.core.display.HTML object>"
      ]
     },
     "metadata": {},
     "output_type": "display_data"
    },
    {
     "data": {
      "text/html": [
       "<p><strong>Title:</strong> a section of the journal Frontiers in Physiology Citation: Proteomic Analysis of Chicken Skeletal Muscle during Embryonic Development</br>\n",
       "                      <strong>ID:</strong> 93507716d80b9834a1ee584b038c1be54c0790a8</br>\n",
       "                      <strong> Number of macthes:  </strong> 1\n",
       "                      </p>"
      ],
      "text/plain": [
       "<IPython.core.display.HTML object>"
      ]
     },
     "metadata": {},
     "output_type": "display_data"
    },
    {
     "data": {
      "text/html": [
       "<blockquote>... university guangzhou china incubate automatic incubator oscilla shandong china relative humidity chicken embryo sex identify pcr amplification chd1 chromodomain helicase dna bind protein gene fridolfsson ellegren leg muscle female xinghua chicken different development stage e11 e16 d1 itraq analysis female chicken stage e11 e16 d1 itraq assay apply biosystems foster <mark>city</mark> usa total protein extract urea lysis buff urea thiourea sds contain mm pmsf protein quantify bca assay kit pierce thermo usa detect sdselectrophoresis total protein treat follow reduction cysteine alkylation trypsin digestion obtain peptide equal amount peptide sample label individually different itraq reagent e11 label e16 label d1 label instruction<br/><br> ...</blockquote"
      ],
      "text/plain": [
       "<IPython.core.display.HTML object>"
      ]
     },
     "metadata": {},
     "output_type": "display_data"
    },
    {
     "data": {
      "text/html": [
       "<h1>pulmonary disease</h1>"
      ],
      "text/plain": [
       "<IPython.core.display.HTML object>"
      ]
     },
     "metadata": {},
     "output_type": "display_data"
    },
    {
     "data": {
      "text/html": [
       "<p><strong>Title:</strong> Title: Interventions targeting air travellers early in the pandemic may delay local outbreaks of SARS-CoV-2</br>\n",
       "                      <strong>ID:</strong> 11f96d05db6854ef95312aa3a4736724ce1f02d6</br>\n",
       "                      <strong> Number of macthes:  </strong> 63\n",
       "                      </p>"
      ],
      "text/plain": [
       "<IPython.core.display.HTML object>"
      ]
     },
     "metadata": {},
     "output_type": "display_data"
    },
    {
     "data": {
      "text/html": [
       "<blockquote>... japan korea iran italy situation change rapidly come day week despite limit evidence support effectiveness recently ban entry foreigner recently visit china work investigate drastic interruption air travel travel ban entry history travel high-risk region likely limit numb infect <mark>traveller</mark> enter enter different mean come substantial economical implication run risk <mark>traveller</mark> arrive despite travel history likely reach target sensitisation and/or avoid self-reporting symptomatic potentially dire implication local spread summary find target air-<mark>traveller</mark>s syndromic screen exit entry sensitisation sign symptom follow arrival delay major outbreak early stage sars-cov-2 outbreak country air-<mark>traveller</mark> sensitisation rapid contact trace protocol place response sars-cov-2 outbreak find syndromic<br/><br> ...</blockquote"
      ],
      "text/plain": [
       "<IPython.core.display.HTML object>"
      ]
     },
     "metadata": {},
     "output_type": "display_data"
    },
    {
     "data": {
      "text/html": [
       "<h1>pulmonary disease</h1>"
      ],
      "text/plain": [
       "<IPython.core.display.HTML object>"
      ]
     },
     "metadata": {},
     "output_type": "display_data"
    },
    {
     "data": {
      "text/html": [
       "<p><strong>Title:</strong> Successful natural interferon-b plus ribavirin therapy in a chronic hepatitis C patient after discontinuation of interferon-a treatment due to arrhythmia and interstitial pneumonia</br>\n",
       "                      <strong>ID:</strong> 1b6616fe20c678e18915ea2b6fab8b22309b45b6</br>\n",
       "                      <strong> Number of macthes:  </strong> 1\n",
       "                      </p>"
      ],
      "text/plain": [
       "<IPython.core.display.HTML object>"
      ]
     },
     "metadata": {},
     "output_type": "display_data"
    },
    {
     "data": {
      "text/html": [
       "<blockquote>... patient advance live stage prevent hepatocellular carcinoma ifns remain treatment choice patient good tolerance conclusion nifn-b plus rbv therapy alternative treatment option patient fail tolerate adverse effect pegifn-a concomitant rbv therapy conflict interest author declare conflict interest ethical standard study approve medical ethic committee st marianna university school medicine yokohama <mark>city</mark> seibu hospital investigation conform principle outline declaration helsinki human/animal right procedure follow accordance ethical standard responsible committee human experimentation institutional national helsinki declaration revise 2008(5 inform consent inform consent obtain patient prior study open access article distribute term creative common attribution license permit use distribution reproduction medium provide original author(s<br/><br> ...</blockquote"
      ],
      "text/plain": [
       "<IPython.core.display.HTML object>"
      ]
     },
     "metadata": {},
     "output_type": "display_data"
    },
    {
     "data": {
      "text/html": [
       "<h1>pulmonary disease</h1>"
      ],
      "text/plain": [
       "<IPython.core.display.HTML object>"
      ]
     },
     "metadata": {},
     "output_type": "display_data"
    },
    {
     "data": {
      "text/html": [
       "<p><strong>Title:</strong> Emergent severe acute respiratory distress syndrome caused by adenovirus type 55 in immunocompetent adults in 2013: a prospective observational study</br>\n",
       "                      <strong>ID:</strong> f5b706d0529bfcf7e2d1dfc037df5b6f95fc5ec0</br>\n",
       "                      <strong> Number of macthes:  </strong> 4\n",
       "                      </p>"
      ],
      "text/plain": [
       "<IPython.core.display.HTML object>"
      ]
     },
     "metadata": {},
     "output_type": "display_data"
    },
    {
     "data": {
      "text/html": [
       "<blockquote>... hebei province close beijing cause case acute respiratory disease presume hadv-55 recombinant form b2 species hadv-14 hadv-11 share hexon gene hadv-11 hadv-14 chassis result study hadv-55 emerge pathogen immunocompetent adult cause severe ards prevalence severe fatal adenoviral pneumonia induce hadv-55 study somewhat similar describe cao colleague case report hadv-55 study <mark>city</mark> baoding hebei province northern china occur april july partly overlap follow influenza epidemic patient severe disease come region treat similar time period suggest hadv-55 important viral pathogen derive region study result suggest follow clinical feature ards cause hadv-55 persistent high fever rapid progression dyspnea need mechanical ventilation support elevate ast<br/><br> ...</blockquote"
      ],
      "text/plain": [
       "<IPython.core.display.HTML object>"
      ]
     },
     "metadata": {},
     "output_type": "display_data"
    },
    {
     "data": {
      "text/html": [
       "<h1>pulmonary disease</h1>"
      ],
      "text/plain": [
       "<IPython.core.display.HTML object>"
      ]
     },
     "metadata": {},
     "output_type": "display_data"
    },
    {
     "data": {
      "text/html": [
       "<p><strong>Title:</strong> Ensuring HIV Data Availability, Transparency and Integrity in the MENA Region Comment on \"Improving the Quality and Quantity of HIV Data in the Middle East and North Africa: Key Challenges and Ways Forward\" Commentary</br>\n",
       "                      <strong>ID:</strong> 7081473cf95db2a82c1960a38625593cab0dc0f4</br>\n",
       "                      <strong> Number of macthes:  </strong> 1\n",
       "                      </p>"
      ],
      "text/plain": [
       "<IPython.core.display.HTML object>"
      ]
     },
     "metadata": {},
     "output_type": "display_data"
    },
    {
     "data": {
      "text/html": [
       "<blockquote>... collection hiv infectious disease vary condition different epidemiologic feature require network laboratory clinical center track system coherent regional network plan example outside mena region show lay broad foundation disease surveillance pay dividend control epidemic disparate nature amid west african ebola outbreak situation frighten lethal filovirus appear lagos nigeria africa populous <mark>city</mark> population estimate national population commission nigeria person spite high population density unexpected emergence ebola west africa nigeria able halt outbreak case death far short tens-of-thousands infection hard hit country guinea sierra leone liberia numb reason nigeria success paramount government ability quickly turn polio eradication program infrastructure task contain ebola transmission<br/><br> ...</blockquote"
      ],
      "text/plain": [
       "<IPython.core.display.HTML object>"
      ]
     },
     "metadata": {},
     "output_type": "display_data"
    },
    {
     "data": {
      "text/html": [
       "<h1>pulmonary disease</h1>"
      ],
      "text/plain": [
       "<IPython.core.display.HTML object>"
      ]
     },
     "metadata": {},
     "output_type": "display_data"
    },
    {
     "data": {
      "text/html": [
       "<p><strong>Title:</strong> Prevalence and related factors of post-traumatic stress disorder among medical staff members exposed to H7N9 patients-NC-ND license (http://creativecommons.org/licenses/by-nc-nd/4.0/)</br>\n",
       "                      <strong>ID:</strong> 1b44eb4e309e0a843a7c308eeddab0e852704a19</br>\n",
       "                      <strong> Number of macthes:  </strong> 1\n",
       "                      </p>"
      ],
      "text/plain": [
       "<IPython.core.display.HTML object>"
      ]
     },
     "metadata": {},
     "output_type": "display_data"
    },
    {
     "data": {
      "text/html": [
       "<blockquote>... member different education background work different department show difference ptsd level study potential limitation measure stress symptom study vulnerable inherent bias self-reported nature pcl-c validate measure stress symptom 2 participant recruit convenient sample introduce bias sample reduce generalizability result study adopt limit sample focus medical staff member expose h7n9 patient <mark>city</mark> anhui province january future study adopt large sample perform multicenter randomize control trial use objective quantitative measurement evaluate ptsd level sum doctor nurse show high level ptsd exposure h7n9 patient eventually diagnose ptsd demographics occupation gender age professional title year work experience frequency contact h7n9 patient relate train relate experience<br/><br> ...</blockquote"
      ],
      "text/plain": [
       "<IPython.core.display.HTML object>"
      ]
     },
     "metadata": {},
     "output_type": "display_data"
    },
    {
     "data": {
      "text/html": [
       "<h1>pulmonary disease</h1>"
      ],
      "text/plain": [
       "<IPython.core.display.HTML object>"
      ]
     },
     "metadata": {},
     "output_type": "display_data"
    },
    {
     "data": {
      "text/html": [
       "<p><strong>Title:</strong> Epidemiological and clinical features of 2019-nCoV acute respiratory disease cases in Chongqing municipality, China: a retrospective, descriptive, multiple-center study</br>\n",
       "                      <strong>ID:</strong> 510ecab01c66bc2a911abcf67451ec482ed18a05</br>\n",
       "                      <strong> Number of macthes:  </strong> 2\n",
       "                      </p>"
      ],
      "text/plain": [
       "<IPython.core.display.HTML object>"
      ]
     },
     "metadata": {},
     "output_type": "display_data"
    },
    {
     "data": {
      "text/html": [
       "<blockquote>... notably 28-mortality critically severe patient complicate severe ards considerably high early diagnosis intensive care critically severe covid-19 case considerably essential reduce complication mortality december covid-19 firstly occur wuhan hubei province china disease rapidly spread wuhan worldwide january world health organization declare covid-19 outbreak public health emergency rapid infection spread major <mark>city</mark> import passenger wuhan china regional characteristic covid-19 chongqing municipality report far present study knowledge firstly portray epidemiological demographic clinical radiological laboratory characteristic treatment regimen clinical outcome covid-19 patient chongqing municipality china compare numerous difference severe non-severe patient chongqing municipality 28-day mortality covid-19 patient design hospital chongqing municipality approximately consistent official<br/><br> ...</blockquote"
      ],
      "text/plain": [
       "<IPython.core.display.HTML object>"
      ]
     },
     "metadata": {},
     "output_type": "display_data"
    },
    {
     "data": {
      "text/html": [
       "<h1>pulmonary disease</h1>"
      ],
      "text/plain": [
       "<IPython.core.display.HTML object>"
      ]
     },
     "metadata": {},
     "output_type": "display_data"
    },
    {
     "data": {
      "text/html": [
       "<p><strong>Title:</strong> Abstracts</br>\n",
       "                      <strong>ID:</strong> f0d2dc18c4737a62d2de12b56d4dba143d21344a</br>\n",
       "                      <strong> Number of macthes:  </strong> 3\n",
       "                      </p>"
      ],
      "text/plain": [
       "<IPython.core.display.HTML object>"
      ]
     },
     "metadata": {},
     "output_type": "display_data"
    },
    {
     "data": {
      "text/html": [
       "<blockquote>... previously associate severe disease find partly relate dissemination new type population immune classical type tetracycline treatment streptococcal infection level tetracycline resistance clinical isolate appear comparatively high contrast european country macrolide resistance common invasive group streptococcus romania acknowledgment strep-euro project fund european commission severe soft tissue infection secondary bacteraemia community-acquired mrsa <mark>traveller</mark> return congo r. padmanabhan r. shrestha g. hall s. gordon l. saravolatz cleveland detroit usa objective community acquire mrsa increasingly global problem isolate possess staphylococcal cassette chromosome scc mec type iv genome different pattern antibiotic susceptibility hospital acquire strain frequently virulent cause predominantly skin soft tissue infection virtue panton valentine<br/><br> ...</blockquote"
      ],
      "text/plain": [
       "<IPython.core.display.HTML object>"
      ]
     },
     "metadata": {},
     "output_type": "display_data"
    },
    {
     "data": {
      "text/html": [
       "<h1>pulmonary disease</h1>"
      ],
      "text/plain": [
       "<IPython.core.display.HTML object>"
      ]
     },
     "metadata": {},
     "output_type": "display_data"
    },
    {
     "data": {
      "text/html": [
       "<p><strong>Title:</strong> Public Health Crisis Preparedness and Response in Korea</br>\n",
       "                      <strong>ID:</strong> ce398edbbda0f0f28b60efc0a875e05e22b7f3ea</br>\n",
       "                      <strong> Number of macthes:  </strong> 1\n",
       "                      </p>"
      ],
      "text/plain": [
       "<IPython.core.display.HTML object>"
      ]
     },
     "metadata": {},
     "output_type": "display_data"
    },
    {
     "data": {
      "text/html": [
       "<blockquote>... reduce antibiotic usage hospitalization death patient reduce antiviral drug expect minimize socioeconomic damage recommend member state stockpile antiviral drug economy allow state report member state stockpile antiviral drug population figure korea join group equivalent dose tamiflu relenza division public health crisis response kcdc manage distribution antiviral stockpile early stage distribution <mark>city</mark> province hold manage antiviral stockpile law antiviral drug available korea dose antiviral drug prescribe seasonal influenza patient prophylactically administer cullers avian influenza-infected poultry cullers protect personal protective equipment provide kcdc prevent secondary infection medical staff hospital emerge infectious disease sars influenza a(h1n1 avian influenza human infection necessary secure safe bed<br/><br> ...</blockquote"
      ],
      "text/plain": [
       "<IPython.core.display.HTML object>"
      ]
     },
     "metadata": {},
     "output_type": "display_data"
    },
    {
     "data": {
      "text/html": [
       "<h1>pulmonary disease</h1>"
      ],
      "text/plain": [
       "<IPython.core.display.HTML object>"
      ]
     },
     "metadata": {},
     "output_type": "display_data"
    },
    {
     "data": {
      "text/html": [
       "<p><strong>Title:</strong> MATERIALS AND METHODS Cattle Description and Initial Processing</br>\n",
       "                      <strong>ID:</strong> 5aeffef1b22bce3622f4a8379bf06f890a007a9c</br>\n",
       "                      <strong> Number of macthes:  </strong> 1\n",
       "                      </p>"
      ],
      "text/plain": [
       "<IPython.core.display.HTML object>"
      ]
     },
     "metadata": {},
     "output_type": "display_data"
    },
    {
     "data": {
      "text/html": [
       "<blockquote>... method percentage finish diet deliver increase approximately dm basis percentage receive diet deliver decrease approximately dm basis day finish diet feed follow adaptation finish diet feed cattle twice daily near kg day fee diet sample collect week dry forced-air oven determine dm composite gravimetrically analyze commercial laboratory servi-tech inc dodge <mark>city</mark> k nutrient composition additional information concern feed practice sample diet analysis procedure report wilson al. unshrunk bw obtain time allocation finish pen approximately 45-d interval bw shrink individual bw adg value average pen obtain pen mean bw adg ultrasound estimate rib eye area rea 12th-rib fat thickness intramuscular fat take<br/><br> ...</blockquote"
      ],
      "text/plain": [
       "<IPython.core.display.HTML object>"
      ]
     },
     "metadata": {},
     "output_type": "display_data"
    },
    {
     "data": {
      "text/html": [
       "<h1>pulmonary disease</h1>"
      ],
      "text/plain": [
       "<IPython.core.display.HTML object>"
      ]
     },
     "metadata": {},
     "output_type": "display_data"
    },
    {
     "data": {
      "text/html": [
       "<p><strong>Title:</strong> No-Notice Mystery Patient Drills to Assess Emergency Preparedness for Infectious Diseases at Community Health Centers in New York City, 2015-2016</br>\n",
       "                      <strong>ID:</strong> 2468815380ef0da6656eafec81936b459b5b210e</br>\n",
       "                      <strong> Number of macthes:  </strong> 3\n",
       "                      </p>"
      ],
      "text/plain": [
       "<IPython.core.display.HTML object>"
      ]
     },
     "metadata": {},
     "output_type": "display_data"
    },
    {
     "data": {
      "text/html": [
       "<blockquote>... drill serve component federal certification clinic summary knowledge study conduct multiple round drill round april december assess time-based performance metric time screen time isolation order investigate value drill assess iteratively inform improve emergency preparedness plan community health center evaluate screen isolation actor simulate patient ili measle drill clinic new york <mark>city</mark> drill patient screen isolate drill challenge process patient simulate ili likely mask simulate measle reflect causal association approximately participant report drill realistic prepare deal hazard address qualitative analysis reveal recur theme strength area improvement conclude mystery patient drill effective feasible longitudinal collaboration health department primary care clinic assess inform emergency<br/><br> ...</blockquote"
      ],
      "text/plain": [
       "<IPython.core.display.HTML object>"
      ]
     },
     "metadata": {},
     "output_type": "display_data"
    },
    {
     "data": {
      "text/html": [
       "<h1>pulmonary disease</h1>"
      ],
      "text/plain": [
       "<IPython.core.display.HTML object>"
      ]
     },
     "metadata": {},
     "output_type": "display_data"
    },
    {
     "data": {
      "text/html": [
       "<p><strong>Title:</strong> An investigation of the combined effect of an annual mass gathering event and seasonal infectiousness on disease outbreak</br>\n",
       "                      <strong>ID:</strong> 8e6c272aa614e312f82acd586d34401c462072d6</br>\n",
       "                      <strong> Number of macthes:  </strong> 7\n",
       "                      </p>"
      ],
      "text/plain": [
       "<IPython.core.display.HTML object>"
      ]
     },
     "metadata": {},
     "output_type": "display_data"
    },
    {
     "data": {
      "text/html": [
       "<blockquote>... linear coefficient combine result figs. likely linear coefficient vary accord roughly sinusoidal pattern surprise see fig. green curve reduce travel infect individual drastically negligible effect reduce travel restriction introduce effective apply <mark>traveller</mark> see observe red curve fig. see fig. infection get mass gather reason arrival infect individual new infection susceptible <mark>traveller</mark> interaction patch spread mass gather potential large outbreak latency far discuss impact period latency time infection begin infectiousness analysis model average life expectancy absence disease inclusion latency average duration reduce factor duration latency typically short life expectancy fraction typically close effect small model different value highly dependent transmission take place<br/><br> ...</blockquote"
      ],
      "text/plain": [
       "<IPython.core.display.HTML object>"
      ]
     },
     "metadata": {},
     "output_type": "display_data"
    },
    {
     "data": {
      "text/html": [
       "<h1>pulmonary disease</h1>"
      ],
      "text/plain": [
       "<IPython.core.display.HTML object>"
      ]
     },
     "metadata": {},
     "output_type": "display_data"
    },
    {
     "data": {
      "text/html": [
       "<p><strong>Title:</strong> DNA priming and infl uenza vaccine immunogenicity: two phase 1 open label randomised clinical trials</br>\n",
       "                      <strong>ID:</strong> 28bbe60a2737d2dbae4aa103f493b46298512829</br>\n",
       "                      <strong> Number of macthes:  </strong> 1\n",
       "                      </p>"
      ],
      "text/plain": [
       "<IPython.core.display.HTML object>"
      ]
     },
     "metadata": {},
     "output_type": "display_data"
    },
    {
     "data": {
      "text/html": [
       "<blockquote>... immunisation previously describe serum fi rst absorb cell express stem mutant h5 indo haemagglutinin remove non-stem direct antibody test bind affi nity wild-type h5 indo haemagglutinin figure 3a show vaccine-induced anti-stem antibody representative individual individual group illustrate fi ndings fi ve-times increase bind immunisation fi gure 3a confi rmed specifi <mark>city</mark> antiserum competition elisa assay haemagglutinin bind presence 9e8 anti-head f10 anti-stem antibody assay bind haemagglutinin inhibit anti-stem antibody f10 control anti-head antibody 9e8 fi gure 3a assess ability serum individual neutralise heterologous strain virus unmatched distant low pathogenicitiy h5n2 a/mallard/pennsylvania/ penn diff erent subtype h9n2 a/hong kong/1074/1999 hk representative individual<br/><br> ...</blockquote"
      ],
      "text/plain": [
       "<IPython.core.display.HTML object>"
      ]
     },
     "metadata": {},
     "output_type": "display_data"
    },
    {
     "data": {
      "text/html": [
       "<h1>pulmonary disease</h1>"
      ],
      "text/plain": [
       "<IPython.core.display.HTML object>"
      ]
     },
     "metadata": {},
     "output_type": "display_data"
    },
    {
     "data": {
      "text/html": [
       "<p><strong>Title:</strong> Relative frequency, Possible Risk Factors, Viral Codetection Rates, and Seasonality of Respiratory Syncytial Virus Among Children With Lower Respiratory Tract Infection in Northeastern Brazil</br>\n",
       "                      <strong>ID:</strong> 79697e89c89116547c539a46e2041bd81d52d5d0</br>\n",
       "                      <strong> Number of macthes:  </strong> 6\n",
       "                      </p>"
      ],
      "text/plain": [
       "<IPython.core.display.HTML object>"
      ]
     },
     "metadata": {},
     "output_type": "display_data"
    },
    {
     "data": {
      "text/html": [
       "<blockquote>... fortunately severe rsv infection largely preventable palivizumab high-risk child general standardization selection criterium study method center study interfere center criterium diagnosis bronchiolitis pneumonia lrti time oximetry center profile emergency/general ward icu admission likely cause difference observe mark variation frequency hypoxemia high proportion child low oxygen saturation maceió aracaju service characteristic <mark>city</mark> child emergency ward enroll actually oxygen saturation measure case assess admission child study visit remain case represent limitation study current study statistically significant association find frequency viral infection increase temperature decrease humidity statistically significant correlation absolute numb case rsv infection interaction term meteorological variable suggest high temperature associate decrease humidity<br/><br> ...</blockquote"
      ],
      "text/plain": [
       "<IPython.core.display.HTML object>"
      ]
     },
     "metadata": {},
     "output_type": "display_data"
    },
    {
     "data": {
      "text/html": [
       "<h1>pulmonary disease</h1>"
      ],
      "text/plain": [
       "<IPython.core.display.HTML object>"
      ]
     },
     "metadata": {},
     "output_type": "display_data"
    },
    {
     "data": {
      "text/html": [
       "<p><strong>Title:</strong> Ionizing air affects influenza virus infectivity and prevents airborne- transmission OPEN</br>\n",
       "                      <strong>ID:</strong> c831071c9229a681189522e08cfc3b64f84f95db</br>\n",
       "                      <strong> Number of macthes:  </strong> 1\n",
       "                      </p>"
      ],
      "text/plain": [
       "<IPython.core.display.HTML object>"
      ]
     },
     "metadata": {},
     "output_type": "display_data"
    },
    {
     "data": {
      "text/html": [
       "<blockquote>... reaction carry min produce cdna late real-time pcr quantitative real-time pcr rotavirus rhesus rotavirus detect quantify lux real-time pcr assay describe previously real-time pcr use label primer different fluorophore vp6 subgroup external plasmid standard semi-quantification quantitative real-time pcr cacv cacv detect quantify sybr green assay abi prism apply biosystems foster <mark>city</mark> primer final concentration nm cacv-3 5-accaacggaggattgccatc-3 nucleotide accord genbank accession no. af053720 cacv-4 5´-tagccgatcccacaagaagaca-3 nucleotide specific cacv strain reaction perform cdna 2x sybr green pcr master mix apply biosystems water final volume l. follow cycle program min follow cycle second min melt curve analysis perform immediately pcr completion heat second<br/><br> ...</blockquote"
      ],
      "text/plain": [
       "<IPython.core.display.HTML object>"
      ]
     },
     "metadata": {},
     "output_type": "display_data"
    },
    {
     "data": {
      "text/html": [
       "<h1>pulmonary disease</h1>"
      ],
      "text/plain": [
       "<IPython.core.display.HTML object>"
      ]
     },
     "metadata": {},
     "output_type": "display_data"
    },
    {
     "data": {
      "text/html": [
       "<p><strong>Title:</strong> NS5B induces up-regulation of the BH3-only protein, BIK, essential for the hepatitis C virus RNA replication and viral release</br>\n",
       "                      <strong>ID:</strong> c8b8739a92fc28f48899df96c807dc17e1e6fc8e</br>\n",
       "                      <strong> Number of macthes:  </strong> 1\n",
       "                      </p>"
      ],
      "text/plain": [
       "<IPython.core.display.HTML object>"
      ]
     },
     "metadata": {},
     "output_type": "display_data"
    },
    {
     "data": {
      "text/html": [
       "<blockquote>... involve apoptotic pathway gene include member caspase bcl-2 iap traf card cide death domain death effector domain tnf receptor ligand family gene involve p53 dna damage pathway array contain primer set housekeeping gene rna pcr quality control pcr cycle program perform abi 7900ht fast real-time pcr system apply biosystems foster <mark>city</mark> expression profile hcv-infected mocktreated cell different time point obtain independent experiment threshold cycle ct value gene calculate fold change gene expression rt profiler pcr array datum analysis software http:// pcrdataanalysis.sabiosciences.com/pcr/arrayanalysis.php gene expression change observe pcr array confirm quantitative real-time pcr taqman chemistry probe primer specific host gene identify pcr array<br/><br> ...</blockquote"
      ],
      "text/plain": [
       "<IPython.core.display.HTML object>"
      ]
     },
     "metadata": {},
     "output_type": "display_data"
    },
    {
     "data": {
      "text/html": [
       "<h1>pulmonary disease</h1>"
      ],
      "text/plain": [
       "<IPython.core.display.HTML object>"
      ]
     },
     "metadata": {},
     "output_type": "display_data"
    },
    {
     "data": {
      "text/html": [
       "<p><strong>Title:</strong> Living with Bats: The Case of Ve Golokuati Township in the Volta Region of Ghana</br>\n",
       "                      <strong>ID:</strong> 22d9a77f7eb015a61ad58babdd9a9a68c29a3176</br>\n",
       "                      <strong> Number of macthes:  </strong> 1\n",
       "                      </p>"
      ],
      "text/plain": [
       "<IPython.core.display.HTML object>"
      ]
     },
     "metadata": {},
     "output_type": "display_data"
    },
    {
     "data": {
      "text/html": [
       "<blockquote>... rid bat destroy tree have golokuati environmentally ecological prudent question reduce bat-human interaction minimize risk potential future disease spillover remain well-designed agendum relocation bat surround forest area help expert ghana wildlife division offer long term solution curtail regular interaction exposure human bat relocate bat easy demonstrate attempt military hospital capital <mark>city</mark> accra thousand bat congregate nonetheless establishment forest grove close town protect area option facilitate possible relocation provide protect space bat population hopefully decrease frequent interaction human initiative help promote ecotourism meet aspiration people short term contamination harvest rainwater bat urine faeces minimize delay rainwater harvest long spell absence rain bat<br/><br> ...</blockquote"
      ],
      "text/plain": [
       "<IPython.core.display.HTML object>"
      ]
     },
     "metadata": {},
     "output_type": "display_data"
    },
    {
     "data": {
      "text/html": [
       "<h1>pulmonary disease</h1>"
      ],
      "text/plain": [
       "<IPython.core.display.HTML object>"
      ]
     },
     "metadata": {},
     "output_type": "display_data"
    },
    {
     "data": {
      "text/html": [
       "<p><strong>Title:</strong> Development of a pseudovirus based assay for measuring neutralizing antibodies against coxsackievirus B5</br>\n",
       "                      <strong>ID:</strong> 319fa8b808c83f1c56c80a60b6f8189df198ae0e</br>\n",
       "                      <strong> Number of macthes:  </strong> 1\n",
       "                      </p>"
      ],
      "text/plain": [
       "<IPython.core.display.HTML object>"
      ]
     },
     "metadata": {},
     "output_type": "display_data"
    },
    {
     "data": {
      "text/html": [
       "<blockquote>... dulbecco modify essential medium dmem thermo contain fetal bovine serum gibco penicillin/streptomycin thermo co atmosphere human rhabdomyosarcoma rd cell vero cell hela cell maintain minimum essential medium mem thermo contain fetal bovine serum penicillin/ streptomycin co atmosphere cv-b5 strain 417/js/chn/2013 genbank accession no. ky303900 isolate three-year-old patient diagnose herpangina pizhou <mark>city</mark> china follow antiserum generate immunization mouse mouse anti-cva16 serum immunogen inactivate cva16 virus strain g10 mouse anti-ev-a71 serum immunogen inactivate ev71 virus fy523 genbank accession numb eu703812 subtype c4 mouse anti-coxsackievirus b3 cv-b3 serum immunogen inactivate cv-b3 strain dh16g/js/2012 genbank accession numb kp036480 mouse anti-hepatitis virus hev immunogen hev vaccine<br/><br> ...</blockquote"
      ],
      "text/plain": [
       "<IPython.core.display.HTML object>"
      ]
     },
     "metadata": {},
     "output_type": "display_data"
    },
    {
     "data": {
      "text/html": [
       "<h1>pulmonary disease</h1>"
      ],
      "text/plain": [
       "<IPython.core.display.HTML object>"
      ]
     },
     "metadata": {},
     "output_type": "display_data"
    },
    {
     "data": {
      "text/html": [
       "<p><strong>Title:</strong> Does subsidy work? Price elasticity of demand for influenza vaccination among the elderly in Japan</br>\n",
       "                      <strong>ID:</strong> 1b0b67f05ddc2d6c1de39deb24c33525ef8e2ba3</br>\n",
       "                      <strong> Number of macthes:  </strong> 5\n",
       "                      </p>"
      ],
      "text/plain": [
       "<IPython.core.display.HTML object>"
      ]
     },
     "metadata": {},
     "output_type": "display_data"
    },
    {
     "data": {
      "text/html": [
       "<blockquote>... frequently mainly practicality approach accompany bias methodologically rigorous approach result study question rationale subsidy influenza vaccination programme target elderly elderly sensitive price change especially urban area mean reduce price encourage receive shoot benefitcost analysis current japanese programme speculate potential benefit gain obtainable increase subsidy base estimation price elastic demand big <mark>city</mark> give price inelastic result study recommendable hastily raise subsidy level urban area demonstrate cost-effectiveness current programme average subsidy level result unchanged effectiveness reduce mortality assume negligible effort public relation health education increase subsidy level prefer policy urban area potential benefit gain increase subsidy rural area find show demand influenza vaccination<br/><br> ...</blockquote"
      ],
      "text/plain": [
       "<IPython.core.display.HTML object>"
      ]
     },
     "metadata": {},
     "output_type": "display_data"
    },
    {
     "data": {
      "text/html": [
       "<h1>pulmonary disease</h1>"
      ],
      "text/plain": [
       "<IPython.core.display.HTML object>"
      ]
     },
     "metadata": {},
     "output_type": "display_data"
    },
    {
     "data": {
      "text/html": [
       "<p><strong>Title:</strong> U.S. airport entry screening in response to pandemic influenza: Modeling and analysis</br>\n",
       "                      <strong>ID:</strong> 09815b6ac7253723cfe4f4cf62d558b20be6e4aa</br>\n",
       "                      <strong> Number of macthes:  </strong> 2\n",
       "                      </p>"
      ],
      "text/plain": [
       "<IPython.core.display.HTML object>"
      ]
     },
     "metadata": {},
     "output_type": "display_data"
    },
    {
     "data": {
      "text/html": [
       "<blockquote>... threat pandemic influenza entry u.s arrive flight passenger flight southern hemisphere canada u.s contain pi infect passenger small numb flight low predict prevalence influenza area population day global pandemic originate asia result few pi infect passenger fig. african continent specifically consider majority transcontinental u.s air travel continent connect major european <mark>city</mark> day global pandemic model airport screen expect produce significant difference u.s epidemic spread infection firmly establish country wrong case scenario low detection pi foreign port embarkation u.s screen station low compliance isolation quarantine policy high numb arrive pi infect passenger fig. expect low detection ability sensitivity high prevalence disease scenario<br/><br> ...</blockquote"
      ],
      "text/plain": [
       "<IPython.core.display.HTML object>"
      ]
     },
     "metadata": {},
     "output_type": "display_data"
    },
    {
     "data": {
      "text/html": [
       "<h1>pulmonary disease</h1>"
      ],
      "text/plain": [
       "<IPython.core.display.HTML object>"
      ]
     },
     "metadata": {},
     "output_type": "display_data"
    },
    {
     "data": {
      "text/html": [
       "<p><strong>Title:</strong> The implications of high-speed railways on air passenger flows in China</br>\n",
       "                      <strong>ID:</strong> c0ca3a1d5d7f3e34a6500acebce925c70a79ed99</br>\n",
       "                      <strong> Number of macthes:  </strong> 49\n",
       "                      </p>"
      ],
      "text/plain": [
       "<IPython.core.display.HTML object>"
      ]
     },
     "metadata": {},
     "output_type": "display_data"
    },
    {
     "data": {
      "text/html": [
       "<blockquote>... passenger flow <mark>city</mark> pair market mode compete frequency component temporal dimension indicate hsr improve competitive position respect airline hsr frequency route increase travel time spatial dimension show hsr well competitive position <mark>city</mark> pair short hsr travel time route airline relatively limit travel time advantage frequency spatial dimension approximation economic level <mark>city</mark> pair reflect travel passenger impact travel time temporal dimension limit travel speed reduction hsr service period analysis contrast finding hsr ticket fare elastic market share europe adler al. behrens pels ticket fare hsr temporal spatial result frequency travel time short- medium- long-haul travel dimension strongly relate air passenger flow china<br/><br> ...</blockquote"
      ],
      "text/plain": [
       "<IPython.core.display.HTML object>"
      ]
     },
     "metadata": {},
     "output_type": "display_data"
    },
    {
     "data": {
      "text/html": [
       "<h1>pulmonary disease</h1>"
      ],
      "text/plain": [
       "<IPython.core.display.HTML object>"
      ]
     },
     "metadata": {},
     "output_type": "display_data"
    },
    {
     "data": {
      "text/html": [
       "<p><strong>Title:</strong> SARS-CoV Infection in a Restaurant from Palm Civet SARS-CoV Infection in a Restaurant from Palm Civet Emerging Infectious Diseases • www Past Issues on SARS</br>\n",
       "                      <strong>ID:</strong> fc9f4ba0a657fb6fe7c562097f43162406151a7e</br>\n",
       "                      <strong> Number of macthes:  </strong> 1\n",
       "                      </p>"
      ],
      "text/plain": [
       "<IPython.core.display.HTML object>"
      ]
     },
     "metadata": {},
     "output_type": "display_data"
    },
    {
     "data": {
      "text/html": [
       "<blockquote>... specimen test reverse transcriptionpolymerase chain reaction polyprotein nucleocapsid gene sars-cov gene sequence determine directly original sample rna transcribe cdna superscript invitrogen carlsbad usa subsequently pcr amplification complete spike gene genome sequence sars-cov virus conduct primer set base sequence datum sars-cov sz3 isolate palm civet abi genetic analyzer apply biosystems foster <mark>city</mark> usa assemble genome sequence compare virus isolate human tor2 animal sz3 origin nucleotide not difference double-check confirm sequence study deposit genbank accession nos. ay572034 sample patient animal culture fetal rhesus kidney frhk-4 cell vero e6 cell virus isolation describe cell sars-cov virus infection harvest fix glutaraldehyde electron microscopy science hatfield<br/><br> ...</blockquote"
      ],
      "text/plain": [
       "<IPython.core.display.HTML object>"
      ]
     },
     "metadata": {},
     "output_type": "display_data"
    },
    {
     "data": {
      "text/html": [
       "<h1>pulmonary disease</h1>"
      ],
      "text/plain": [
       "<IPython.core.display.HTML object>"
      ]
     },
     "metadata": {},
     "output_type": "display_data"
    },
    {
     "data": {
      "text/html": [
       "<p><strong>Title:</strong> Emerging Microbes & Infections (2017) 6, e49</br>\n",
       "                      <strong>ID:</strong> d1c3da8411eed001028326eb33acfb6bcdac877c</br>\n",
       "                      <strong> Number of macthes:  </strong> 1\n",
       "                      </p>"
      ],
      "text/plain": [
       "<IPython.core.display.HTML object>"
      ]
     },
     "metadata": {},
     "output_type": "display_data"
    },
    {
     "data": {
      "text/html": [
       "<blockquote>... rt-pcr reagent invitrogen carlsbad usa describe previously modification reagent mixture μl contain reaction mix superscript iii rt/platinum taq mix rox reagent μm forward reverse primer μm probe μl tna template thermal cycle condition min reverse transcription min rt inactivation/initial denaturation cycle reaction perform steponeplus real-time pcr system apply biosystems foster <mark>city</mark> usa qrt-pcr detection influenza virus parainfluenza virus hmpv respiratory syncytial virus carry agpath-id one-step rt-pcr reagent apply biosystems reagent mixture μl contain rt-pcr buff rt-pcr enzyme mix μm forward reverse primer μm probe μl tna template thermal cycle condition min reverse transcription min rt inactivation/initial denaturation cycle reaction perform lightcycler<br/><br> ...</blockquote"
      ],
      "text/plain": [
       "<IPython.core.display.HTML object>"
      ]
     },
     "metadata": {},
     "output_type": "display_data"
    },
    {
     "data": {
      "text/html": [
       "<h1>pulmonary disease</h1>"
      ],
      "text/plain": [
       "<IPython.core.display.HTML object>"
      ]
     },
     "metadata": {},
     "output_type": "display_data"
    },
    {
     "data": {
      "text/html": [
       "<p><strong>Title:</strong> A time-trend ecological study for identifying flood-sensitive infectious diseases in Guangxi, China from 2005 to 2012</br>\n",
       "                      <strong>ID:</strong> ec2e48e04cf44079c26155ee6d4ba37e2c404c52</br>\n",
       "                      <strong> Number of macthes:  </strong> 1\n",
       "                      </p>"
      ],
      "text/plain": [
       "<IPython.core.display.HTML object>"
      ]
     },
     "metadata": {},
     "output_type": "display_data"
    },
    {
     "data": {
      "text/html": [
       "<blockquote>... position study area guangxi china locate middle reach pearl river longitude 26′e 04′e latitude 54′n 24′n cover area km host population local resident ethnic han zhuang guangxi divide eastern guangxi southern guangxi western guangxi northern guangxi central guangxi accord geographical location administrative region county level guangxi include municipal district county-level <mark>city</mark> county autonomous county county-level administrative district select region study sty study area cover county-level administrative district i.e. guiping mengshan municipal district nanning municipal district qinzhou municipal district baise municipal district hechi municipal district guilin xing'an municipal district liuzhou rong'an similar geographic location determine characteristic subtropical monsoon climate study site annual<br/><br> ...</blockquote"
      ],
      "text/plain": [
       "<IPython.core.display.HTML object>"
      ]
     },
     "metadata": {},
     "output_type": "display_data"
    },
    {
     "data": {
      "text/html": [
       "<h1>pulmonary disease</h1>"
      ],
      "text/plain": [
       "<IPython.core.display.HTML object>"
      ]
     },
     "metadata": {},
     "output_type": "display_data"
    },
    {
     "data": {
      "text/html": [
       "<p><strong>Title:</strong> A Subset of Protective ␥ 9 ␦ 2 T Cells Is Activated by Novel Mycobacterial Glycolipid Components</br>\n",
       "                      <strong>ID:</strong> f030f518075c344748867210874ab67ffd02259e</br>\n",
       "                      <strong> Number of macthes:  </strong> 1\n",
       "                      </p>"
      ],
      "text/plain": [
       "<IPython.core.display.HTML object>"
      ]
     },
     "metadata": {},
     "output_type": "display_data"
    },
    {
     "data": {
      "text/html": [
       "<blockquote>... healthy tuberculin skin test-positive donor leukapheresis monocyte purify pbmcs plastic adherence base unique adhesion property monocytes/ macrophage pbmc population medium reagent mammalian cell culture experiment complete mycobacterium bovis bcg stock prepare report previously whole-cell lysates m. tuberculosis mtbwl nr-14822 obtain bei resource soluble 4-hydroxy-but-2-enyl pyrophosphate hmbpp echelon bioscience salt lake <mark>city</mark> ut stimulation cell control inhibition assay interleukin il-2 hoffmann-laroche inc basel switzerland expand cell anti-cd3 peridinin chlorophyll protein percp clone sk7 anti- tcr fluorescein isothiocyanate fitc clone b3 anti- tcr phycoerythrin pe clone 11f2 anti-cd4 pe-cy7 clone rpa-t4 anti-cd8 v500 clone rpa-t8 anti-ki-67 clone 35/ki-67 anti-tumor necrosis factor alpha anti-tnf-<br/><br> ...</blockquote"
      ],
      "text/plain": [
       "<IPython.core.display.HTML object>"
      ]
     },
     "metadata": {},
     "output_type": "display_data"
    },
    {
     "data": {
      "text/html": [
       "<h1>pulmonary disease</h1>"
      ],
      "text/plain": [
       "<IPython.core.display.HTML object>"
      ]
     },
     "metadata": {},
     "output_type": "display_data"
    },
    {
     "data": {
      "text/html": [
       "<p><strong>Title:</strong> Investigation of Griffithsin's Interactions with Human Cells Confirms Its Outstanding Safety and Efficacy Profile as a Microbicide Candidate</br>\n",
       "                      <strong>ID:</strong> 24e8a04adeb7f1142768d4de1e10d8ac48afcd03</br>\n",
       "                      <strong> Number of macthes:  </strong> 1\n",
       "                      </p>"
      ],
      "text/plain": [
       "<IPython.core.display.HTML object>"
      ]
     },
     "metadata": {},
     "output_type": "display_data"
    },
    {
     "data": {
      "text/html": [
       "<blockquote>... hocheberg correction control false discovery rate fdr consider fold change compare pbs treat sample represent meaningfully alter gene expression raw microarray datum upload gene expression ominbus geo database miame-compliant database detail mged society website http://www.mged.org/workgroups/miame.html geo accession numb gse28584 analysis regulate gene carry ingenuity knowledge database ingenuity system inc redwood <mark>city</mark> yield putative toxicological function canonical pathway quantitative rt-pcr carry order validate microarray result strand cdna reverse transcribe ng rna employ high capa<mark>city</mark> rna-to-cdna kit apply biosystems follow manufacturer instruction optimal amount template cdna add reaction mixture contain ml 26taqmanh gene expression master mix apply biosystems water ml mixture set pcr<br/><br> ...</blockquote"
      ],
      "text/plain": [
       "<IPython.core.display.HTML object>"
      ]
     },
     "metadata": {},
     "output_type": "display_data"
    },
    {
     "data": {
      "text/html": [
       "<h1>pulmonary disease</h1>"
      ],
      "text/plain": [
       "<IPython.core.display.HTML object>"
      ]
     },
     "metadata": {},
     "output_type": "display_data"
    },
    {
     "data": {
      "text/html": [
       "<p><strong>Title:</strong> Temporal variation of human encounters and the number of locations in which they occur: a longitudinal study of Hong Kong residents</br>\n",
       "                      <strong>ID:</strong> 3a1c74872d4e0aa20076dc1f3970d9ff42991847</br>\n",
       "                      <strong> Number of macthes:  </strong> 2\n",
       "                      </p>"
      ],
      "text/plain": [
       "<IPython.core.display.HTML object>"
      ]
     },
     "metadata": {},
     "output_type": "display_data"
    },
    {
     "data": {
      "text/html": [
       "<blockquote>... secondary infection arise great estimate information single day particularly infection long multiple day infectious period currently little evidence individual contact rate change time understand effective neighbourhood size vary different population different infection import implication public health control include effort invest contact trace outbreak hong kong densely populate <mark>city</mark> resident important <mark>city</mark> international travel strong regional international communication link connectivity reflect significance infectious disease sars emerge region spread rest world hong kong annual seasonal influenza think originate region previous survey social mix behaviour conduct hong kong examine social connectivity relate incidence influenza infection pandemic influenza present extension work longitudinal study social mix<br/><br> ...</blockquote"
      ],
      "text/plain": [
       "<IPython.core.display.HTML object>"
      ]
     },
     "metadata": {},
     "output_type": "display_data"
    },
    {
     "data": {
      "text/html": [
       "<h1>pulmonary disease</h1>"
      ],
      "text/plain": [
       "<IPython.core.display.HTML object>"
      ]
     },
     "metadata": {},
     "output_type": "display_data"
    },
    {
     "data": {
      "text/html": [
       "<p><strong>Title:</strong> Immunohistological study of the immune system cells in paraf®n-embedded tissues of conventional pigs 4 2 7 ( 0 1 ) 0 0 3 6 4 -6</br>\n",
       "                      <strong>ID:</strong> d6543ed0373166910ead447a607649104a816267</br>\n",
       "                      <strong> Number of macthes:  </strong> 1\n",
       "                      </p>"
      ],
      "text/plain": [
       "<IPython.core.display.HTML object>"
      ]
     },
     "metadata": {},
     "output_type": "display_data"
    },
    {
     "data": {
      "text/html": [
       "<blockquote>... investigate normal distribution immunohistochemical technique paraf n-embedded tissue conventional pig available antibody mabs reactivity paraf n-embedded tissue characterise previously polyclonal anti-human cd3 consider speci pan cell antibody paraf n-embedded tissue mason al. study distribution positive cell normal lymphoid non-lymphoid porcine tissue agree previous description author tanimoto ohtsuki con rming speci <mark>city</mark> antibody cell swine tissue cell area lymphoid organ clearly depict antibody study addition cell zone tanimoto ohtsuki scatter cell lymphoid morphology appear stain marginal zone spleen immunohistological detection cell anti-immunoglobulins antibody ramos al. recently anti-cd79a cell equivalent cd3 find useful marker swine normal neoplastic cell formalin- xed paraf n-embedded tissue<br/><br> ...</blockquote"
      ],
      "text/plain": [
       "<IPython.core.display.HTML object>"
      ]
     },
     "metadata": {},
     "output_type": "display_data"
    },
    {
     "data": {
      "text/html": [
       "<h1>pulmonary disease</h1>"
      ],
      "text/plain": [
       "<IPython.core.display.HTML object>"
      ]
     },
     "metadata": {},
     "output_type": "display_data"
    },
    {
     "data": {
      "text/html": [
       "<p><strong>Title:</strong> Observational Research in Childhood Infectious Diseases (ORChID): a dynamic birth cohort study</br>\n",
       "                      <strong>ID:</strong> fcf83e742399308d0bd2e6c735ec2d46ecb03b9d</br>\n",
       "                      <strong> Number of macthes:  </strong> 1\n",
       "                      </p>"
      ],
      "text/plain": [
       "<IPython.core.display.HTML object>"
      ]
     },
     "metadata": {},
     "output_type": "display_data"
    },
    {
     "data": {
      "text/html": [
       "<blockquote>... review arrangement retrieve cord blood available human research ethic committee child health queensland hospital health service royal brisbane woman hospital university queensland approve study pregnant woman approach enrolment newborn infant antenatal clinic hospital public royal woman hospital brisbane private northwest private hospital everton park hospital serve community northern metropolitan brisbane <mark>city</mark> people year approximately delivery respectively exclusion criterium enrolment ongoing participation include gestational age birth week major congenital abnormality chronic heart respiratory exclude asthma gastrointestinal neurological immunological disorder parent unable converse english live outside brisbane metropolitan region plan area year dynamic cohort study child leave rejoin cohort require outcome measure follow<br/><br> ...</blockquote"
      ],
      "text/plain": [
       "<IPython.core.display.HTML object>"
      ]
     },
     "metadata": {},
     "output_type": "display_data"
    },
    {
     "data": {
      "text/html": [
       "<h1>pulmonary disease</h1>"
      ],
      "text/plain": [
       "<IPython.core.display.HTML object>"
      ]
     },
     "metadata": {},
     "output_type": "display_data"
    },
    {
     "data": {
      "text/html": [
       "<p><strong>Title:</strong> Send Orders for Reprints to reprints@benthamscience.ae The Open Virology Journal Impact of Emerging, Re-Emerging and Zoonotic Viral Infectious Diseases, in a Virologist's Perspective</br>\n",
       "                      <strong>ID:</strong> 843ef80437031ed9f9adcf3e7b6183b6b898d433</br>\n",
       "                      <strong> Number of macthes:  </strong> 1\n",
       "                      </p>"
      ],
      "text/plain": [
       "<IPython.core.display.HTML object>"
      ]
     },
     "metadata": {},
     "output_type": "display_data"
    },
    {
     "data": {
      "text/html": [
       "<blockquote>... factor relate human society responsible emergence spread infectious disease present global population estimate grow rapidly describe population explosion increase remarkable sub-saharan africa south asia increase population common issue develope region facilitate poverty lead urbanization associate growth megacities <mark>city</mark> population high population density increase risk transmission infectious pathogen human-to-human contact low hygienic condition arise undeveloped infrastructure e.g. sewerage system naturally population explosion urbanization facilitate expansion residence area human promote forest development associate environmental destruction process human encounter unknown virus lurk animal harmful human fully demonstrate ebola virus suggest reside<br/><br> ...</blockquote"
      ],
      "text/plain": [
       "<IPython.core.display.HTML object>"
      ]
     },
     "metadata": {},
     "output_type": "display_data"
    },
    {
     "data": {
      "text/html": [
       "<h1>pulmonary disease</h1>"
      ],
      "text/plain": [
       "<IPython.core.display.HTML object>"
      ]
     },
     "metadata": {},
     "output_type": "display_data"
    },
    {
     "data": {
      "text/html": [
       "<p><strong>Title:</strong> A killed Leishmania vaccine with sand fly saliva extract and saponin adjuvant displays immunogenicity in dogs</br>\n",
       "                      <strong>ID:</strong> 1d8ed60ab07f4ba567277143966536d7ffb7e6ea</br>\n",
       "                      <strong> Number of macthes:  </strong> 1\n",
       "                      </p>"
      ],
      "text/plain": [
       "<IPython.core.display.HTML object>"
      ]
     },
     "metadata": {},
     "output_type": "display_data"
    },
    {
     "data": {
      "text/html": [
       "<blockquote>... ciências exatas biológicas universidade federal de ouro preto ouro preto minas gerais brazil vaccinate age month rabies tecpar curitiba-pr brazil canine distemper type adenovirus coronavirus parainfluenza parvovirus leptospira vanguard htlp 5/cv-l pfizer animal health new york ny usa treat anthelmintic absence specific anti-leishmania antibody confirm indirect fluorescence immunoassay ouro preto <mark>city</mark> consider non-endemic area visceral leishmaniasis brazil negative serology ifat additional effective approach perform aim rule leishmania infection spray kennel ufop pyrethroid insecticide protect extension appropriate security stainless steel gauze recommend brazilian ministry healthy animal treat experimental group control group receive ml sterile saline ii sap group receive mg saponin propose<br/><br> ...</blockquote"
      ],
      "text/plain": [
       "<IPython.core.display.HTML object>"
      ]
     },
     "metadata": {},
     "output_type": "display_data"
    },
    {
     "data": {
      "text/html": [
       "<h1>pulmonary disease</h1>"
      ],
      "text/plain": [
       "<IPython.core.display.HTML object>"
      ]
     },
     "metadata": {},
     "output_type": "display_data"
    },
    {
     "data": {
      "text/html": [
       "<p><strong>Title:</strong> Clinical characteristics of asthmatic patients with influenza-like illness and risk of severe exacerbations in Mexico</br>\n",
       "                      <strong>ID:</strong> 498cc1e1dfb7d2f3933a1fe58409156ec4297857</br>\n",
       "                      <strong> Number of macthes:  </strong> 2\n",
       "                      </p>"
      ],
      "text/plain": [
       "<IPython.core.display.HTML object>"
      ]
     },
     "metadata": {},
     "output_type": "display_data"
    },
    {
     "data": {
      "text/html": [
       "<blockquote>... hospitalize patient ilis comorbidity associate severity asthma hypothesize certain viral infection pattern ili symptom laboratory value identify patient develop severe asthma exacerbation require subsequent hospitalization april march mexico emerge infectious disease clinical research network lared begin recruitment prospective cohort patient evaluate hospitalize outpatient ili participant enroll hospital mexico <mark>city</mark> central <mark>city</mark> san luis potosí recruitment occur year round participant enroll study respiratory symptom follow general symptom fever feverishness malaise headache myalgia and/or chest pain enroll participant baseline study visit collect information demographics medical history laboratory test clinical care need outpatient hospitalization intensive care admission follow-up visit perform day information hospitalization collect<br/><br> ...</blockquote"
      ],
      "text/plain": [
       "<IPython.core.display.HTML object>"
      ]
     },
     "metadata": {},
     "output_type": "display_data"
    }
   ],
   "source": [
    "for index, row in corona_df.iterrows():\n",
    "    marked_text = \"\"\n",
    "    doc = nlp(row[\"text\"])\n",
    "    paper_id = row[\"paper_id\"]\n",
    "    title=row['title']\n",
    "    matches = matcher(doc)\n",
    "    if matches == []:\n",
    "        continue\n",
    "  \n",
    "    display(HTML(f'<h1>{search_string}</h1>'))\n",
    "    display(HTML(f\"\"\"<p><strong>Title:</strong> {title}</br>\n",
    "                      <strong>ID:</strong> {paper_id}</br>\n",
    "                      <strong> Number of macthes:  </strong> {len(matches)}\n",
    "                      </p>\"\"\"))\n",
    "    for i in matches:\n",
    "        start = i[1] - number_of_words\n",
    "        if start < 0:\n",
    "            start = 0\n",
    "        for j in range(len(tokens_list)):\n",
    "            if doc[i[1]:i[2]].similarity(tokens_list[j]) == 1.0:\n",
    "                search_text = str(tokens_list[j])\n",
    "                marked_text = str(doc[start:i[2] + number_of_words]).replace(search_text, f\"<mark>{search_text}</mark>\")\n",
    "                marked_text += \"<br/><br>\"\n",
    "    display(HTML(f\"\"\"<blockquote>... {marked_text} ...</blockquote\"\"\"))"
   ]
  },
  {
   "cell_type": "markdown",
   "metadata": {},
   "source": [
    "O próximo desafio é verificar a similaridade de alguns textos com os artigos, obtendo aqueles artigos que possuem uma maior similaridade\n",
    "\n",
    "Um dos textos propostos é: 'Guidance on ways to scale up NPIs in a more coordinated way (e.g., establish funding, infrastructure and authorities to support real time, authoritative (qualified participants) collaboration with all states to gain consensus on consistent guidance and to mobilize resources to geographic areas where critical shortfalls are identified) to give us time to enhance our health care delivery system capacity to respond to an increase in cases. Rapid design and execution of experiments to examine and compare NPIs currently being implemented. DHS Centers for Excellence could potentially be leveraged to conduct these experiments'"
   ]
  },
  {
   "cell_type": "code",
   "execution_count": 40,
   "metadata": {},
   "outputs": [],
   "source": [
    "texts = corona_df['text'].tolist()\n",
    "tfidf = TfidfVectorizer()\n",
    "vectorized = tfidf.fit_transform(texts)"
   ]
  },
  {
   "cell_type": "code",
   "execution_count": 41,
   "metadata": {},
   "outputs": [],
   "source": [
    "search_string = 'Guidance on ways to scale up NPIs in a more coordinated way (e.g., establish funding, infrastructure and authorities to support real time, authoritative (qualified participants) collaboration with all states to gain consensus on consistent guidance and to mobilize resources to geographic areas where critical shortfalls are identified) to give us time to enhance our health care delivery system capacity to respond to an increase in cases. Rapid design and execution of experiments to examine and compare NPIs currently being implemented. DHS Centers for Excellence could potentially be leveraged to conduct these experiments'"
   ]
  },
  {
   "cell_type": "code",
   "execution_count": 42,
   "metadata": {},
   "outputs": [
    {
     "name": "stdout",
     "output_type": "stream",
     "text": [
      "guidance way scale npis coordinate way e.g. establish fund infrastructure authority support real time authoritative qualify participant collaboration state gain consensus consistent guidance mobilize resource geographic area critical shortfall identify time enhance health care delivery system capacity respond increase case rapid design execution experiment examine compare npis currently implement dhs center excellence potentially leverage conduct experiment\n"
     ]
    }
   ],
   "source": [
    "search_string = spacy_tokenizer(search_string)\n",
    "print(search_string)"
   ]
  },
  {
   "cell_type": "code",
   "execution_count": 43,
   "metadata": {},
   "outputs": [],
   "source": [
    "search_string_vectorized = tfidf.transform([search_string])"
   ]
  },
  {
   "cell_type": "code",
   "execution_count": 45,
   "metadata": {},
   "outputs": [],
   "source": [
    "similarity = cosine_similarity(search_string_vectorized, vectorized)"
   ]
  },
  {
   "cell_type": "code",
   "execution_count": 46,
   "metadata": {},
   "outputs": [],
   "source": [
    "scores_dict = {}\n",
    "for i in range(len(similarity[0])):\n",
    "    scores_dict[i] = similarity[0][i]"
   ]
  },
  {
   "cell_type": "code",
   "execution_count": 47,
   "metadata": {},
   "outputs": [],
   "source": [
    "sorted_scores = sorted(scores_dict.items(), key=operator.itemgetter(1), reverse = True)"
   ]
  },
  {
   "cell_type": "markdown",
   "metadata": {},
   "source": [
    "Aqui então temos por ordem de importância, aqueles artigos onde foi encontrado uma maior similaridade com a frase pesquisada, lembrando que aqui estamos utilizando apenas em 500 artigos, porém pode ser utilizado em todos os outros do banco de dados"
   ]
  },
  {
   "cell_type": "code",
   "execution_count": 48,
   "metadata": {},
   "outputs": [
    {
     "data": {
      "text/html": [
       "<h3>guidance way scale npis coordinate way e.g. establish fund infrastructure authority support real time authoritative qualify participant collaboration state gain consensus consistent guidance mobilize resource geographic area critical shortfall identify time enhance health care delivery system capacity respond increase case rapid design execution experiment examine compare npis currently implement dhs center excellence potentially leverage conduct experiment</h3>"
      ],
      "text/plain": [
       "<IPython.core.display.HTML object>"
      ]
     },
     "metadata": {},
     "output_type": "display_data"
    },
    {
     "data": {
      "text/html": [
       "<p><br></br>\n",
       "                      <strong>Title:</strong> Establishment of CDC Global Rapid Response Team to Ensure Global Health Security</br>\n",
       "                      <strong>ID:</strong> 6699fa6eb0b4fb603f3baf51add71f7ec29ed2a5</br>\n",
       "                      <strong> Score: </strong> 0.11836610700901243</br>\n",
       "                      <strong>Abstract:</strong> The 2014-2016 Ebola virus disease epidemic in West Africa highlighted challenges faced by the global response to a large public health emergency. Consequently, the US Centers for Disease Control and Prevention established the Global Rapid Response Team (GRRT) to strengthen emergency response capacity to global health threats, thereby ensuring global health security. Dedicated GRRT staff can be rapidly mobilized for extended missions, improving partner coordination and the continuity of response operations. A large, agencywide roster of surge staff enables rapid mobilization of qualified responders with wide-ranging experience and expertise. Team members are offered emergency response trainin\n",
       "                      \n",
       "                      </p>"
      ],
      "text/plain": [
       "<IPython.core.display.HTML object>"
      ]
     },
     "metadata": {},
     "output_type": "display_data"
    },
    {
     "data": {
      "text/html": [
       "<p><br></br>\n",
       "                      <strong>Title:</strong> Policy-driven ecosystems for new vaccine development</br>\n",
       "                      <strong>ID:</strong> e367c185f028a3b59af2e04b387e2fc72656641b</br>\n",
       "                      <strong> Score: </strong> 0.09705453964932752</br>\n",
       "                      <strong>Abstract:</strong> This paper examines the relationship between biomedical policies and entrepreneurial R&D strategies. Public health programs have been unable to provide effective and affordable treatment of infectious diseases for the poor. While governments have become more open to private sector contributions to policy objectives, it is rare to find new ventures commercializing healthcare innovations for neglected diseases. Two case studies of entrepreneurial ventures, in the UK and China, provide evidence on how resource-constrained firms mobilize participants in policy-specific ecosystems to achieve their goals of new vaccine development for tuberculosis. Ecosystem analysis reveals how the innovators' bu\n",
       "                      \n",
       "                      </p>"
      ],
      "text/plain": [
       "<IPython.core.display.HTML object>"
      ]
     },
     "metadata": {},
     "output_type": "display_data"
    },
    {
     "data": {
      "text/html": [
       "<p><br></br>\n",
       "                      <strong>Title:</strong> Public Health and Clinical Laboratories: Partners in the Age of Emerging Infections</br>\n",
       "                      <strong>ID:</strong> f1be72a63fbb8599da04160000b1372426ff4388</br>\n",
       "                      <strong> Score: </strong> 0.09121214374504526</br>\n",
       "                      <strong>Abstract:</strong> Clinical and public health laboratories have experienced unprecedented challenges in the form of demands to comply with revised regulations and economic pressures to be more efficient while preparing to respond to everything from pandemic influenza to bioterrorism. These forces have been an impetus for laboratorians to communicate, cooperate, and collaborate as never before and to seek the common ground where knowledge and resources can be shared to weather the profound economic and political forces at work today. The appearance of newly emerging and reemergent infections caused by agents of foodborne illness, anthrax, smallpox, plague, influenza, and other diseases has fostered cooperative \n",
       "                      \n",
       "                      </p>"
      ],
      "text/plain": [
       "<IPython.core.display.HTML object>"
      ]
     },
     "metadata": {},
     "output_type": "display_data"
    },
    {
     "data": {
      "text/html": [
       "<p><br></br>\n",
       "                      <strong>Title:</strong> Public health in practice: the three domains of public health</br>\n",
       "                      <strong>ID:</strong> 6a0da82f10bac49659556d074a71136e794ae45d</br>\n",
       "                      <strong> Score: </strong> 0.08270391096480526</br>\n",
       "                      <strong>Abstract:</strong> This paper outlines a conceptual model for public health practice by proposing the three domains as a framework to organize and to deliver public health programmes. The model builds on the recognition that public health is everybody's business and therefore, needs a common definitional base. Different levels of skill and a wide range of contributions are needed if public health programmes are to make the most impact. The different domains of practice help to construct a basis for understanding the necessary elements of the public health system and their interactions.\n",
       " Using teenage pregnancy as a case study of a public health programme highlights the characteristics of the model. It demonstr\n",
       "                      \n",
       "                      </p>"
      ],
      "text/plain": [
       "<IPython.core.display.HTML object>"
      ]
     },
     "metadata": {},
     "output_type": "display_data"
    },
    {
     "data": {
      "text/html": [
       "<p><br></br>\n",
       "                      <strong>Title:</strong> *World Health Organization</br>\n",
       "                      <strong>ID:</strong> e159298c6d214ba5e950ef1cda327cf5a88326b8</br>\n",
       "                      <strong> Score: </strong> 0.08200027109009875</br>\n",
       "                      <strong>Abstract:</strong> The World Health Organization's recommended pandemic influenza interventions, based on limited data, vary by transmission pattern, pandemic phase, and illness severity and extent. In the pandemic alert period, recommendations include isolation of patients and quarantine of contacts, accompanied by antiviral therapy. During the pandemic period, the focus shifts to delaying spread and reducing effects through population-based measures. Ill persons should remain home when they first became symptomatic, but forced isolation and quarantine are ineffective and impractical. If the pandemic is severe, social distancing measures such as school closures should be considered. Nonessential domestic trav\n",
       "                      \n",
       "                      </p>"
      ],
      "text/plain": [
       "<IPython.core.display.HTML object>"
      ]
     },
     "metadata": {},
     "output_type": "display_data"
    },
    {
     "data": {
      "text/html": [
       "<p><br></br>\n",
       "                      <strong>Title:</strong> SOGC CLINICAL PRACTICE GUIDELINE No. 225-Management Guidelines for Obstetric Patients and Neonates Born to Mothers With Suspected or Probable Severe Acute Respiratory Syndrome (SARS)</br>\n",
       "                      <strong>ID:</strong> 3f13102b780fa8c0da16df0187c1236f0c2da9e6</br>\n",
       "                      <strong> Score: </strong> 0.07942454139372059</br>\n",
       "                      <strong>Abstract:</strong> Objective: This document summarizes the limited experience of SARS in pregnancy and suggests guidelines for management.\n",
       " Outcomes: Cases reported from Asia suggest that maternal and fetal outcomes are worsened by SARS during pregnancy.\n",
       " Evidence: Medline was searched for relevant articles published in English from 2000 to 2007. Case reports were reviewed and expert opinion sought.\n",
       "                      \n",
       "                      </p>"
      ],
      "text/plain": [
       "<IPython.core.display.HTML object>"
      ]
     },
     "metadata": {},
     "output_type": "display_data"
    },
    {
     "data": {
      "text/html": [
       "<p><br></br>\n",
       "                      <strong>Title:</strong> Detection of COPD Exacerbations and Compliance With Patient-Reported Daily Symptom Diaries Using a Smartphone- Based Information System</br>\n",
       "                      <strong>ID:</strong> bee83823ae54264a5288f4145fa08ac474d5c177</br>\n",
       "                      <strong> Score: </strong> 0.07916374417884744</br>\n",
       "                      <strong>Abstract:</strong> publicly funded repositories, such as the WHO COVID database with rights for unrestricted research re-use and analyses in any form or by any means with acknowledgement of the original source. These permissions are granted for free by Elsevier for as long as the COVID-19 resource centre remains active.\n",
       " Original Research COPD journal.publications.chestnet.org CHEST / 144 / 2 / AUGUST 2013\n",
       " S tudies of COPD that have used self-report of possible COPD exacerbations detect one-third to onehalf of all exacerbations that occur. 1-4 Participants using paper-based data recording in studies of respiratory diseases often falsify data, 5,6 and the likelihood of this occurring increases with the length \n",
       "                      \n",
       "                      </p>"
      ],
      "text/plain": [
       "<IPython.core.display.HTML object>"
      ]
     },
     "metadata": {},
     "output_type": "display_data"
    },
    {
     "data": {
      "text/html": [
       "<p><br></br>\n",
       "                      <strong>Title:</strong> Containment measures for emerging and re-emerging vector-borne and other infectious diseases of poverty in urban settings: a scoping review</br>\n",
       "                      <strong>ID:</strong> a336fd69f73d0debd55b454b97ff45cf9f39d82a</br>\n",
       "                      <strong> Score: </strong> 0.07661539335909748</br>\n",
       "                      <strong>Abstract:</strong> The emergence and re-emergence of vector-borne and other infectious diseases of poverty pose a threat to the health of populations living in urban and low-income settings. A detailed understanding of intervention strategies, including effectiveness of past outbreak containment, is necessary to improve future practices. The objective was to determine what is known about the effectiveness of containment measures for emerging and re-emerging vector-borne and other infectious diseases of poverty in urban settings and identify research gaps and implications for public health practice.\n",
       " Main body: We conducted a scoping review and systematically searched peer-reviewed and grey literature published\n",
       "                      \n",
       "                      </p>"
      ],
      "text/plain": [
       "<IPython.core.display.HTML object>"
      ]
     },
     "metadata": {},
     "output_type": "display_data"
    },
    {
     "data": {
      "text/html": [
       "<p><br></br>\n",
       "                      <strong>Title:</strong> The intensive care unit work environment: Current challenges and recommendations for the future</br>\n",
       "                      <strong>ID:</strong> b7bc5d27327f14b1a42d8007d63996e7441df576</br>\n",
       "                      <strong> Score: </strong> 0.07442961644124681</br>\n",
       "                      <strong>Abstract:</strong> The need for critical care services has grown substantially in the last decade in most of the G8 nations. This increasing demand has accentuated an already existing shortage of trained critical care professionals. Recent studies argue that difficulty in recruiting an appropriate workforce relates to a shortage of graduating professionals and unhealthy work environments in which critical care professionals must work. Objective: This narrative review summarizes existing literature and experiences about the key work environment challenges reported within the critical care context and suggests best practices-implemented in hospitals or suggested by professional associations-which can be an initi\n",
       "                      \n",
       "                      </p>"
      ],
      "text/plain": [
       "<IPython.core.display.HTML object>"
      ]
     },
     "metadata": {},
     "output_type": "display_data"
    },
    {
     "data": {
      "text/html": [
       "<p><br></br>\n",
       "                      <strong>Title:</strong> BMC Public Health Beyond traditional surveillance: applying syndromic surveillance to developing settings -opportunities and challenges</br>\n",
       "                      <strong>ID:</strong> 1a9fdd51745b132ee92107b4e9c68597d3767b7e</br>\n",
       "                      <strong> Score: </strong> 0.07072589662871254</br>\n",
       "                      <strong>Abstract:</strong> Background: All countries need effective disease surveillance systems for early detection of outbreaks. The revised International Health Regulations [IHR], which entered into force for all 194 World Health Organization member states in 2007, have expanded traditional infectious disease notification to include surveillance for public health events of potential international importance, even if the causative agent is not yet known. However, there are no clearly established guidelines for how countries should conduct this surveillance, which types of emerging disease syndromes should be reported, nor any means for enforcement.\n",
       " The commonly established concept of syndromic surveillance in devel\n",
       "                      \n",
       "                      </p>"
      ],
      "text/plain": [
       "<IPython.core.display.HTML object>"
      ]
     },
     "metadata": {},
     "output_type": "display_data"
    }
   ],
   "source": [
    "display(HTML(f'<h3>{search_string}</h3>'))\n",
    "\n",
    "for i in sorted_scores[:10]:\n",
    "    df = corona_df.iloc[i[0]]\n",
    "    display(HTML(f\"\"\"<p><br></br>\n",
    "                      <strong>Title:</strong> {df['title']}</br>\n",
    "                      <strong>ID:</strong> {df['paper_id']}</br>\n",
    "                      <strong> Score: </strong> {i[1]}</br>\n",
    "                      <strong>Abstract:</strong> {str(df['abstract'])[0:700]}\n",
    "                      \n",
    "                      </p>\"\"\"))"
   ]
  },
  {
   "cell_type": "markdown",
   "metadata": {},
   "source": [
    "A seguir será realizado alguns testes para saber se é possível prever com algum modelo o número de mortes pelo covid aqui no Brasil, e sempre lembrando que esse trabalho é apenas para fins teóricos e de aprendizado. Explicarei também um pouco do modelo que será utilizado para as previsões. A intenção não é contar mortes!! O primeiro dataset que estarei trabalhando, a data irá do dia 17/03 (dia do primeiro caso de morte) até o dia 28/6, e então farei previsões utilizando modelos estatísticos e de machine learning com a finalidade de tentar prever os próximos dias"
   ]
  },
  {
   "cell_type": "code",
   "execution_count": 49,
   "metadata": {},
   "outputs": [],
   "source": [
    "df_brasil = pd.read_csv(\"brazil_covid19_macro.csv\")\n",
    "brasil = df_brasil[['date', 'deaths']].groupby('date').sum().reset_index()\n",
    "brasil = brasil[brasil['deaths'] >0]\n",
    "brasil['date'] = pd.to_datetime(brasil['date'])\n",
    "brasil.set_index('date', inplace=True)\n",
    "brasil.index.freq = \"D\""
   ]
  },
  {
   "cell_type": "code",
   "execution_count": 50,
   "metadata": {},
   "outputs": [
    {
     "data": {
      "text/html": [
       "<div>\n",
       "<style scoped>\n",
       "    .dataframe tbody tr th:only-of-type {\n",
       "        vertical-align: middle;\n",
       "    }\n",
       "\n",
       "    .dataframe tbody tr th {\n",
       "        vertical-align: top;\n",
       "    }\n",
       "\n",
       "    .dataframe thead th {\n",
       "        text-align: right;\n",
       "    }\n",
       "</style>\n",
       "<table border=\"1\" class=\"dataframe\">\n",
       "  <thead>\n",
       "    <tr style=\"text-align: right;\">\n",
       "      <th></th>\n",
       "      <th>deaths</th>\n",
       "    </tr>\n",
       "    <tr>\n",
       "      <th>date</th>\n",
       "      <th></th>\n",
       "    </tr>\n",
       "  </thead>\n",
       "  <tbody>\n",
       "    <tr>\n",
       "      <th>2020-03-17</th>\n",
       "      <td>1</td>\n",
       "    </tr>\n",
       "    <tr>\n",
       "      <th>2020-03-18</th>\n",
       "      <td>4</td>\n",
       "    </tr>\n",
       "    <tr>\n",
       "      <th>2020-03-19</th>\n",
       "      <td>6</td>\n",
       "    </tr>\n",
       "    <tr>\n",
       "      <th>2020-03-20</th>\n",
       "      <td>11</td>\n",
       "    </tr>\n",
       "    <tr>\n",
       "      <th>2020-03-21</th>\n",
       "      <td>18</td>\n",
       "    </tr>\n",
       "  </tbody>\n",
       "</table>\n",
       "</div>"
      ],
      "text/plain": [
       "            deaths\n",
       "date              \n",
       "2020-03-17       1\n",
       "2020-03-18       4\n",
       "2020-03-19       6\n",
       "2020-03-20      11\n",
       "2020-03-21      18"
      ]
     },
     "execution_count": 50,
     "metadata": {},
     "output_type": "execute_result"
    }
   ],
   "source": [
    "brasil.head()"
   ]
  },
  {
   "cell_type": "code",
   "execution_count": 51,
   "metadata": {},
   "outputs": [
    {
     "data": {
      "text/plain": [
       "<matplotlib.legend.Legend at 0x1bcbfce2388>"
      ]
     },
     "execution_count": 51,
     "metadata": {},
     "output_type": "execute_result"
    },
    {
     "data": {
      "image/png": "[encoded data removed]",
      "text/plain": [
       "<Figure size 576x360 with 1 Axes>"
      ]
     },
     "metadata": {
      "needs_background": "light"
     },
     "output_type": "display_data"
    }
   ],
   "source": [
    "plt.figure(figsize=(8,5))\n",
    "plt.title(\"Covid-19 no Brasil\")\n",
    "plt.plot(brasil.values,label=\"nº Mortes\")\n",
    "plt.xlabel(\"Dias\")\n",
    "plt.legend()"
   ]
  },
  {
   "cell_type": "code",
   "execution_count": 52,
   "metadata": {},
   "outputs": [
    {
     "data": {
      "image/png": "[encoded data removed]",
      "text/plain": [
       "<Figure size 432x288 with 1 Axes>"
      ]
     },
     "metadata": {
      "needs_background": "light"
     },
     "output_type": "display_data"
    }
   ],
   "source": [
    "plot_acf(brasil['deaths'], lags=40);"
   ]
  },
  {
   "cell_type": "code",
   "execution_count": 53,
   "metadata": {},
   "outputs": [
    {
     "data": {
      "image/png": "[encoded data removed]",
      "text/plain": [
       "<Figure size 432x288 with 1 Axes>"
      ]
     },
     "metadata": {
      "needs_background": "light"
     },
     "output_type": "display_data"
    }
   ],
   "source": [
    "plot_pacf(brasil['deaths'], lags=40);"
   ]
  },
  {
   "cell_type": "code",
   "execution_count": 54,
   "metadata": {},
   "outputs": [
    {
     "data": {
      "image/png": "[encoded data removed]",
      "text/plain": [
       "<Figure size 432x288 with 4 Axes>"
      ]
     },
     "metadata": {
      "needs_background": "light"
     },
     "output_type": "display_data"
    }
   ],
   "source": [
    "seasonal = seasonal_decompose(brasil['deaths'], model='aditive');\n",
    "seasonal.plot();"
   ]
  },
  {
   "cell_type": "markdown",
   "metadata": {},
   "source": [
    "Podemos então dividir o primeiro gráfico entre a tendência, a sazonalidade e o residuo\n",
    "\n",
    "A tendência é em que forma que o gráfico está se aprensentando? Em alta? Em queda?\n",
    "\n",
    "Sazonalidade é os períodos que se repetem, por exemplo, no inverno as pessoas costumam viajar mais do que no verão, e isso se repete todo ano\n",
    "\n",
    "Residuo é tudo aquilo que não pode ser explicado pela tendência e pela sazonalidade\n",
    "\n",
    "A seguir podemos aproximar a sazonalidade e afirmar que existe uma sazonalidade semanal aos finais de semana, isso poderia ser explicado pelo atraso dos dados aos sábados e domingos"
   ]
  },
  {
   "cell_type": "code",
   "execution_count": 57,
   "metadata": {},
   "outputs": [
    {
     "data": {
      "text/plain": [
       "Text(0.5, 0, 'Date')"
      ]
     },
     "execution_count": 57,
     "metadata": {},
     "output_type": "execute_result"
    },
    {
     "data": {
      "image/png": "[encoded data removed]",
      "text/plain": [
       "<Figure size 576x216 with 1 Axes>"
      ]
     },
     "metadata": {
      "needs_background": "light"
     },
     "output_type": "display_data"
    }
   ],
   "source": [
    "plt.figure(figsize=(8,3))\n",
    "seasonal.seasonal.plot();\n",
    "plt.title(\"Seasonal\")\n",
    "plt.xlabel('Date')"
   ]
  },
  {
   "cell_type": "markdown",
   "metadata": {},
   "source": [
    "Abaixo temos o gráfico de tendência, como ja poderíamos supor, existe uma tendência de alta nos números de mortes"
   ]
  },
  {
   "cell_type": "code",
   "execution_count": 58,
   "metadata": {},
   "outputs": [
    {
     "data": {
      "text/plain": [
       "Text(0.5, 0, 'Date')"
      ]
     },
     "execution_count": 58,
     "metadata": {},
     "output_type": "execute_result"
    },
    {
     "data": {
      "image/png": "[encoded data removed]",
      "text/plain": [
       "<Figure size 576x216 with 1 Axes>"
      ]
     },
     "metadata": {
      "needs_background": "light"
     },
     "output_type": "display_data"
    }
   ],
   "source": [
    "plt.figure(figsize=(8,3))\n",
    "seasonal.trend.plot()\n",
    "plt.title(\"Tendência\")\n",
    "plt.xlabel('Date')"
   ]
  },
  {
   "cell_type": "markdown",
   "metadata": {},
   "source": [
    "Abaixo vemos o gráfico de resíduos, que é tudo aquilo que não pode ser explicado nem pela tendência e nem pela sazonalidade"
   ]
  },
  {
   "cell_type": "code",
   "execution_count": 60,
   "metadata": {},
   "outputs": [
    {
     "data": {
      "text/plain": [
       "Text(0.5, 0, 'Date')"
      ]
     },
     "execution_count": 60,
     "metadata": {},
     "output_type": "execute_result"
    },
    {
     "data": {
      "image/png": "[encoded data removed]",
      "text/plain": [
       "<Figure size 576x216 with 1 Axes>"
      ]
     },
     "metadata": {
      "needs_background": "light"
     },
     "output_type": "display_data"
    }
   ],
   "source": [
    "plt.figure(figsize=(8,3))\n",
    "seasonal.resid.plot()\n",
    "plt.title(\"Residual\")\n",
    "plt.xlabel('Date')"
   ]
  },
  {
   "cell_type": "markdown",
   "metadata": {},
   "source": [
    "A seguir devemos então verificar se a série é estacionária ou não, para isso é utilizaremos o teste do adfuller\n",
    "\n",
    "O seguinte teste retornará uma tupla de estatísticas do teste do ADF, como Estatística do teste Valor-P; Número de defasagens usadas; Número de observações usadas para a regressão do ADF e um dicionário de Valores críticos.\n",
    "\n",
    "Resumindo, se o valor-p encontrado pelo teste for < 0,05, a série é estacionária, ja se o valor for acima de 0,05 a série não é estacionária e por esse motivo devemos então normalizala.\n",
    "\n",
    "Utilizei uma função para simplificar a visualização dos valores, e o valor p encontrado foi superior a 0,05, ou seja, a série não é estacionaria e para realizar as previsões devemos transforma-la em estacionária"
   ]
  },
  {
   "cell_type": "code",
   "execution_count": 61,
   "metadata": {},
   "outputs": [],
   "source": [
    "def adf_test(series,title=''):\n",
    "    \"\"\"\n",
    "    Pass in a time series and an optional title, returns an ADF report\n",
    "    \"\"\"\n",
    "    print(f'Augmented Dickey-Fuller Test: {title}')\n",
    "    result = adfuller(series.dropna(),autolag='AIC') # .dropna() handles differenced data\n",
    "    \n",
    "    labels = ['ADF test statistic','p-value','# lags used','# observations']\n",
    "    out = pd.Series(result[0:4],index=labels)\n",
    "\n",
    "    for key,val in result[4].items():\n",
    "        out[f'critical value ({key})']=val\n",
    "        \n",
    "    print(out.to_string())          # .to_string() removes the line \"dtype: float64\"\n",
    "    \n",
    "    if result[1] <= 0.05:\n",
    "        print(\"Strong evidence against the null hypothesis\")\n",
    "        print(\"Reject the null hypothesis\")\n",
    "        print(\"Data has no unit root and is stationary\")\n",
    "    else:\n",
    "        print(\"Weak evidence against the null hypothesis\")\n",
    "        print(\"Fail to reject the null hypothesis\")\n",
    "        print(\"Data has a unit root and is non-stationary\")"
   ]
  },
  {
   "cell_type": "code",
   "execution_count": 62,
   "metadata": {},
   "outputs": [
    {
     "name": "stdout",
     "output_type": "stream",
     "text": [
      "Augmented Dickey-Fuller Test: \n",
      "ADF test statistic      -2.129313\n",
      "p-value                  0.232892\n",
      "# lags used              8.000000\n",
      "# observations          95.000000\n",
      "critical value (1%)     -3.501137\n",
      "critical value (5%)     -2.892480\n",
      "critical value (10%)    -2.583275\n",
      "Weak evidence against the null hypothesis\n",
      "Fail to reject the null hypothesis\n",
      "Data has a unit root and is non-stationary\n"
     ]
    }
   ],
   "source": [
    "adf_test(brasil[\"deaths\"])"
   ]
  },
  {
   "cell_type": "markdown",
   "metadata": {},
   "source": [
    "Para transformar em uma série estacionária, foi necessária a realização de 2 diferenciações."
   ]
  },
  {
   "cell_type": "code",
   "execution_count": 63,
   "metadata": {},
   "outputs": [
    {
     "data": {
      "text/plain": [
       "Text(0, 0.5, 'Date')"
      ]
     },
     "execution_count": 63,
     "metadata": {},
     "output_type": "execute_result"
    },
    {
     "data": {
      "image/png": "[encoded data removed]",
      "text/plain": [
       "<Figure size 864x360 with 1 Axes>"
      ]
     },
     "metadata": {
      "needs_background": "light"
     },
     "output_type": "display_data"
    }
   ],
   "source": [
    "df1 = brasil.copy()\n",
    "plt.figure(figsize=(12,5))\n",
    "df1['d2'] = diff(brasil['deaths'],k_diff=2)\n",
    "df1['d2'][2:].plot();\n",
    "plt.title(\"Stacionary timeseries\")\n",
    "plt.ylabel(\"Date\")"
   ]
  },
  {
   "cell_type": "code",
   "execution_count": 64,
   "metadata": {},
   "outputs": [
    {
     "name": "stdout",
     "output_type": "stream",
     "text": [
      "Augmented Dickey-Fuller Test: \n",
      "ADF test statistic      -5.494940\n",
      "p-value                  0.000002\n",
      "# lags used              6.000000\n",
      "# observations          95.000000\n",
      "critical value (1%)     -3.501137\n",
      "critical value (5%)     -2.892480\n",
      "critical value (10%)    -2.583275\n",
      "Strong evidence against the null hypothesis\n",
      "Reject the null hypothesis\n",
      "Data has no unit root and is stationary\n"
     ]
    }
   ],
   "source": [
    "adf_test(df1['d2'])"
   ]
  },
  {
   "cell_type": "markdown",
   "metadata": {},
   "source": [
    "Como podemos ver, agora se tornou uma série estacionária!!\n",
    "\n",
    "MODELO SARIMA\n",
    "\n",
    "De uma forma resumida, o ARIMA model é composto por:\n",
    "\n",
    "AR(p) = Autoregression model, prevemos utilizando a combinação de valores passados da próprima variável. Gera modelos lineares.\n",
    "\n",
    "Representado pela letra P MA(d) = é o modelo de média móvel. ARMA(p,q) = A junção dos dois acima - representado pela letra Q\n",
    "\n",
    "ARIMA(p,q,d) = O mesmo processo que ocorre para o ARMA + aplicação da diferenciação para tornar a série estacionária.\n",
    "\n",
    "Temos então o SARIMAX (termo genérico), além dos parâmetros (p,q,d) aceita também o (P,D,Q)m, descrevendo os componentes sazonais. P,D e Q representa a regressão sazonal, diferenciação, e média movel, m representa o número de pontos para cada ciclo.\n",
    "\n",
    "O X representa a variável exógena, como não utilizaremos ela, não entrarei em maiores detalhes.\n",
    "\n",
    "Para a definição dos melhores parâmetros existe a forma manual e a forma automática, onde a função definirá os melhores parâmetros para nós...\n",
    "\n",
    "Função: Auto_arima, devo informar ainda o meu dataset, definir os pontos de start do \"p\" e do \"q\", definir a sazonalidade e o período de sazonalidade, no caso são de 7 dias.\n",
    "\n",
    "O objetivo é achar os melhores parâmetros em base no valor AIC, que deve ser o menor possível, com a menor complexidade\n",
    "\n",
    "Essa ferramenta impede que cometemos erros na hora de analisar os gráficos e realizar transformações nos dados, assim ele nos informa os melhores parâmetros!!"
   ]
  },
  {
   "cell_type": "code",
   "execution_count": 65,
   "metadata": {},
   "outputs": [],
   "source": [
    "train_set = brasil[:90]\n",
    "test_set = brasil[90:]"
   ]
  },
  {
   "cell_type": "code",
   "execution_count": 66,
   "metadata": {},
   "outputs": [
    {
     "name": "stdout",
     "output_type": "stream",
     "text": [
      "Performing stepwise search to minimize aic\n",
      "Fit ARIMA(0,1,0)x(1,1,1,7) [intercept=True]; AIC=1204.234, BIC=1214.491, Time=0.694 seconds\n",
      "Fit ARIMA(0,1,0)x(0,1,0,7) [intercept=True]; AIC=1202.494, BIC=1207.622, Time=0.016 seconds\n",
      "Fit ARIMA(1,1,0)x(1,1,0,7) [intercept=True]; AIC=1181.905, BIC=1192.163, Time=0.469 seconds\n",
      "Fit ARIMA(0,1,1)x(0,1,1,7) [intercept=True]; AIC=1189.856, BIC=1200.113, Time=0.513 seconds\n",
      "Fit ARIMA(0,1,0)x(0,1,0,7) [intercept=False]; AIC=1228.579, BIC=1231.143, Time=0.014 seconds\n",
      "Fit ARIMA(1,1,0)x(0,1,0,7) [intercept=True]; AIC=1185.071, BIC=1192.764, Time=0.039 seconds\n",
      "Fit ARIMA(1,1,0)x(2,1,0,7) [intercept=True]; AIC=1182.186, BIC=1195.008, Time=1.254 seconds\n",
      "Fit ARIMA(1,1,0)x(1,1,1,7) [intercept=True]; AIC=1183.003, BIC=1195.824, Time=0.691 seconds\n",
      "Fit ARIMA(1,1,0)x(0,1,1,7) [intercept=True]; AIC=1181.023, BIC=1191.280, Time=0.449 seconds\n",
      "Fit ARIMA(1,1,0)x(0,1,2,7) [intercept=True]; AIC=1182.987, BIC=1195.808, Time=1.061 seconds\n",
      "Fit ARIMA(1,1,0)x(1,1,2,7) [intercept=True]; AIC=1184.531, BIC=1199.917, Time=1.567 seconds\n",
      "Fit ARIMA(0,1,0)x(0,1,1,7) [intercept=True]; AIC=1203.745, BIC=1211.438, Time=0.211 seconds\n",
      "Fit ARIMA(2,1,0)x(0,1,1,7) [intercept=True]; AIC=1181.640, BIC=1194.462, Time=0.609 seconds\n",
      "Fit ARIMA(1,1,1)x(0,1,1,7) [intercept=True]; AIC=1180.826, BIC=1193.647, Time=0.947 seconds\n",
      "Fit ARIMA(1,1,1)x(0,1,0,7) [intercept=True]; AIC=1186.422, BIC=1196.679, Time=0.244 seconds\n",
      "Fit ARIMA(1,1,1)x(1,1,1,7) [intercept=True]; AIC=1182.464, BIC=1197.850, Time=1.224 seconds\n",
      "Fit ARIMA(1,1,1)x(0,1,2,7) [intercept=True]; AIC=1182.303, BIC=1197.689, Time=1.443 seconds\n",
      "Fit ARIMA(1,1,1)x(1,1,0,7) [intercept=True]; AIC=1180.970, BIC=1193.792, Time=0.815 seconds\n",
      "Fit ARIMA(1,1,1)x(1,1,2,7) [intercept=True]; AIC=1184.813, BIC=1202.764, Time=1.820 seconds\n",
      "Near non-invertible roots for order (1, 1, 1)(1, 1, 2, 7); setting score to inf (at least one inverse root too close to the border of the unit circle: 1.000)\n",
      "Fit ARIMA(2,1,1)x(0,1,1,7) [intercept=True]; AIC=1181.689, BIC=1197.075, Time=1.092 seconds\n",
      "Fit ARIMA(1,1,2)x(0,1,1,7) [intercept=True]; AIC=1178.667, BIC=1194.053, Time=1.310 seconds\n",
      "Fit ARIMA(1,1,2)x(0,1,0,7) [intercept=True]; AIC=1187.122, BIC=1199.944, Time=0.431 seconds\n",
      "Fit ARIMA(1,1,2)x(1,1,1,7) [intercept=True]; AIC=1180.656, BIC=1198.607, Time=1.542 seconds\n",
      "Fit ARIMA(1,1,2)x(0,1,2,7) [intercept=True]; AIC=1180.496, BIC=1198.446, Time=2.603 seconds\n",
      "Fit ARIMA(1,1,2)x(1,1,0,7) [intercept=True]; AIC=1179.654, BIC=1195.040, Time=1.032 seconds\n",
      "Fit ARIMA(1,1,2)x(1,1,2,7) [intercept=True]; AIC=1182.666, BIC=1203.181, Time=2.898 seconds\n",
      "Near non-invertible roots for order (1, 1, 2)(1, 1, 2, 7); setting score to inf (at least one inverse root too close to the border of the unit circle: 1.000)\n",
      "Fit ARIMA(0,1,2)x(0,1,1,7) [intercept=True]; AIC=1183.132, BIC=1195.954, Time=0.714 seconds\n",
      "Fit ARIMA(2,1,2)x(0,1,1,7) [intercept=True]; AIC=1183.578, BIC=1201.528, Time=1.393 seconds\n",
      "Fit ARIMA(1,1,3)x(0,1,1,7) [intercept=True]; AIC=1179.550, BIC=1197.501, Time=1.716 seconds\n",
      "Fit ARIMA(0,1,3)x(0,1,1,7) [intercept=True]; AIC=1184.905, BIC=1200.291, Time=0.858 seconds\n",
      "Fit ARIMA(2,1,3)x(0,1,1,7) [intercept=True]; AIC=1178.067, BIC=1198.582, Time=1.818 seconds\n",
      "Fit ARIMA(2,1,3)x(0,1,0,7) [intercept=True]; AIC=1185.017, BIC=1202.968, Time=0.812 seconds\n",
      "Fit ARIMA(2,1,3)x(1,1,1,7) [intercept=True]; AIC=1180.059, BIC=1203.139, Time=2.057 seconds\n",
      "Fit ARIMA(2,1,3)x(0,1,2,7) [intercept=True]; AIC=1180.068, BIC=1203.147, Time=2.983 seconds\n",
      "Fit ARIMA(2,1,3)x(1,1,0,7) [intercept=True]; AIC=1179.231, BIC=1199.746, Time=1.487 seconds\n",
      "Fit ARIMA(2,1,3)x(1,1,2,7) [intercept=True]; AIC=1182.066, BIC=1207.710, Time=3.451 seconds\n",
      "Near non-invertible roots for order (2, 1, 3)(1, 1, 2, 7); setting score to inf (at least one inverse root too close to the border of the unit circle: 1.000)\n",
      "Fit ARIMA(3,1,3)x(0,1,1,7) [intercept=True]; AIC=1178.408, BIC=1201.487, Time=2.202 seconds\n",
      "Near non-invertible roots for order (3, 1, 3)(0, 1, 1, 7); setting score to inf (at least one inverse root too close to the border of the unit circle: 1.000)\n",
      "Fit ARIMA(2,1,4)x(0,1,1,7) [intercept=True]; AIC=1179.369, BIC=1202.448, Time=2.278 seconds\n",
      "Fit ARIMA(1,1,4)x(0,1,1,7) [intercept=True]; AIC=1178.807, BIC=1199.322, Time=1.970 seconds\n",
      "Fit ARIMA(3,1,2)x(0,1,1,7) [intercept=True]; AIC=1182.614, BIC=1203.129, Time=1.573 seconds\n",
      "Fit ARIMA(3,1,4)x(0,1,1,7) [intercept=True]; AIC=1185.665, BIC=1211.308, Time=2.298 seconds\n",
      "Total fit time: 52.672 seconds\n"
     ]
    }
   ],
   "source": [
    "sarima = auto_arima(brasil['deaths'],start_p=0, start_q=0,seasonal=True,trace=True, m=7)"
   ]
  },
  {
   "cell_type": "code",
   "execution_count": 73,
   "metadata": {},
   "outputs": [
    {
     "data": {
      "text/plain": [
       "ARIMA(maxiter=50, method='lbfgs', order=(2, 1, 3), out_of_sample_size=0,\n",
       "      scoring='mse', scoring_args=None, seasonal_order=(0, 1, 1, 7),\n",
       "      start_params=None, suppress_warnings=False, trend=None,\n",
       "      with_intercept=True)"
      ]
     },
     "execution_count": 73,
     "metadata": {},
     "output_type": "execute_result"
    }
   ],
   "source": [
    "sarima"
   ]
  },
  {
   "cell_type": "code",
   "execution_count": 74,
   "metadata": {},
   "outputs": [
    {
     "data": {
      "text/html": [
       "<table class=\"simpletable\">\n",
       "<caption>SARIMAX Results</caption>\n",
       "<tr>\n",
       "  <th>Dep. Variable:</th>                  <td>y</td>                <th>  No. Observations:  </th>    <td>104</td>  \n",
       "</tr>\n",
       "<tr>\n",
       "  <th>Model:</th>           <td>SARIMAX(2, 1, 3)x(0, 1, [1], 7)</td> <th>  Log Likelihood     </th> <td>-581.034</td>\n",
       "</tr>\n",
       "<tr>\n",
       "  <th>Date:</th>                   <td>Wed, 08 Jul 2020</td>         <th>  AIC                </th> <td>1178.067</td>\n",
       "</tr>\n",
       "<tr>\n",
       "  <th>Time:</th>                       <td>22:44:04</td>             <th>  BIC                </th> <td>1198.582</td>\n",
       "</tr>\n",
       "<tr>\n",
       "  <th>Sample:</th>                         <td>0</td>                <th>  HQIC               </th> <td>1186.360</td>\n",
       "</tr>\n",
       "<tr>\n",
       "  <th></th>                             <td> - 104</td>              <th>                     </th>     <td> </td>   \n",
       "</tr>\n",
       "<tr>\n",
       "  <th>Covariance Type:</th>               <td>opg</td>               <th>                     </th>     <td> </td>   \n",
       "</tr>\n",
       "</table>\n",
       "<table class=\"simpletable\">\n",
       "<tr>\n",
       "      <td></td>         <th>coef</th>     <th>std err</th>      <th>z</th>      <th>P>|z|</th>  <th>[0.025</th>    <th>0.975]</th>  \n",
       "</tr>\n",
       "<tr>\n",
       "  <th>intercept</th> <td>    4.5665</td> <td>   10.884</td> <td>    0.420</td> <td> 0.675</td> <td>  -16.766</td> <td>   25.899</td>\n",
       "</tr>\n",
       "<tr>\n",
       "  <th>ar.L1</th>     <td>    0.1500</td> <td>    0.198</td> <td>    0.759</td> <td> 0.448</td> <td>   -0.238</td> <td>    0.538</td>\n",
       "</tr>\n",
       "<tr>\n",
       "  <th>ar.L2</th>     <td>    0.7731</td> <td>    0.156</td> <td>    4.949</td> <td> 0.000</td> <td>    0.467</td> <td>    1.079</td>\n",
       "</tr>\n",
       "<tr>\n",
       "  <th>ma.L1</th>     <td>    0.3260</td> <td>    0.221</td> <td>    1.475</td> <td> 0.140</td> <td>   -0.107</td> <td>    0.759</td>\n",
       "</tr>\n",
       "<tr>\n",
       "  <th>ma.L2</th>     <td>   -0.5555</td> <td>    0.173</td> <td>   -3.217</td> <td> 0.001</td> <td>   -0.894</td> <td>   -0.217</td>\n",
       "</tr>\n",
       "<tr>\n",
       "  <th>ma.L3</th>     <td>   -0.3246</td> <td>    0.097</td> <td>   -3.331</td> <td> 0.001</td> <td>   -0.516</td> <td>   -0.134</td>\n",
       "</tr>\n",
       "<tr>\n",
       "  <th>ma.S.L7</th>   <td>   -0.3359</td> <td>    0.119</td> <td>   -2.833</td> <td> 0.005</td> <td>   -0.568</td> <td>   -0.103</td>\n",
       "</tr>\n",
       "<tr>\n",
       "  <th>sigma2</th>    <td> 1.049e+04</td> <td> 1512.204</td> <td>    6.937</td> <td> 0.000</td> <td> 7526.376</td> <td> 1.35e+04</td>\n",
       "</tr>\n",
       "</table>\n",
       "<table class=\"simpletable\">\n",
       "<tr>\n",
       "  <th>Ljung-Box (Q):</th>          <td>39.26</td> <th>  Jarque-Bera (JB):  </th> <td>5.57</td>\n",
       "</tr>\n",
       "<tr>\n",
       "  <th>Prob(Q):</th>                <td>0.50</td>  <th>  Prob(JB):          </th> <td>0.06</td>\n",
       "</tr>\n",
       "<tr>\n",
       "  <th>Heteroskedasticity (H):</th> <td>6.21</td>  <th>  Skew:              </th> <td>0.42</td>\n",
       "</tr>\n",
       "<tr>\n",
       "  <th>Prob(H) (two-sided):</th>    <td>0.00</td>  <th>  Kurtosis:          </th> <td>3.84</td>\n",
       "</tr>\n",
       "</table><br/><br/>Warnings:<br/>[1] Covariance matrix calculated using the outer product of gradients (complex-step)."
      ],
      "text/plain": [
       "<class 'statsmodels.iolib.summary.Summary'>\n",
       "\"\"\"\n",
       "                                      SARIMAX Results                                      \n",
       "===========================================================================================\n",
       "Dep. Variable:                                   y   No. Observations:                  104\n",
       "Model:             SARIMAX(2, 1, 3)x(0, 1, [1], 7)   Log Likelihood                -581.034\n",
       "Date:                             Wed, 08 Jul 2020   AIC                           1178.067\n",
       "Time:                                     22:44:04   BIC                           1198.582\n",
       "Sample:                                          0   HQIC                          1186.360\n",
       "                                             - 104                                         \n",
       "Covariance Type:                               opg                                         \n",
       "==============================================================================\n",
       "                 coef    std err          z      P>|z|      [0.025      0.975]\n",
       "------------------------------------------------------------------------------\n",
       "intercept      4.5665     10.884      0.420      0.675     -16.766      25.899\n",
       "ar.L1          0.1500      0.198      0.759      0.448      -0.238       0.538\n",
       "ar.L2          0.7731      0.156      4.949      0.000       0.467       1.079\n",
       "ma.L1          0.3260      0.221      1.475      0.140      -0.107       0.759\n",
       "ma.L2         -0.5555      0.173     -3.217      0.001      -0.894      -0.217\n",
       "ma.L3         -0.3246      0.097     -3.331      0.001      -0.516      -0.134\n",
       "ma.S.L7       -0.3359      0.119     -2.833      0.005      -0.568      -0.103\n",
       "sigma2      1.049e+04   1512.204      6.937      0.000    7526.376    1.35e+04\n",
       "===================================================================================\n",
       "Ljung-Box (Q):                       39.26   Jarque-Bera (JB):                 5.57\n",
       "Prob(Q):                              0.50   Prob(JB):                         0.06\n",
       "Heteroskedasticity (H):               6.21   Skew:                             0.42\n",
       "Prob(H) (two-sided):                  0.00   Kurtosis:                         3.84\n",
       "===================================================================================\n",
       "\n",
       "Warnings:\n",
       "[1] Covariance matrix calculated using the outer product of gradients (complex-step).\n",
       "\"\"\""
      ]
     },
     "execution_count": 74,
     "metadata": {},
     "output_type": "execute_result"
    }
   ],
   "source": [
    "sarima.summary()"
   ]
  },
  {
   "cell_type": "code",
   "execution_count": 75,
   "metadata": {},
   "outputs": [],
   "source": [
    "start = len(train_set)\n",
    "end = len(train_set) + len(test_set) - 1"
   ]
  },
  {
   "cell_type": "code",
   "execution_count": 76,
   "metadata": {},
   "outputs": [],
   "source": [
    "model = SARIMAX(train_set['deaths'], order=(2, 1, 3),seasonal_order=(0, 1, 1, 7)).fit()"
   ]
  },
  {
   "cell_type": "code",
   "execution_count": 77,
   "metadata": {},
   "outputs": [],
   "source": [
    "predictions = model.predict(start,end,typ=\"levels\").rename(\"SARIMAX(2, 1, 3)x(0, 1, 1, 7)\")"
   ]
  },
  {
   "cell_type": "code",
   "execution_count": 78,
   "metadata": {},
   "outputs": [
    {
     "data": {
      "text/plain": [
       "2020-06-15    44056.968045\n",
       "2020-06-16    45337.891789\n",
       "2020-06-17    46619.155816\n",
       "2020-06-18    47927.410451\n",
       "2020-06-19    48893.412260\n",
       "2020-06-20    49820.102115\n",
       "2020-06-21    50424.599803\n",
       "2020-06-22    51157.949686\n",
       "2020-06-23    52449.119570\n",
       "2020-06-24    53747.950835\n",
       "2020-06-25    55067.581341\n",
       "2020-06-26    56049.315385\n",
       "2020-06-27    56987.876339\n",
       "2020-06-28    57606.801725\n",
       "Freq: D, Name: SARIMAX(2, 1, 3)x(0, 1, 1, 7), dtype: float64"
      ]
     },
     "execution_count": 78,
     "metadata": {},
     "output_type": "execute_result"
    }
   ],
   "source": [
    "predictions"
   ]
  },
  {
   "cell_type": "markdown",
   "metadata": {},
   "source": [
    "Nos gráficos abaixo podemos ver que as predições foram muito próximas aos valores de teste!! O que faremos depois é prever por mais uma semana e depois conferir com os dados"
   ]
  },
  {
   "cell_type": "code",
   "execution_count": 79,
   "metadata": {},
   "outputs": [
    {
     "data": {
      "text/plain": [
       "<matplotlib.axes._subplots.AxesSubplot at 0x1bcc06b7208>"
      ]
     },
     "execution_count": 79,
     "metadata": {},
     "output_type": "execute_result"
    },
    {
     "data": {
      "image/png": "[encoded data removed]",
      "text/plain": [
       "<Figure size 432x288 with 1 Axes>"
      ]
     },
     "metadata": {
      "needs_background": "light"
     },
     "output_type": "display_data"
    }
   ],
   "source": [
    "test_set['deaths'].plot(label=\"test set\", legend=True)\n",
    "train_set['deaths'].plot(legend=True, label=\"train set\")\n",
    "predictions.plot(label=\"prediction\", legend=True)"
   ]
  },
  {
   "cell_type": "code",
   "execution_count": 80,
   "metadata": {},
   "outputs": [
    {
     "data": {
      "text/plain": [
       "<matplotlib.axes._subplots.AxesSubplot at 0x1bcc0f1f088>"
      ]
     },
     "execution_count": 80,
     "metadata": {},
     "output_type": "execute_result"
    },
    {
     "data": {
      "image/png": "[encoded data removed]",
      "text/plain": [
       "<Figure size 432x288 with 1 Axes>"
      ]
     },
     "metadata": {
      "needs_background": "light"
     },
     "output_type": "display_data"
    }
   ],
   "source": [
    "test_set['deaths'].plot(label=\"test set\", legend=True)\n",
    "predictions.plot(label=\"prediction\", legend=True)"
   ]
  },
  {
   "cell_type": "code",
   "execution_count": 81,
   "metadata": {},
   "outputs": [
    {
     "data": {
      "text/plain": [
       "122.4937744570288"
      ]
     },
     "execution_count": 81,
     "metadata": {},
     "output_type": "execute_result"
    }
   ],
   "source": [
    "rmse(test_set['deaths'], predictions)"
   ]
  },
  {
   "cell_type": "code",
   "execution_count": 82,
   "metadata": {},
   "outputs": [],
   "source": [
    "start = len(train_set)\n",
    "end = len(train_set) + len(test_set) + 6"
   ]
  },
  {
   "cell_type": "code",
   "execution_count": 83,
   "metadata": {},
   "outputs": [],
   "source": [
    "predictions = model.predict(start,end,typ=\"levels\").rename(\"SARIMAX(2, 1, 3)x(0, 1, 1, 7)\")"
   ]
  },
  {
   "cell_type": "code",
   "execution_count": 84,
   "metadata": {},
   "outputs": [
    {
     "data": {
      "text/plain": [
       "2020-06-15    44056.968045\n",
       "2020-06-16    45337.891789\n",
       "2020-06-17    46619.155816\n",
       "2020-06-18    47927.410451\n",
       "2020-06-19    48893.412260\n",
       "2020-06-20    49820.102115\n",
       "2020-06-21    50424.599803\n",
       "2020-06-22    51157.949686\n",
       "2020-06-23    52449.119570\n",
       "2020-06-24    53747.950835\n",
       "2020-06-25    55067.581341\n",
       "2020-06-26    56049.315385\n",
       "2020-06-27    56987.876339\n",
       "2020-06-28    57606.801725\n",
       "2020-06-29    58352.139145\n",
       "2020-06-30    59656.761888\n",
       "2020-07-01    60967.473615\n",
       "2020-07-02    62299.789460\n",
       "2020-07-03    63293.167572\n",
       "2020-07-04    64243.778964\n",
       "2020-07-05    64874.039755\n",
       "Freq: D, Name: SARIMAX(2, 1, 3)x(0, 1, 1, 7), dtype: float64"
      ]
     },
     "execution_count": 84,
     "metadata": {},
     "output_type": "execute_result"
    }
   ],
   "source": [
    "predictions"
   ]
  },
  {
   "cell_type": "code",
   "execution_count": 85,
   "metadata": {},
   "outputs": [],
   "source": [
    "brasil_covid = pd.read_csv(\"brasil_covid.csv\", index_col=1, parse_dates=True,dayfirst=True, sep=\";\")"
   ]
  },
  {
   "cell_type": "code",
   "execution_count": 86,
   "metadata": {},
   "outputs": [],
   "source": [
    "comparacao = brasil_covid[-21:]"
   ]
  },
  {
   "cell_type": "code",
   "execution_count": 87,
   "metadata": {},
   "outputs": [
    {
     "data": {
      "text/plain": [
       "Text(0.5, 0, 'Data')"
      ]
     },
     "execution_count": 87,
     "metadata": {},
     "output_type": "execute_result"
    },
    {
     "data": {
      "image/png": "[encoded data removed]",
      "text/plain": [
       "<Figure size 576x360 with 1 Axes>"
      ]
     },
     "metadata": {
      "needs_background": "light"
     },
     "output_type": "display_data"
    }
   ],
   "source": [
    "plt.figure(figsize=(8,5))\n",
    "train_set['deaths'].plot(legend=True, label=\"Dataset de Treino\")\n",
    "comparacao[\"obitosAcumulado\"].plot(legend=True, label=\"Dataset de Test\")\n",
    "predictions.plot(legend=True, label=\"Predictions\")\n",
    "plt.title(\"Predictions\")\n",
    "plt.ylabel(\"Mortes\")\n",
    "plt.xlabel(\"Data\")"
   ]
  },
  {
   "cell_type": "markdown",
   "metadata": {},
   "source": [
    "\n",
    "Novamente os valores foram muito próximos aos reais, chegando ao dia 5 com erro de 7 mortes no total acumulado"
   ]
  },
  {
   "cell_type": "code",
   "execution_count": 88,
   "metadata": {},
   "outputs": [
    {
     "data": {
      "text/plain": [
       "Text(0.5, 0, 'Data')"
      ]
     },
     "execution_count": 88,
     "metadata": {},
     "output_type": "execute_result"
    },
    {
     "data": {
      "image/png": "[encoded data removed]",
      "text/plain": [
       "<Figure size 576x360 with 1 Axes>"
      ]
     },
     "metadata": {
      "needs_background": "light"
     },
     "output_type": "display_data"
    }
   ],
   "source": [
    "plt.figure(figsize=(8,5))\n",
    "comparacao[\"obitosAcumulado\"].plot(legend=True, label=\"Dataset de Test\")\n",
    "predictions.plot(legend=True, label=\"Predictions\")\n",
    "plt.title(\"Predictions\")\n",
    "plt.ylabel(\"Mortes\")\n",
    "plt.xlabel(\"Data\")"
   ]
  },
  {
   "cell_type": "code",
   "execution_count": 89,
   "metadata": {},
   "outputs": [],
   "source": [
    "dataframe = pd.DataFrame({\"predictions\": predictions.values,\n",
    "                          \"mortes\":comparacao['obitosAcumulado']})"
   ]
  },
  {
   "cell_type": "code",
   "execution_count": 90,
   "metadata": {},
   "outputs": [],
   "source": [
    "dataframe['diferença'] = dataframe['predictions'] - dataframe['mortes']"
   ]
  },
  {
   "cell_type": "code",
   "execution_count": 91,
   "metadata": {},
   "outputs": [],
   "source": [
    "dataframe['diferença'] = dataframe['diferença'].astype(int)"
   ]
  },
  {
   "cell_type": "code",
   "execution_count": 92,
   "metadata": {},
   "outputs": [
    {
     "data": {
      "text/html": [
       "<div>\n",
       "<style scoped>\n",
       "    .dataframe tbody tr th:only-of-type {\n",
       "        vertical-align: middle;\n",
       "    }\n",
       "\n",
       "    .dataframe tbody tr th {\n",
       "        vertical-align: top;\n",
       "    }\n",
       "\n",
       "    .dataframe thead th {\n",
       "        text-align: right;\n",
       "    }\n",
       "</style>\n",
       "<table border=\"1\" class=\"dataframe\">\n",
       "  <thead>\n",
       "    <tr style=\"text-align: right;\">\n",
       "      <th></th>\n",
       "      <th>predictions</th>\n",
       "      <th>mortes</th>\n",
       "      <th>diferença</th>\n",
       "    </tr>\n",
       "    <tr>\n",
       "      <th>data</th>\n",
       "      <th></th>\n",
       "      <th></th>\n",
       "      <th></th>\n",
       "    </tr>\n",
       "  </thead>\n",
       "  <tbody>\n",
       "    <tr>\n",
       "      <th>2020-06-15</th>\n",
       "      <td>44056.968045</td>\n",
       "      <td>43959</td>\n",
       "      <td>97</td>\n",
       "    </tr>\n",
       "    <tr>\n",
       "      <th>2020-06-16</th>\n",
       "      <td>45337.891789</td>\n",
       "      <td>45241</td>\n",
       "      <td>96</td>\n",
       "    </tr>\n",
       "    <tr>\n",
       "      <th>2020-06-17</th>\n",
       "      <td>46619.155816</td>\n",
       "      <td>46510</td>\n",
       "      <td>109</td>\n",
       "    </tr>\n",
       "    <tr>\n",
       "      <th>2020-06-18</th>\n",
       "      <td>47927.410451</td>\n",
       "      <td>47748</td>\n",
       "      <td>179</td>\n",
       "    </tr>\n",
       "    <tr>\n",
       "      <th>2020-06-19</th>\n",
       "      <td>48893.412260</td>\n",
       "      <td>48954</td>\n",
       "      <td>-60</td>\n",
       "    </tr>\n",
       "    <tr>\n",
       "      <th>2020-06-20</th>\n",
       "      <td>49820.102115</td>\n",
       "      <td>49976</td>\n",
       "      <td>-155</td>\n",
       "    </tr>\n",
       "    <tr>\n",
       "      <th>2020-06-21</th>\n",
       "      <td>50424.599803</td>\n",
       "      <td>50617</td>\n",
       "      <td>-192</td>\n",
       "    </tr>\n",
       "    <tr>\n",
       "      <th>2020-06-22</th>\n",
       "      <td>51157.949686</td>\n",
       "      <td>51271</td>\n",
       "      <td>-113</td>\n",
       "    </tr>\n",
       "    <tr>\n",
       "      <th>2020-06-23</th>\n",
       "      <td>52449.119570</td>\n",
       "      <td>52645</td>\n",
       "      <td>-195</td>\n",
       "    </tr>\n",
       "    <tr>\n",
       "      <th>2020-06-24</th>\n",
       "      <td>53747.950835</td>\n",
       "      <td>53830</td>\n",
       "      <td>-82</td>\n",
       "    </tr>\n",
       "    <tr>\n",
       "      <th>2020-06-25</th>\n",
       "      <td>55067.581341</td>\n",
       "      <td>54971</td>\n",
       "      <td>96</td>\n",
       "    </tr>\n",
       "    <tr>\n",
       "      <th>2020-06-26</th>\n",
       "      <td>56049.315385</td>\n",
       "      <td>55961</td>\n",
       "      <td>88</td>\n",
       "    </tr>\n",
       "    <tr>\n",
       "      <th>2020-06-27</th>\n",
       "      <td>56987.876339</td>\n",
       "      <td>57070</td>\n",
       "      <td>-82</td>\n",
       "    </tr>\n",
       "    <tr>\n",
       "      <th>2020-06-28</th>\n",
       "      <td>57606.801725</td>\n",
       "      <td>57622</td>\n",
       "      <td>-15</td>\n",
       "    </tr>\n",
       "    <tr>\n",
       "      <th>2020-06-29</th>\n",
       "      <td>58352.139145</td>\n",
       "      <td>58314</td>\n",
       "      <td>38</td>\n",
       "    </tr>\n",
       "    <tr>\n",
       "      <th>2020-06-30</th>\n",
       "      <td>59656.761888</td>\n",
       "      <td>59594</td>\n",
       "      <td>62</td>\n",
       "    </tr>\n",
       "    <tr>\n",
       "      <th>2020-07-01</th>\n",
       "      <td>60967.473615</td>\n",
       "      <td>60632</td>\n",
       "      <td>335</td>\n",
       "    </tr>\n",
       "    <tr>\n",
       "      <th>2020-07-02</th>\n",
       "      <td>62299.789460</td>\n",
       "      <td>61884</td>\n",
       "      <td>415</td>\n",
       "    </tr>\n",
       "    <tr>\n",
       "      <th>2020-07-03</th>\n",
       "      <td>63293.167572</td>\n",
       "      <td>63174</td>\n",
       "      <td>119</td>\n",
       "    </tr>\n",
       "    <tr>\n",
       "      <th>2020-07-04</th>\n",
       "      <td>64243.778964</td>\n",
       "      <td>64265</td>\n",
       "      <td>-21</td>\n",
       "    </tr>\n",
       "    <tr>\n",
       "      <th>2020-07-05</th>\n",
       "      <td>64874.039755</td>\n",
       "      <td>64867</td>\n",
       "      <td>7</td>\n",
       "    </tr>\n",
       "  </tbody>\n",
       "</table>\n",
       "</div>"
      ],
      "text/plain": [
       "             predictions  mortes  diferença\n",
       "data                                       \n",
       "2020-06-15  44056.968045   43959         97\n",
       "2020-06-16  45337.891789   45241         96\n",
       "2020-06-17  46619.155816   46510        109\n",
       "2020-06-18  47927.410451   47748        179\n",
       "2020-06-19  48893.412260   48954        -60\n",
       "2020-06-20  49820.102115   49976       -155\n",
       "2020-06-21  50424.599803   50617       -192\n",
       "2020-06-22  51157.949686   51271       -113\n",
       "2020-06-23  52449.119570   52645       -195\n",
       "2020-06-24  53747.950835   53830        -82\n",
       "2020-06-25  55067.581341   54971         96\n",
       "2020-06-26  56049.315385   55961         88\n",
       "2020-06-27  56987.876339   57070        -82\n",
       "2020-06-28  57606.801725   57622        -15\n",
       "2020-06-29  58352.139145   58314         38\n",
       "2020-06-30  59656.761888   59594         62\n",
       "2020-07-01  60967.473615   60632        335\n",
       "2020-07-02  62299.789460   61884        415\n",
       "2020-07-03  63293.167572   63174        119\n",
       "2020-07-04  64243.778964   64265        -21\n",
       "2020-07-05  64874.039755   64867          7"
      ]
     },
     "execution_count": 92,
     "metadata": {},
     "output_type": "execute_result"
    }
   ],
   "source": [
    "dataframe"
   ]
  },
  {
   "cell_type": "markdown",
   "metadata": {},
   "source": [
    "CONCLUSÃO:\n",
    "\n",
    "Podemos ver de uma forma simplificada, como a utilização do machine learning e técnicas de Inteligência Artificial, podem contribuir para a soluções de alguns problemas e pode também automatizar tarefas que poderiam levar muito tempo. Podemos concluir que com a utilização de modelos preditivos, é possível prever com uma certa precisão os números de mortes para que as governantes possam tomar atitudes acertivas.\n",
    "\n",
    "Algumas considerações:\n",
    "\n",
    "As previsões foram feitas apenas com relação as datas, mas outros fatores podem inteferir nos números.\n",
    "\n",
    "Qualquer tipo de erro que eu cometi, podem entrar em contado, sempre gosto de críticas e sugestões\n",
    "\n",
    "Para a exploração dos textos foi utilizado apenas 500 textos de forma 'aleatória' pois caso utilizasse os 20 mil, tomaria muito tempo de processamento.\n",
    "\n",
    "Algumas das funções utilizadas tomei como base de outros trabalhos, sendo assim, citei quando necessário."
   ]
  }
 ],
 "metadata": {
  "kernelspec": {
   "display_name": "Python 3",
   "language": "python",
   "name": "python3"
  },
  "language_info": {
   "codemirror_mode": {
    "name": "ipython",
    "version": 3
   },
   "file_extension": ".py",
   "mimetype": "text/x-python",
   "name": "python",
   "nbconvert_exporter": "python",
   "pygments_lexer": "ipython3",
   "version": "3.7.6"
  }
 },
 "nbformat": 4,
 "nbformat_minor": 4
}
