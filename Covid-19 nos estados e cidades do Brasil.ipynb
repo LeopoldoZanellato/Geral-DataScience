{
 "cells": [
  {
   "cell_type": "code",
   "execution_count": null,
   "metadata": {
    "_cell_guid": "79c7e3d0-c299-4dcb-8224-4455121ee9b0",
    "_kg_hide-input": true,
    "_uuid": "d629ff2d2480ee46fbb7e2d37f6b5fab8052498a"
   },
   "outputs": [],
   "source": [
    "import numpy as np \n",
    "import pandas as pd \n",
    "import os, datetime\n",
    "import geopandas as gpd\n",
    "import pandas as pd\n",
    "import numpy as np\n",
    "import matplotlib.pyplot as plt\n",
    "import seaborn as sns\n",
    "import plotly.graph_objects as go\n",
    "%matplotlib inline"
   ]
  },
  {
   "cell_type": "markdown",
   "metadata": {},
   "source": [
    "**Introdução**\n",
    "\n",
    "Este é um notebook que criei diretamente no site do kaggle. \n",
    "Para acessar segue o link:\n",
    "\n",
    "https://www.kaggle.com/leopoldozanellato/covid-19-nos-estados-e-cidades-do-brasil\n",
    "\n",
    "**O que é COVID-19**\n",
    "A COVID-19 é uma doença causada pelo coronavírus SARS-CoV-2, que apresenta um quadro clínico que varia de infecções assintomáticas a quadros respiratórios graves. De acordo com a Organização Mundial de Saúde (OMS), a maioria dos pacientes com COVID-19 (cerca de 80%) podem ser assintomáticos e cerca de 20% dos casos podem requerer atendimento hospitalar por apresentarem dificuldade respiratória e desses casos aproximadamente 5% podem necessitar de suporte para o tratamento de insuficiência respiratória (suporte ventilatório).\n",
    "\n",
    "\n",
    "**O que é o coronavírus?**\n",
    "\n",
    "Coronavírus é uma família de vírus que causam infecções respiratórias. O novo agente do coronavírus foi descoberto em 31/12/19 após casos registrados na China. Provoca a doença chamada de coronavírus (COVID-19).\n",
    "Os primeiros coronavírus humanos foram isolados pela primeira vez em 1937. No entanto, foi em 1965 que o vírus foi descrito como coronavírus, em decorrência do perfil na microscopia, parecendo uma coroa.\n",
    "A maioria das pessoas se infecta com os coronavírus comuns ao longo da vida, sendo as crianças pequenas mais propensas a se infectarem com o tipo mais comum do vírus. Os coronavírus mais comuns que infectam humanos são o alpha coronavírus 229E e NL63 e beta coronavírus OC43, HKU1.\n",
    "\n",
    "**Observações**\n",
    "\n",
    "Lembro a todos que sou apenas um estudante, este é apenas um dos meus primeiros trabalhos, sendo assim, fico totalmente aberto para correções, sugestões ou qualquer outro comentário. \n",
    "Além do estudo dos estados e das cidades com mais mortes, será realizado também a análise de algumas das cidades da região em que eu moro Rio Claro/Piracicaba\n",
    "\n",
    "Mapas: https://www.kaggle.com/moiseslima/majson\n",
    "\n",
    "Dados: https://coronavirus.saude.gov.br/\n",
    "\n",
    "Dados: https://www.ibge.gov.br/\n",
    "\n",
    "Datasets: https://www.kaggle.com/unanimad/corona-virus-brazil"
   ]
  },
  {
   "cell_type": "code",
   "execution_count": null,
   "metadata": {
    "_kg_hide-input": true
   },
   "outputs": [],
   "source": [
    "covid = pd.read_csv('../input/corona-virus-brazil/brazil_covid19.csv') \n",
    "population =pd.read_csv('../input/pip-e-populacao-estados/estimativa.csv',sep=';') \n",
    "pib_estados = pd.read_csv('../input/pip-e-populacao-estados/pib_2017.csv',sep=';')\n",
    "brasil = pd.read_csv('../input/corona-virus-brazil/brazil_covid19_macro.csv') "
   ]
  },
  {
   "cell_type": "code",
   "execution_count": null,
   "metadata": {
    "_kg_hide-input": true
   },
   "outputs": [],
   "source": [
    "today = datetime.date.today()\n",
    "print(\"Todos os dados estão atualizados até:\", today)"
   ]
  },
  {
   "cell_type": "markdown",
   "metadata": {},
   "source": [
    "**PROCESSAMENTO DOS DADOS:** \n"
   ]
  },
  {
   "cell_type": "code",
   "execution_count": null,
   "metadata": {
    "_kg_hide-input": true
   },
   "outputs": [],
   "source": [
    "population.rename(columns={'estado':'state'}, inplace=True)\n",
    "pib_estados.rename(columns={'estado':'state'}, inplace=True)"
   ]
  },
  {
   "cell_type": "code",
   "execution_count": null,
   "metadata": {
    "_kg_hide-input": true
   },
   "outputs": [],
   "source": [
    "population['Populacao'] = population['Populacao'].apply(lambda x: int(x))\n",
    "pib_estados['PIB'] = pib_estados['PIB'].apply(lambda x: x.replace('.',\"\"))\n",
    "pib_estados['PIB per Capita'] = pib_estados['PIB per Capita'].apply(lambda x: x.replace('.',\"\"))\n",
    "pib_estados['PIB per Capita'] = pib_estados['PIB per Capita'].apply(lambda x: x.replace(',','.'))\n",
    "pib_estados['PIB'] = pib_estados['PIB'].apply(lambda x: int(x))\n",
    "pib_estados['PIB per Capita'] = pib_estados['PIB per Capita'].apply(lambda x: float(x))"
   ]
  },
  {
   "cell_type": "code",
   "execution_count": null,
   "metadata": {
    "_kg_hide-input": true
   },
   "outputs": [],
   "source": [
    "covid = pd.merge(covid,population,how='inner',on='state')\n",
    "covid = pd.merge(covid,pib_estados,how='inner', on='state')"
   ]
  },
  {
   "cell_type": "code",
   "execution_count": null,
   "metadata": {
    "_kg_hide-input": true
   },
   "outputs": [],
   "source": [
    "brasil['letalidade'] = brasil['deaths']/brasil['cases'] * 100\n",
    "brasil['date'] = pd.to_datetime(brasil['date'])\n",
    "brasil['date'] = brasil['date'].dt.date"
   ]
  },
  {
   "cell_type": "code",
   "execution_count": null,
   "metadata": {
    "_kg_hide-input": true
   },
   "outputs": [],
   "source": [
    "covid['morte por milhão'] = covid['deaths'] / covid['Populacao'] * 1000000\n",
    "covid['date'] = pd.to_datetime(covid['date'])\n",
    "covid['date'] = covid['date'].dt.date\n",
    "covid['letalidade'] = covid['deaths'] / covid['cases'] * 100"
   ]
  },
  {
   "cell_type": "code",
   "execution_count": null,
   "metadata": {
    "_kg_hide-input": true
   },
   "outputs": [],
   "source": [
    "casos_estados = covid[covid['date']==max(covid['date'])].sort_values('deaths', ascending=False)\n",
    "casos_estados10 = casos_estados.head(10)"
   ]
  },
  {
   "cell_type": "markdown",
   "metadata": {},
   "source": [
    "**PIB:** O PIB é a soma de todos os bens e serviços finais produzidos por um país, estado ou cidade, geralmente em um ano.\n",
    "\n",
    "**PIB per capita:** quanto do PIB caberia a cada indivíduo de um país se todos recebessem partes iguais, entre outros estudos.\n",
    "\n",
    "**O PIB é**, contudo, apenas um indicador síntese de uma economia. Ele ajuda a compreender um país, mas não expressa importantes fatores, como distribuição de renda, qualidade de vida, educação e saúde. Um país tanto pode ter um PIB pequeno e ostentar um altíssimo padrão de vida, como registrar um PIB alto e apresentar um padrão de vida relativamente baixo.\n",
    "\n",
    "**Morte por milhão**: Número de mortes / População * 1 milhão\n",
    "\n",
    "**Morte por 100 mil habitantes**: Número de mortes / População * 100 mil\n",
    "\n",
    "**Taxa de letalidade**: Número de mortes / Número de casos * 100\n",
    "\n",
    "**Estados ordenados por nº de mortes:**\n"
   ]
  },
  {
   "cell_type": "code",
   "execution_count": null,
   "metadata": {},
   "outputs": [],
   "source": [
    "casos_estados"
   ]
  },
  {
   "cell_type": "code",
   "execution_count": null,
   "metadata": {},
   "outputs": [],
   "source": [
    "plt.figure(figsize=(15,15))\n",
    "plt.title('Estados com mais mortes')\n",
    "sns.barplot(y=casos_estados['state'],x=casos_estados['deaths'])\n",
    "plt.ylabel('Estados')\n",
    "plt.xlabel('Nº de Mortes')"
   ]
  },
  {
   "cell_type": "code",
   "execution_count": null,
   "metadata": {
    "_kg_hide-input": true
   },
   "outputs": [],
   "source": [
    "# Função para fazer o label na coluna\n",
    "def autolabel(rects):\n",
    "    \"\"\"Attach a text label above each bar in *rects*, displaying its height.\"\"\"\n",
    "    for rect in rects:\n",
    "        height = int(rect.get_height())\n",
    "        ax.annotate('{}'.format(height),\n",
    "                    xy=(rect.get_x() + rect.get_width() / 2.5, height),\n",
    "                    xytext=(0, 3),  # 3 points vertical offset\n",
    "                    textcoords=\"offset points\",\n",
    "                    ha='center', va='bottom')"
   ]
  },
  {
   "cell_type": "code",
   "execution_count": null,
   "metadata": {
    "_kg_hide-input": true
   },
   "outputs": [],
   "source": [
    "labels = casos_estados10['state']\n",
    "casos=casos_estados10['cases']\n",
    "mortes=casos_estados10['deaths']\n",
    "x = np.arange(len(labels))\n",
    "width = 0.35\n",
    "\n",
    "fig, ax = plt.subplots(figsize=(15,8))\n",
    "rects1 = ax.bar(x - width/2, casos, width, label='Casos')\n",
    "rects2 = ax.bar(x + width/2, mortes, width, label='Mortes')\n",
    "\n",
    "ax.set_ylabel('Confirmados')\n",
    "ax.set_title('Estados com mais mortes')\n",
    "ax.set_xticks(x)\n",
    "ax.set_xticklabels(labels)\n",
    "ax.legend(['Casos    ', 'Mortes     '])\n",
    "\n",
    "ax1 = ax.twinx()\n",
    "ax1.plot('state','letalidade',data=casos_estados10,marker='8', color='red')\n",
    "ax1.legend(loc='upper right', bbox_to_anchor=(1, 0.92))\n",
    "ax1.set_ylabel('Letalidade')\n",
    "\n",
    "autolabel(rects1)\n",
    "autolabel(rects2)"
   ]
  },
  {
   "cell_type": "markdown",
   "metadata": {},
   "source": [
    "* Estados com mais mortes se encontram nas regiões Sudeste e Nordeste\n",
    "* Rio de Janeiro possui a maior taxa de letalidade entre os estados\n",
    "* Rio de Janeiro possui aproximadamente 50% a menos dos casos de São Paulo, porém 30% a menos de mortes, o que causa uma alta taxa de letalidade\n",
    "\n",
    "Possíveis motivos da alta letalidade no Rio de Janeiro:\n",
    "1.  Subnotificação\n",
    "2.  Falta de leitos de UTI \n",
    "3.  Precariedade do sistema médico\n"
   ]
  },
  {
   "cell_type": "code",
   "execution_count": null,
   "metadata": {
    "_kg_hide-input": true
   },
   "outputs": [],
   "source": [
    "# Definição de variáveis, para facilitar criei uma variável para cada estado que utilizarei depois\n",
    "SP = covid[covid['state']=='São Paulo']\n",
    "RJ = covid[covid['state']=='Rio de Janeiro']\n",
    "CE = covid[covid['state']=='Ceará']\n",
    "PA = covid[covid['state']=='Pará']\n",
    "MG = covid[covid['state']=='Minas Gerais']\n",
    "PE = covid[covid['state']=='Pernambuco']\n",
    "MS = covid[covid['state']=='Mato Grosso do Sul']\n",
    "AM = covid[covid['state']=='Amazonas']"
   ]
  },
  {
   "cell_type": "code",
   "execution_count": null,
   "metadata": {
    "_kg_hide-input": true
   },
   "outputs": [],
   "source": [
    "lista = [n for n in range(len((PA['state'])))]"
   ]
  },
  {
   "cell_type": "code",
   "execution_count": null,
   "metadata": {
    "_kg_hide-input": true
   },
   "outputs": [],
   "source": [
    "fig, ax = plt.subplots(figsize=(12,7))\n",
    "plt.title('Evolução dos casos nos estados com mais mortes')\n",
    "sns.lineplot(x=SP['date'],y=SP['cases'],label='São Paulo')\n",
    "sns.lineplot(x=RJ['date'],y=RJ['cases'], label='Rio de Janeiro')\n",
    "sns.lineplot(x=CE['date'],y=CE['cases'], label='Ceará')\n",
    "sns.lineplot(x=PA['date'],y=PA['cases'], label='Pará')\n",
    "# sns.lineplot(x=lista,y=brasil['cases'][:len(lista)], label='Brasil')\n",
    "plt.xlabel('Data')\n",
    "\n",
    "ax.set_ylim(ymin=10**0)\n",
    "ax.set_yscale('log')\n"
   ]
  },
  {
   "cell_type": "markdown",
   "metadata": {},
   "source": [
    "Dos 4 estados com mais mortes, o que apresentou a primeira morte por último, foi o estado do Pará, de lá para cá, passaram-se 70 dias.\n",
    "\n",
    "A próxima análise será feita dos primeiros 70 dias em cada um desses estados\n",
    "\n",
    "As datas foram normalizadas a partir do dia 1º dia da 1ª morte de cada estado."
   ]
  },
  {
   "cell_type": "code",
   "execution_count": null,
   "metadata": {},
   "outputs": [],
   "source": [
    "fig, ax = plt.subplots(figsize=(12,7))\n",
    "plt.title('Evolução dos casos nos estados com mais mortes')\n",
    "sns.lineplot(x=lista,y=SP['cases'][:len(lista)],label='São Paulo')\n",
    "sns.lineplot(x=lista,y=RJ['cases'][:len(lista)], label='Rio de Janeiro')\n",
    "sns.lineplot(x=lista,y=CE['cases'][:len(lista)], label='Ceará')\n",
    "sns.lineplot(x=lista,y=PA['cases'][:len(lista)], label='Pará')\n",
    "# sns.lineplot(x=lista,y=brasil['cases'][:len(lista)], label='Brasil')\n",
    "\n",
    "plt.xlabel('Dias')\n",
    "plt.ylabel('Casos')\n",
    "ax.set_xlim(xmin=0)\n",
    "ax.set_ylim(ymin=10**0)\n",
    "ax.set_yscale('log')\n"
   ]
  },
  {
   "cell_type": "code",
   "execution_count": null,
   "metadata": {
    "_kg_hide-input": true
   },
   "outputs": [],
   "source": [
    "fig,ax = plt.subplots(figsize=(12,7))\n",
    "plt.title('Letalidade nos estados com mais mortes')\n",
    "sns.lineplot(x=SP['date'],y=SP['letalidade'],label='São Paulo')\n",
    "sns.lineplot(x=RJ['date'],y=RJ['letalidade'],label='Rio de Janeiro')\n",
    "sns.lineplot(x=CE['date'],y=CE['letalidade'],label='Ceará')\n",
    "sns.lineplot(x=PA['date'],y=PA['letalidade'],label='Pará')\n",
    "sns.lineplot(x=brasil['date'], y=brasil['letalidade'], label='Brasil')\n",
    "# sns.lineplot(x=brasil['date'],y=brasil['letalidade'], label='Brasil')\n",
    "ax.set_xlim(xmin=brasil[brasil['deaths']==1]['date'])\n",
    "ax.set_ylabel('Letalidade')\n",
    "ax.set_xlabel('Data')"
   ]
  },
  {
   "cell_type": "markdown",
   "metadata": {},
   "source": [
    "Todos os 4 estados apresentam uma taxa de letalidade maior do que a média do Brasil\n",
    "\n",
    "No gráfico abaixo será analisado morte por milhão de habitantes.\n",
    "\n",
    "São Paulo apesar de ter grande número de mortes, apresenta dentre os 4 estados, a menor taxa de morte por milhão.\n",
    "\n",
    "A partir do gráfico abaixo, podemos ver que a curva de São Paulo é menos acentuada do que os outros 3 estados.\n",
    "\n",
    "Podemos ver também possivelmente o 'achatamento' da curva no gráfico de letalidade\n",
    "\n",
    "Possivelmente pela quarentena ter sido implementada logo no início da pandemia.\n"
   ]
  },
  {
   "cell_type": "code",
   "execution_count": null,
   "metadata": {
    "_kg_hide-input": true
   },
   "outputs": [],
   "source": [
    "fig,ax = plt.subplots(figsize=(12,7))\n",
    "plt.title('Morte por milhão nos estados com mais mortes')\n",
    "sns.lineplot(x=SP['date'],y=SP['morte por milhão'],label='São Paulo')\n",
    "sns.lineplot(x=RJ['date'],y=RJ['morte por milhão'],label='Rio de Janeiro')\n",
    "sns.lineplot(x=CE['date'],y=CE['morte por milhão'],label='Ceará')\n",
    "sns.lineplot(x=PA['date'],y=PA['morte por milhão'],label='Pará')\n",
    "\n",
    "ax.set_xlim(xmin=brasil[brasil['deaths']==1]['date'])"
   ]
  },
  {
   "cell_type": "code",
   "execution_count": null,
   "metadata": {},
   "outputs": [],
   "source": [
    "# quais estados tem maior taxa de morte por milhão?\n",
    "full_data = casos_estados.sort_values(by='morte por milhão',ascending = False)\n",
    "full_data[:10]"
   ]
  },
  {
   "cell_type": "markdown",
   "metadata": {},
   "source": [
    "Quando analisamos a partir de morte por milhão de habitantes, São Paulo já não se apresenta entre os 5 primeiros e a concentração fica maior entre o Norte e Nordeste\n",
    "\n",
    "Seria interessante então compararmos os 5 primeiros estados por morte por milhão de habitantes\n",
    "\n",
    "Com o gráfico abaixo podemos verificar a diferença entre os estados de São Paulo e o Amazonas, por exemplo."
   ]
  },
  {
   "cell_type": "code",
   "execution_count": null,
   "metadata": {
    "_kg_hide-input": true,
    "_kg_hide-output": false
   },
   "outputs": [],
   "source": [
    "fig,ax = plt.subplots(figsize=(12,7))\n",
    "plt.title('Morte por milhão de habitantes')\n",
    "sns.lineplot(x=SP['date'],y=SP['morte por milhão'],label='São Paulo')\n",
    "sns.lineplot(x=RJ['date'],y=RJ['morte por milhão'],label='Rio de Janeiro')\n",
    "sns.lineplot(x=CE['date'],y=CE['morte por milhão'],label='Ceará')\n",
    "sns.lineplot(x=PA['date'],y=PA['morte por milhão'],label='Pará')\n",
    "sns.lineplot(x=PE['date'],y=PE['morte por milhão'],label='Pernambuco')\n",
    "sns.lineplot(x=AM['date'],y=AM['morte por milhão'],label='Amazonas')\n",
    "\n",
    "ax.set_xlabel('Data')\n",
    "\n",
    "\n",
    "ax.set_xlim(xmin=brasil[brasil['deaths']==1]['date'])"
   ]
  },
  {
   "cell_type": "code",
   "execution_count": null,
   "metadata": {},
   "outputs": [],
   "source": [
    "sns.pairplot(full_data, corner=True)"
   ]
  },
  {
   "cell_type": "markdown",
   "metadata": {},
   "source": [
    "Com os dois gráficos de correlação podemos verificar a correlação entre as variáveis\n",
    "\n",
    "Por exemplo, podemos verificar relação forte entre:\n",
    "* nº de casos e mortes\n",
    "* população e pib\n",
    "\n",
    "Interessante que apesar da correlação baixa, existe uma correlação negativa entre:\n",
    "\n",
    "* PIB per capita e morte por milhão (quanto maior o PIB per capita, menor a morte por milhão)\n",
    "* PIB per capita e letalidade (quanto maior o PIB per capita, menor a letalidade)"
   ]
  },
  {
   "cell_type": "code",
   "execution_count": null,
   "metadata": {},
   "outputs": [],
   "source": [
    "correlation = full_data.corr()\n",
    "plt.figure(figsize=(8,8))\n",
    "sns.heatmap(correlation, annot=True)\n"
   ]
  },
  {
   "cell_type": "code",
   "execution_count": null,
   "metadata": {},
   "outputs": [],
   "source": [
    "correlation['PIB per Capita'].sort_values(ascending=False)"
   ]
  },
  {
   "cell_type": "code",
   "execution_count": null,
   "metadata": {
    "_kg_hide-input": true
   },
   "outputs": [],
   "source": [
    "# tratamento de dados\n",
    "brasilgpd = gpd.read_file(\"../input/majson/data/Brasil.json\")\n",
    "brasilgpd.rename(columns={'ESTADO':'state'}, inplace=True)\n",
    "brasil_total = pd.merge(brasilgpd,full_data,how='inner',on='state')\n",
    "brasil_total.drop('date', axis=1, inplace=True)"
   ]
  },
  {
   "cell_type": "code",
   "execution_count": null,
   "metadata": {},
   "outputs": [],
   "source": [
    "fig , ax = plt.subplots(figsize=(11,11))\n",
    "plt.title('Morte por Milhão de Habitantes')\n",
    "brasil_total.plot(column = 'morte por milhão',ax = ax, legend=True,\n",
    "             legend_kwds={'label':'Morte por milhão', 'orientation':'horizontal'},\n",
    "             cmap='OrRd')\n"
   ]
  },
  {
   "cell_type": "code",
   "execution_count": null,
   "metadata": {
    "_kg_hide-input": true
   },
   "outputs": [],
   "source": [
    "fig , ax = plt.subplots(figsize=(11,11))\n",
    "plt.title('PIB per Capita')\n",
    "brasil_total.plot(column = 'PIB per Capita',ax = ax, legend=True,\n",
    "             legend_kwds={'label':'PIB per Capita (R$)', 'orientation':'horizontal'},\n",
    "             cmap='OrRd', )\n",
    "ax.set_xticklabels= ({'teste'})\n"
   ]
  },
  {
   "cell_type": "code",
   "execution_count": null,
   "metadata": {
    "_kg_hide-input": true
   },
   "outputs": [],
   "source": [
    "fig , ax = plt.subplots(figsize=(11,11))\n",
    "plt.title('Casos')\n",
    "brasil_total.plot(column = 'cases',ax = ax, legend=True,\n",
    "             legend_kwds={'label':'Casos', 'orientation':'horizontal'},\n",
    "             cmap='OrRd', )\n"
   ]
  },
  {
   "cell_type": "code",
   "execution_count": null,
   "metadata": {
    "_kg_hide-input": true
   },
   "outputs": [],
   "source": [
    "fig , ax = plt.subplots(figsize=(11,11))\n",
    "plt.title('Letalidade')\n",
    "brasil_total.plot(column = 'letalidade',ax = ax, legend=True,\n",
    "             legend_kwds={'label':'letalidade', 'orientation':'horizontal'},\n",
    "             cmap='OrRd', )\n"
   ]
  },
  {
   "cell_type": "markdown",
   "metadata": {},
   "source": [
    "Ao analisarmos os gráficos mapas de morte por milhão e PIB per capita podemos verificar uma 'divisão' do País, estados com menor PIB per capita são os estados com maiores taxas de morte por milhão"
   ]
  },
  {
   "cell_type": "code",
   "execution_count": null,
   "metadata": {
    "_kg_hide-input": true,
    "_kg_hide-output": true
   },
   "outputs": [],
   "source": [
    "\n",
    "# tratamento de dados, início sobre as cidades\n",
    "cities = pd.read_csv(\"../input/corona-virus-brazil/brazil_covid19_cities.csv\")\n",
    "population_cities = pd.read_csv(\"../input/corona-virus-brazil/brazil_population_2019.csv\",error_bad_lines=False)\n",
    "\n",
    "cities['date'] = pd.to_datetime(cities['date'])\n",
    "cities['date'] = cities['date'].dt.date\n",
    "population_cities.rename(columns={'city':'name'}, inplace=True)\n",
    "population_cities.drop('state', axis=1, inplace=True)\n",
    "cities.rename(columns={'code':'city_code'}, inplace=True)\n",
    "cities.drop('name', axis=1, inplace=True)"
   ]
  },
  {
   "cell_type": "code",
   "execution_count": null,
   "metadata": {
    "_kg_hide-input": true
   },
   "outputs": [],
   "source": [
    "cities = pd.merge(cities,population_cities, how='inner', on='city_code')\n",
    "cities.set_index('city_code',inplace=True)\n",
    "cities['Morte 100 mil'] = (cities['deaths']) / (cities['population']) * 100000\n",
    "cities['letalidade'] = (cities['deaths']) / (cities['cases']) * 100"
   ]
  },
  {
   "cell_type": "code",
   "execution_count": null,
   "metadata": {
    "_kg_hide-input": true
   },
   "outputs": [],
   "source": [
    "city = cities[cities['date']==max(cities['date'])]\n",
    "city = city[city['state']=='São Paulo']\n",
    "city.drop(['state_code','region','state','date','health_region_code'], axis=1,inplace=True)"
   ]
  },
  {
   "cell_type": "code",
   "execution_count": null,
   "metadata": {
    "_kg_hide-input": true
   },
   "outputs": [],
   "source": [
    "city_top_50 = city.sort_values(by='deaths', ascending=False)[:50]\n",
    "city_top_50 = city_top_50.sort_values(by='Morte 100 mil', ascending=False)"
   ]
  },
  {
   "cell_type": "code",
   "execution_count": null,
   "metadata": {
    "_kg_hide-input": true
   },
   "outputs": [],
   "source": [
    "plt.figure(figsize=(15,15))\n",
    "plt.title('Cidades com maior taxa de morte p/ 100 mil habitantes')\n",
    "sns.barplot(x='Morte 100 mil',y='name',data=city_top_50)\n",
    "plt.ylabel('Cidades')\n",
    "plt.xlabel('Morte p/ 100 mil habitantes')"
   ]
  },
  {
   "cell_type": "code",
   "execution_count": null,
   "metadata": {
    "_kg_hide-input": true
   },
   "outputs": [],
   "source": [
    "city10 = city.sort_values(by='deaths', ascending=False)[:10]\n",
    "labels = city10['name']\n",
    "casos=city10['cases']\n",
    "mortes=city10['deaths']\n",
    "x = np.arange(len(labels))\n",
    "width = 0.35\n",
    "\n",
    "fig, ax = plt.subplots(figsize=(20,8))\n",
    "rects1 = ax.bar(x - width/2, casos, width, label='Casos')\n",
    "rects2 = ax.bar(x + width/2, mortes, width, label='Mortes')\n",
    "ax.legend()\n",
    "ax.set_ylabel('Casos confirmados escala em log*')\n",
    "ax.set_title('Cidades com mais mortes')\n",
    "ax.set_xticks(x)\n",
    "ax.set_xticklabels(labels)\n",
    "ax.set_yscale('log')\n",
    "\n",
    "autolabel(rects1)\n",
    "autolabel(rects2)\n"
   ]
  },
  {
   "cell_type": "markdown",
   "metadata": {},
   "source": [
    "**No gráfico abaixo a correlação entre população e número de casos das cidades**"
   ]
  },
  {
   "cell_type": "code",
   "execution_count": null,
   "metadata": {},
   "outputs": [],
   "source": [
    "sns.jointplot(x='population',y='cases',data=city, kind='reg',dropna=True, xlim=(-0,500000), ylim=(-0,1700), height=8)\n",
    "print(city['population'].corr(city['cases']))"
   ]
  },
  {
   "cell_type": "code",
   "execution_count": null,
   "metadata": {
    "_kg_hide-input": true
   },
   "outputs": [],
   "source": [
    "# definição das variáveis , cidades da região\n",
    "sp = cities[cities['state']=='São Paulo']\n",
    "rio_claro = sp[sp['name']== 'Rio Claro']\n",
    "piracicaba = sp[sp['name']== 'Piracicaba']\n",
    "araras = sp[sp['name']== 'Araras']\n",
    "limeira = sp[sp['name']=='Limeira']\n",
    "\n",
    "leme = sp[sp['name']=='Leme']\n",
    "sao_carlos = sp[sp['name'] == 'São Carlos']\n",
    "araraquara = sp[sp['name']== 'Araraquara']\n",
    "\n",
    "dstartcases = datetime.datetime(2020, 3, 28)\n",
    "dstartdeaths = datetime.datetime(2020, 4,7)"
   ]
  },
  {
   "cell_type": "code",
   "execution_count": null,
   "metadata": {
    "_kg_hide-input": true,
    "_kg_hide-output": false
   },
   "outputs": [],
   "source": [
    "fig, ax = plt.subplots(2,2,figsize=(25,14))\n",
    "\n",
    "ax[0,0].set_title('Casos de Covid-19 na Região')\n",
    "ax[0,0] = sns.lineplot(x='date', y='cases', data=rio_claro,label='Rio Claro', ax=ax[0,0])\n",
    "ax[0,0] = sns.lineplot(x='date', y='cases', data=piracicaba, label='Piracicaba', ax=ax[0,0])\n",
    "ax[0,0] = sns.lineplot(x='date', y='cases', data=araras, label='Araras', ax=ax[0,0])\n",
    "ax[0,0] = sns.lineplot(x='date', y='cases', data=limeira, label='Limeira', ax=ax[0,0])\n",
    "ax[0,0].set_xlim(xmin=dstartcases)\n",
    "ax[0,0].set_ylabel('Casos')\n",
    "ax[0,0].set_xlabel('Data')\n",
    "# plt.ylabel('Casos Confirmados')\n",
    "\n",
    "ax[0,1].set_title('Mortes confirmadas pelo Covid-19 na Região')\n",
    "ax[0,1] = sns.lineplot(x='date', y='deaths', data=rio_claro,label='Rio Claro', ax=ax[0,1])\n",
    "ax[0,1] = sns.lineplot(x='date', y='deaths', data=piracicaba, label='Piracicaba', ax=ax[0,1])\n",
    "ax[0,1] = sns.lineplot(x='date', y='deaths', data=araras, label='Araras',ax=ax[0,1])\n",
    "ax[0,1] = sns.lineplot(x='date', y='deaths', data=limeira, label='Limeira',ax=ax[0,1])\n",
    "ax[0,1].set_xlim(xmin=dstartdeaths)\n",
    "ax[0,1].set_ylabel('Mortes')\n",
    "ax[0,1].set_xlabel('Data')\n",
    "\n",
    "\n",
    "ax[1,0].set_title('Mortes por 100 mil habitantes')\n",
    "ax[1,0] = sns.lineplot(x='date', y='Morte 100 mil', data=rio_claro,label='Rio Claro', ax=ax[1,0])\n",
    "ax[1,0] = sns.lineplot(x='date', y='Morte 100 mil', data=piracicaba, label='Piracicaba', ax=ax[1,0])\n",
    "ax[1,0] = sns.lineplot(x='date', y='Morte 100 mil', data=araras, label='Araras',ax=ax[1,0])\n",
    "ax[1,0] = sns.lineplot(x='date', y='Morte 100 mil', data=limeira, label='Limeira',ax=ax[1,0])\n",
    "ax[1,0].set_xlim(xmin=dstartdeaths)\n",
    "ax[1,0].set_ylabel('Mortes')\n",
    "ax[1,0].set_xlabel('Data')\n",
    "\n",
    "ax[1,1].set_title('Letalidade')\n",
    "ax[1,1] = sns.lineplot(x='date', y='letalidade', data=rio_claro,label='Rio Claro', ax=ax[1,1])\n",
    "ax[1,1] = sns.lineplot(x='date', y='letalidade', data=piracicaba, label='Piracicaba', ax=ax[1,1])\n",
    "ax[1,1]= sns.lineplot(x='date', y='letalidade', data=araras, label='Araras',ax=ax[1,1])\n",
    "ax[1,1] = sns.lineplot(x='date', y='letalidade', data=limeira, label='Limeira',ax=ax[1,1])\n",
    "ax[1,1].set_xlim(xmin=dstartdeaths)\n",
    "ax[1,1].set_ylabel('Letalidade em %')\n",
    "ax[1,1].set_xlabel('Data')"
   ]
  },
  {
   "cell_type": "code",
   "execution_count": null,
   "metadata": {
    "_kg_hide-input": true
   },
   "outputs": [],
   "source": [
    "fig, ax = plt.subplots(2,2,figsize=(25,14))\n",
    "\n",
    "ax[0,0].set_title('Casos de Covid-19 na Região')\n",
    "ax[0,0] = sns.lineplot(x='date', y='cases', data=rio_claro,label='Rio Claro', ax=ax[0,0])\n",
    "ax[0,0] = sns.lineplot(x='date', y='cases', data=leme, label='Leme', ax=ax[0,0])\n",
    "ax[0,0] = sns.lineplot(x='date', y='cases', data=araraquara, label='Araraquara', ax=ax[0,0])\n",
    "ax[0,0] = sns.lineplot(x='date', y='cases', data=sao_carlos, label='São Carlos', ax=ax[0,0])\n",
    "ax[0,0].set_xlim(xmin=dstartcases)\n",
    "ax[0,0].set_ylabel('Casos')\n",
    "ax[0,0].set_xlabel('Data')\n",
    "# plt.ylabel('Casos Confirmados')\n",
    "\n",
    "ax[0,1].set_title('Mortes confirmadas pelo Covid-19 na Região')\n",
    "ax[0,1] = sns.lineplot(x='date', y='deaths', data=rio_claro,label='Rio Claro', ax=ax[0,1])\n",
    "ax[0,1] = sns.lineplot(x='date', y='deaths', data=leme, label='Leme', ax=ax[0,1])\n",
    "ax[0,1] = sns.lineplot(x='date', y='deaths', data=araraquara, label='Araraquara',ax=ax[0,1])\n",
    "ax[0,1] = sns.lineplot(x='date', y='deaths', data=sao_carlos, label='São Carlos',ax=ax[0,1])\n",
    "ax[0,1].set_xlim(xmin=dstartdeaths)\n",
    "ax[0,1].set_ylabel('Mortes')\n",
    "ax[0,1].set_xlabel('Data')\n",
    "\n",
    "\n",
    "ax[1,0].set_title('Mortes por 100 mil habitantes')\n",
    "ax[1,0] = sns.lineplot(x='date', y='Morte 100 mil', data=rio_claro,label='Rio Claro', ax=ax[1,0])\n",
    "ax[1,0] = sns.lineplot(x='date', y='Morte 100 mil', data=leme, label='Leme', ax=ax[1,0])\n",
    "ax[1,0] = sns.lineplot(x='date', y='Morte 100 mil', data=araraquara, label='Araraquara',ax=ax[1,0])\n",
    "ax[1,0] = sns.lineplot(x='date', y='Morte 100 mil', data=sao_carlos, label='São Carlos',ax=ax[1,0])\n",
    "ax[1,0].set_xlim(xmin=dstartdeaths)\n",
    "ax[1,0].set_ylabel('Mortes')\n",
    "ax[1,0].set_xlabel('Data')\n",
    "\n",
    "ax[1,1].set_title('Letalidade')\n",
    "ax[1,1] = sns.lineplot(x='date', y='letalidade', data=rio_claro,label='Rio Claro', ax=ax[1,1])\n",
    "ax[1,1] = sns.lineplot(x='date', y='letalidade', data=leme, label='Leme', ax=ax[1,1])\n",
    "ax[1,1]= sns.lineplot(x='date', y='letalidade', data=araraquara, label='Araraquara',ax=ax[1,1])\n",
    "ax[1,1] = sns.lineplot(x='date', y='letalidade', data=sao_carlos, label='São Carlos',ax=ax[1,1])\n",
    "ax[1,1].set_xlim(xmin=dstartdeaths)\n",
    "ax[1,1].set_ylabel('Letalidade em %')\n",
    "ax[1,1].set_xlabel('Data')"
   ]
  },
  {
   "cell_type": "markdown",
   "metadata": {},
   "source": [
    "Nos dados das cidades podemos verificar que:\n",
    "\n",
    "1. Rio Claro apresenta muitos poucos casos, porém grandes quantidades de mortes em relação as outras cidades.\n",
    "2. A taxa de mortalidade por 100 mil habitantes é alta, ficando juntamente com Piracicaba nas 50 cidades com alta taxa de mortalidade p/ 100 mil habitantes\n",
    "3. A taxa de letalidade da cidade de Rio Claro apresenta uma tendência a queda, enquanto das outras estão se mantendo.\n",
    "3. Estudos futuros poderão ser feitos para verificar a idade média entre a população das cidades. Esse pode ser um fator relevante para o número de óbitos.\n",
    "\n",
    "Vale ressaltar que: Os dados de casos, são divergentes do que a secretaria da cidade de Rio Claro apresenta, podendo ser por atrasos ao enviar os dados as secretarias, ou então a divergência entre casos oficiais e de testes rápidos.\n"
   ]
  },
  {
   "cell_type": "markdown",
   "metadata": {},
   "source": [
    "**Conclusão**\n",
    "\n",
    "1. Os dados mostram que São Paulo apesar de ter o maior número de casos e mortes, não possui o maior taxa de mortalidade por 1 milhão de habitantes.\n",
    "2. O PIB per capita tem uma baixa correlação negativa a letalidade e morte por milhão\n",
    "3. Estados que apresentam um maior PIB per capita tendem a ter uma menor taxa de morte por milhão\n",
    "4. A quarentena aplicada logo no início em São Paulo, mostra que surgiu efeitos positivos\n",
    "5. Estados da região norte e nordeste estão entre os mais afetados pela pandemia"
   ]
  }
 ],
 "metadata": {
  "kernelspec": {
   "display_name": "Python 3",
   "language": "python",
   "name": "python3"
  },
  "language_info": {
   "codemirror_mode": {
    "name": "ipython",
    "version": 3
   },
   "file_extension": ".py",
   "mimetype": "text/x-python",
   "name": "python",
   "nbconvert_exporter": "python",
   "pygments_lexer": "ipython3",
   "version": "3.7.6"
  }
 },
 "nbformat": 4,
 "nbformat_minor": 4
}
